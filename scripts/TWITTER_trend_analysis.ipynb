{
 "cells": [
  {
   "cell_type": "code",
   "execution_count": 1,
   "id": "ed2ba6bb",
   "metadata": {
    "scrolled": true
   },
   "outputs": [
    {
     "name": "stderr",
     "output_type": "stream",
     "text": [
      "[nltk_data] Downloading package stopwords to\n",
      "[nltk_data]     C:\\Users\\user\\AppData\\Roaming\\nltk_data...\n",
      "[nltk_data]   Package stopwords is already up-to-date!\n"
     ]
    }
   ],
   "source": [
    "import pandas as pd \n",
    "import numpy as np \n",
    "import os \n",
    "import tomotopy as tp\n",
    "import nltk\n",
    "import string\n",
    "from nltk.corpus import stopwords\n",
    "from nltk.stem.porter import PorterStemmer\n",
    "from langdetect import detect \n",
    "import time\n",
    "import plotly.express as px\n",
    "from datetime import datetime\n",
    "\n",
    "nltk.download('stopwords')\n",
    "stop_words = stopwords.words('english')\n",
    "porter = PorterStemmer()\n"
   ]
  },
  {
   "cell_type": "code",
   "execution_count": 2,
   "id": "eea87dc2",
   "metadata": {},
   "outputs": [],
   "source": [
    "def preprocessing_text(indx, text): \n",
    "    if indx%10000==0:\n",
    "        print(indx)\n",
    "    text = text.lower()\n",
    "    text.replace('@','')\n",
    "    text_p = \"\".join([char for char in text if char not in string.punctuation])\n",
    "    words = text_p.strip().split()\n",
    "    filtered_words = [word for word in words if word not in stop_words]\n",
    "    filtered_words = [word for word in filtered_words if len(word) >2]\n",
    "    filtered_words = [word for word in filtered_words if word[0:4] !='http']\n",
    "    stemmed = [porter.stem(word) for word in filtered_words]\n",
    "   # stemmed = filtered_words\n",
    "    try:\n",
    "        stemmed.remove('rt')\n",
    "    except:\n",
    "        pass\n",
    "    return stemmed\n",
    "\n",
    "\n",
    "def twitter_datetime_preprocess(dt_obj):\n",
    "    \n",
    "    d = datetime.strptime(dt_obj,'%a %b %d %H:%M:%S %z %Y')\n",
    "    d = datetime.strftime(d,\"%Y/%m\")\n",
    "    return d "
   ]
  },
  {
   "cell_type": "code",
   "execution_count": 3,
   "id": "3a57b044",
   "metadata": {},
   "outputs": [],
   "source": [
    "# reset directory\n",
    "os.chdir(\"C:/Users/user/Documents/LSHTM_Social_Media/\")\n",
    "\n",
    "# set input files directory\n",
    "geo_dir = 'data/twitter_prediction/data/loc/output/'\n",
    "pred_dir = 'data/twitter_prediction/data/output/'\n",
    "combined_dir ='data/twitter_prediction/data/geotagged_pred/'\n",
    "geo_files = os.listdir(geo_dir)\n",
    "pred_files = os.listdir(pred_dir)"
   ]
  },
  {
   "cell_type": "code",
   "execution_count": 4,
   "id": "0b97adb8",
   "metadata": {},
   "outputs": [],
   "source": [
    "# for tidying messy tweets\n",
    "\n",
    "def messy_tweet_id(input_id): \n",
    "    try:\n",
    "        input_id = str(int(float(input_id)))\n",
    "    except:\n",
    "        pass\n",
    "    return input_id"
   ]
  },
  {
   "cell_type": "markdown",
   "id": "d31f8b1b",
   "metadata": {},
   "source": [
    "# Gross Descriptive"
   ]
  },
  {
   "cell_type": "code",
   "execution_count": 5,
   "id": "7dfc0de3",
   "metadata": {
    "scrolled": true
   },
   "outputs": [
    {
     "name": "stdout",
     "output_type": "stream",
     "text": [
      "20200914_pred.csv\n",
      "20200915_pred.csv\n",
      "20200916_pred.csv\n",
      "20200917_pred.csv\n",
      "20200918_pred.csv\n",
      "20200919_pred.csv\n",
      "20200920_pred.csv\n"
     ]
    },
    {
     "ename": "KeyboardInterrupt",
     "evalue": "",
     "output_type": "error",
     "traceback": [
      "\u001b[1;31m---------------------------------------------------------------------------\u001b[0m",
      "\u001b[1;31mKeyboardInterrupt\u001b[0m                         Traceback (most recent call last)",
      "\u001b[1;32m<ipython-input-5-d40beff4a770>\u001b[0m in \u001b[0;36m<module>\u001b[1;34m\u001b[0m\n\u001b[0;32m      2\u001b[0m \u001b[0mrelevance_prop_agg\u001b[0m \u001b[1;33m=\u001b[0m \u001b[1;33m{\u001b[0m\u001b[1;33m}\u001b[0m\u001b[1;33m\u001b[0m\u001b[1;33m\u001b[0m\u001b[0m\n\u001b[0;32m      3\u001b[0m \u001b[1;32mfor\u001b[0m \u001b[0mindx\u001b[0m\u001b[1;33m,\u001b[0m \u001b[0mfile\u001b[0m \u001b[1;32min\u001b[0m \u001b[0menumerate\u001b[0m\u001b[1;33m(\u001b[0m\u001b[0mpred_files\u001b[0m\u001b[1;33m)\u001b[0m\u001b[1;33m:\u001b[0m\u001b[1;33m\u001b[0m\u001b[1;33m\u001b[0m\u001b[0m\n\u001b[1;32m----> 4\u001b[1;33m     \u001b[0mpred_data\u001b[0m \u001b[1;33m=\u001b[0m \u001b[0mpd\u001b[0m\u001b[1;33m.\u001b[0m\u001b[0mread_csv\u001b[0m\u001b[1;33m(\u001b[0m\u001b[0mpred_dir\u001b[0m\u001b[1;33m+\u001b[0m\u001b[0mfile\u001b[0m\u001b[1;33m)\u001b[0m\u001b[1;33m\u001b[0m\u001b[1;33m\u001b[0m\u001b[0m\n\u001b[0m\u001b[0;32m      5\u001b[0m     \u001b[0mrelevance_prop\u001b[0m \u001b[1;33m=\u001b[0m \u001b[0mlen\u001b[0m\u001b[1;33m(\u001b[0m\u001b[0mpred_data\u001b[0m\u001b[1;33m[\u001b[0m\u001b[0mpred_data\u001b[0m\u001b[1;33m[\u001b[0m\u001b[1;34m'pred_relevance'\u001b[0m\u001b[1;33m]\u001b[0m\u001b[1;33m==\u001b[0m\u001b[1;36m1\u001b[0m\u001b[1;33m]\u001b[0m\u001b[1;33m)\u001b[0m\u001b[1;33m/\u001b[0m\u001b[0mlen\u001b[0m\u001b[1;33m(\u001b[0m\u001b[0mpred_data\u001b[0m\u001b[1;33m)\u001b[0m\u001b[1;33m\u001b[0m\u001b[1;33m\u001b[0m\u001b[0m\n\u001b[0;32m      6\u001b[0m     \u001b[0mrelevance_prop_agg\u001b[0m\u001b[1;33m[\u001b[0m\u001b[0mfile\u001b[0m\u001b[1;33m[\u001b[0m\u001b[1;36m0\u001b[0m\u001b[1;33m:\u001b[0m\u001b[1;36m8\u001b[0m\u001b[1;33m]\u001b[0m\u001b[1;33m]\u001b[0m \u001b[1;33m=\u001b[0m \u001b[0mrelevance_prop\u001b[0m\u001b[1;33m\u001b[0m\u001b[1;33m\u001b[0m\u001b[0m\n",
      "\u001b[1;32m~\\anaconda3\\lib\\site-packages\\pandas\\io\\parsers.py\u001b[0m in \u001b[0;36mread_csv\u001b[1;34m(filepath_or_buffer, sep, delimiter, header, names, index_col, usecols, squeeze, prefix, mangle_dupe_cols, dtype, engine, converters, true_values, false_values, skipinitialspace, skiprows, skipfooter, nrows, na_values, keep_default_na, na_filter, verbose, skip_blank_lines, parse_dates, infer_datetime_format, keep_date_col, date_parser, dayfirst, cache_dates, iterator, chunksize, compression, thousands, decimal, lineterminator, quotechar, quoting, doublequote, escapechar, comment, encoding, dialect, error_bad_lines, warn_bad_lines, delim_whitespace, low_memory, memory_map, float_precision, storage_options)\u001b[0m\n\u001b[0;32m    608\u001b[0m     \u001b[0mkwds\u001b[0m\u001b[1;33m.\u001b[0m\u001b[0mupdate\u001b[0m\u001b[1;33m(\u001b[0m\u001b[0mkwds_defaults\u001b[0m\u001b[1;33m)\u001b[0m\u001b[1;33m\u001b[0m\u001b[1;33m\u001b[0m\u001b[0m\n\u001b[0;32m    609\u001b[0m \u001b[1;33m\u001b[0m\u001b[0m\n\u001b[1;32m--> 610\u001b[1;33m     \u001b[1;32mreturn\u001b[0m \u001b[0m_read\u001b[0m\u001b[1;33m(\u001b[0m\u001b[0mfilepath_or_buffer\u001b[0m\u001b[1;33m,\u001b[0m \u001b[0mkwds\u001b[0m\u001b[1;33m)\u001b[0m\u001b[1;33m\u001b[0m\u001b[1;33m\u001b[0m\u001b[0m\n\u001b[0m\u001b[0;32m    611\u001b[0m \u001b[1;33m\u001b[0m\u001b[0m\n\u001b[0;32m    612\u001b[0m \u001b[1;33m\u001b[0m\u001b[0m\n",
      "\u001b[1;32m~\\anaconda3\\lib\\site-packages\\pandas\\io\\parsers.py\u001b[0m in \u001b[0;36m_read\u001b[1;34m(filepath_or_buffer, kwds)\u001b[0m\n\u001b[0;32m    466\u001b[0m \u001b[1;33m\u001b[0m\u001b[0m\n\u001b[0;32m    467\u001b[0m     \u001b[1;32mwith\u001b[0m \u001b[0mparser\u001b[0m\u001b[1;33m:\u001b[0m\u001b[1;33m\u001b[0m\u001b[1;33m\u001b[0m\u001b[0m\n\u001b[1;32m--> 468\u001b[1;33m         \u001b[1;32mreturn\u001b[0m \u001b[0mparser\u001b[0m\u001b[1;33m.\u001b[0m\u001b[0mread\u001b[0m\u001b[1;33m(\u001b[0m\u001b[0mnrows\u001b[0m\u001b[1;33m)\u001b[0m\u001b[1;33m\u001b[0m\u001b[1;33m\u001b[0m\u001b[0m\n\u001b[0m\u001b[0;32m    469\u001b[0m \u001b[1;33m\u001b[0m\u001b[0m\n\u001b[0;32m    470\u001b[0m \u001b[1;33m\u001b[0m\u001b[0m\n",
      "\u001b[1;32m~\\anaconda3\\lib\\site-packages\\pandas\\io\\parsers.py\u001b[0m in \u001b[0;36mread\u001b[1;34m(self, nrows)\u001b[0m\n\u001b[0;32m   1055\u001b[0m     \u001b[1;32mdef\u001b[0m \u001b[0mread\u001b[0m\u001b[1;33m(\u001b[0m\u001b[0mself\u001b[0m\u001b[1;33m,\u001b[0m \u001b[0mnrows\u001b[0m\u001b[1;33m=\u001b[0m\u001b[1;32mNone\u001b[0m\u001b[1;33m)\u001b[0m\u001b[1;33m:\u001b[0m\u001b[1;33m\u001b[0m\u001b[1;33m\u001b[0m\u001b[0m\n\u001b[0;32m   1056\u001b[0m         \u001b[0mnrows\u001b[0m \u001b[1;33m=\u001b[0m \u001b[0mvalidate_integer\u001b[0m\u001b[1;33m(\u001b[0m\u001b[1;34m\"nrows\"\u001b[0m\u001b[1;33m,\u001b[0m \u001b[0mnrows\u001b[0m\u001b[1;33m)\u001b[0m\u001b[1;33m\u001b[0m\u001b[1;33m\u001b[0m\u001b[0m\n\u001b[1;32m-> 1057\u001b[1;33m         \u001b[0mindex\u001b[0m\u001b[1;33m,\u001b[0m \u001b[0mcolumns\u001b[0m\u001b[1;33m,\u001b[0m \u001b[0mcol_dict\u001b[0m \u001b[1;33m=\u001b[0m \u001b[0mself\u001b[0m\u001b[1;33m.\u001b[0m\u001b[0m_engine\u001b[0m\u001b[1;33m.\u001b[0m\u001b[0mread\u001b[0m\u001b[1;33m(\u001b[0m\u001b[0mnrows\u001b[0m\u001b[1;33m)\u001b[0m\u001b[1;33m\u001b[0m\u001b[1;33m\u001b[0m\u001b[0m\n\u001b[0m\u001b[0;32m   1058\u001b[0m \u001b[1;33m\u001b[0m\u001b[0m\n\u001b[0;32m   1059\u001b[0m         \u001b[1;32mif\u001b[0m \u001b[0mindex\u001b[0m \u001b[1;32mis\u001b[0m \u001b[1;32mNone\u001b[0m\u001b[1;33m:\u001b[0m\u001b[1;33m\u001b[0m\u001b[1;33m\u001b[0m\u001b[0m\n",
      "\u001b[1;32m~\\anaconda3\\lib\\site-packages\\pandas\\io\\parsers.py\u001b[0m in \u001b[0;36mread\u001b[1;34m(self, nrows)\u001b[0m\n\u001b[0;32m   2059\u001b[0m     \u001b[1;32mdef\u001b[0m \u001b[0mread\u001b[0m\u001b[1;33m(\u001b[0m\u001b[0mself\u001b[0m\u001b[1;33m,\u001b[0m \u001b[0mnrows\u001b[0m\u001b[1;33m=\u001b[0m\u001b[1;32mNone\u001b[0m\u001b[1;33m)\u001b[0m\u001b[1;33m:\u001b[0m\u001b[1;33m\u001b[0m\u001b[1;33m\u001b[0m\u001b[0m\n\u001b[0;32m   2060\u001b[0m         \u001b[1;32mtry\u001b[0m\u001b[1;33m:\u001b[0m\u001b[1;33m\u001b[0m\u001b[1;33m\u001b[0m\u001b[0m\n\u001b[1;32m-> 2061\u001b[1;33m             \u001b[0mdata\u001b[0m \u001b[1;33m=\u001b[0m \u001b[0mself\u001b[0m\u001b[1;33m.\u001b[0m\u001b[0m_reader\u001b[0m\u001b[1;33m.\u001b[0m\u001b[0mread\u001b[0m\u001b[1;33m(\u001b[0m\u001b[0mnrows\u001b[0m\u001b[1;33m)\u001b[0m\u001b[1;33m\u001b[0m\u001b[1;33m\u001b[0m\u001b[0m\n\u001b[0m\u001b[0;32m   2062\u001b[0m         \u001b[1;32mexcept\u001b[0m \u001b[0mStopIteration\u001b[0m\u001b[1;33m:\u001b[0m\u001b[1;33m\u001b[0m\u001b[1;33m\u001b[0m\u001b[0m\n\u001b[0;32m   2063\u001b[0m             \u001b[1;32mif\u001b[0m \u001b[0mself\u001b[0m\u001b[1;33m.\u001b[0m\u001b[0m_first_chunk\u001b[0m\u001b[1;33m:\u001b[0m\u001b[1;33m\u001b[0m\u001b[1;33m\u001b[0m\u001b[0m\n",
      "\u001b[1;32mpandas\\_libs\\parsers.pyx\u001b[0m in \u001b[0;36mpandas._libs.parsers.TextReader.read\u001b[1;34m()\u001b[0m\n",
      "\u001b[1;32mpandas\\_libs\\parsers.pyx\u001b[0m in \u001b[0;36mpandas._libs.parsers.TextReader._read_low_memory\u001b[1;34m()\u001b[0m\n",
      "\u001b[1;32mpandas\\_libs\\parsers.pyx\u001b[0m in \u001b[0;36mpandas._libs.parsers.TextReader._read_rows\u001b[1;34m()\u001b[0m\n",
      "\u001b[1;32mpandas\\_libs\\parsers.pyx\u001b[0m in \u001b[0;36mpandas._libs.parsers.TextReader._convert_column_data\u001b[1;34m()\u001b[0m\n",
      "\u001b[1;32mpandas\\_libs\\parsers.pyx\u001b[0m in \u001b[0;36mpandas._libs.parsers.TextReader._convert_tokens\u001b[1;34m()\u001b[0m\n",
      "\u001b[1;32mpandas\\_libs\\parsers.pyx\u001b[0m in \u001b[0;36mpandas._libs.parsers.TextReader._convert_with_dtype\u001b[1;34m()\u001b[0m\n",
      "\u001b[1;32m~\\anaconda3\\lib\\site-packages\\pandas\\core\\dtypes\\common.py\u001b[0m in \u001b[0;36mis_categorical_dtype\u001b[1;34m(arr_or_dtype)\u001b[0m\n\u001b[0;32m    562\u001b[0m     \u001b[1;32mTrue\u001b[0m\u001b[1;33m\u001b[0m\u001b[1;33m\u001b[0m\u001b[0m\n\u001b[0;32m    563\u001b[0m     \"\"\"\n\u001b[1;32m--> 564\u001b[1;33m     \u001b[1;32mif\u001b[0m \u001b[0misinstance\u001b[0m\u001b[1;33m(\u001b[0m\u001b[0marr_or_dtype\u001b[0m\u001b[1;33m,\u001b[0m \u001b[0mExtensionDtype\u001b[0m\u001b[1;33m)\u001b[0m\u001b[1;33m:\u001b[0m\u001b[1;33m\u001b[0m\u001b[1;33m\u001b[0m\u001b[0m\n\u001b[0m\u001b[0;32m    565\u001b[0m         \u001b[1;31m# GH#33400 fastpath for dtype object\u001b[0m\u001b[1;33m\u001b[0m\u001b[1;33m\u001b[0m\u001b[1;33m\u001b[0m\u001b[0m\n\u001b[0;32m    566\u001b[0m         \u001b[1;32mreturn\u001b[0m \u001b[0marr_or_dtype\u001b[0m\u001b[1;33m.\u001b[0m\u001b[0mname\u001b[0m \u001b[1;33m==\u001b[0m \u001b[1;34m\"category\"\u001b[0m\u001b[1;33m\u001b[0m\u001b[1;33m\u001b[0m\u001b[0m\n",
      "\u001b[1;31mKeyboardInterrupt\u001b[0m: "
     ]
    }
   ],
   "source": [
    "# read in files\n",
    "relevance_prop_agg = {}\n",
    "for indx, file in enumerate(pred_files):\n",
    "    pred_data = pd.read_csv(pred_dir+file)\n",
    "    relevance_prop = len(pred_data[pred_data['pred_relevance']==1])/len(pred_data)\n",
    "    relevance_prop_agg[file[0:8]] = relevance_prop\n",
    "    print(file)\n",
    "\n",
    "\n",
    "# clean data \n",
    "relevance_prop_agg = pd.DataFrame({'date':list(relevance_prop_agg.keys()),'prop': list(relevance_prop_agg.values())})\n",
    "relevance_prop_agg['date'] = relevance_prop_agg['date'].map(lambda x: datetime.strptime(x,'%Y%m%d'))\n",
    "\n",
    "# plot proportion of relevant twitter posts\n",
    "fig = px.line(relevance_prop_agg, x='date', y='prop', template = 'simple_white')\n",
    "fig.update_traces(line_color='#12222F')\n",
    "fig.update_layout(template='simple_white', title= dict(text='Proportion of Twitter Posts Being Relevant to COVID Vaccines'))\n",
    "fig.update_xaxes(title_text = 'Date')\n",
    "fig.update_yaxes(title_text = 'Count')\n",
    "fig.show()\n",
    "\n",
    "# plot number of twitter posts collected \n",
    "line_df = pd.read_csv(\"data/twittter_file_count.csv\")\n",
    "line_df['file'] = line_df['file'].map(lambda x: x.split('-')[2][0:8])\n",
    "line_df['file'] = line_df['file'].map(lambda x:datetime.strptime(x,'%Y%m%d'))\n",
    "line_df.drop('Unnamed: 0',1, inplace=True)\n",
    "line_df.columns = ['Date', 'Count']\n",
    "\n",
    "fig = px.line(line_df, x='Date', y='Count', template = 'simple_white')\n",
    "fig.update_traces(line_color='#12222F')\n",
    "fig.update_layout(template='simple_white', title= dict(text='Total Number of Twitter Posts Collected'))\n",
    "fig.update_xaxes(title_text = 'Date')\n",
    "fig.update_yaxes(title_text = 'Count')\n",
    "fig.show()"
   ]
  },
  {
   "cell_type": "code",
   "execution_count": 14,
   "id": "7fa204a9",
   "metadata": {
    "collapsed": true
   },
   "outputs": [
    {
     "name": "stdout",
     "output_type": "stream",
     "text": [
      "20200914_pred.csv\n",
      "5058\n",
      "20200915_pred.csv\n",
      "2914\n",
      "20200916_pred.csv\n",
      "2635\n"
     ]
    },
    {
     "name": "stderr",
     "output_type": "stream",
     "text": [
      "C:\\Users\\user\\anaconda3\\lib\\site-packages\\IPython\\core\\interactiveshell.py:3165: DtypeWarning:\n",
      "\n",
      "Columns (3) have mixed types.Specify dtype option on import or set low_memory=False.\n",
      "\n"
     ]
    },
    {
     "name": "stdout",
     "output_type": "stream",
     "text": [
      "20200917_pred.csv\n",
      "3453\n"
     ]
    },
    {
     "ename": "ParserError",
     "evalue": "Error tokenizing data. C error: Calling read(nbytes) on source failed. Try engine='python'.",
     "output_type": "error",
     "traceback": [
      "\u001b[1;31m---------------------------------------------------------------------------\u001b[0m",
      "\u001b[1;31mParserError\u001b[0m                               Traceback (most recent call last)",
      "\u001b[1;32m<ipython-input-14-0d0807b11291>\u001b[0m in \u001b[0;36m<module>\u001b[1;34m\u001b[0m\n\u001b[0;32m      2\u001b[0m \u001b[1;33m\u001b[0m\u001b[0m\n\u001b[0;32m      3\u001b[0m \u001b[1;32mfor\u001b[0m \u001b[0mindx\u001b[0m\u001b[1;33m,\u001b[0m \u001b[0mfile\u001b[0m \u001b[1;32min\u001b[0m \u001b[0menumerate\u001b[0m\u001b[1;33m(\u001b[0m\u001b[0mpred_files\u001b[0m\u001b[1;33m)\u001b[0m\u001b[1;33m:\u001b[0m\u001b[1;33m\u001b[0m\u001b[1;33m\u001b[0m\u001b[0m\n\u001b[1;32m----> 4\u001b[1;33m     \u001b[0mpred_data\u001b[0m \u001b[1;33m=\u001b[0m \u001b[0mpd\u001b[0m\u001b[1;33m.\u001b[0m\u001b[0mread_csv\u001b[0m\u001b[1;33m(\u001b[0m\u001b[0mpred_dir\u001b[0m\u001b[1;33m+\u001b[0m\u001b[0mfile\u001b[0m\u001b[1;33m)\u001b[0m\u001b[1;33m\u001b[0m\u001b[1;33m\u001b[0m\u001b[0m\n\u001b[0m\u001b[0;32m      5\u001b[0m     \u001b[0mgeo_data\u001b[0m \u001b[1;33m=\u001b[0m \u001b[0mpd\u001b[0m\u001b[1;33m.\u001b[0m\u001b[0mread_csv\u001b[0m\u001b[1;33m(\u001b[0m\u001b[0mgeo_dir\u001b[0m\u001b[1;33m+\u001b[0m \u001b[1;34mf'{indx}_geo.csv'\u001b[0m\u001b[1;33m)\u001b[0m\u001b[1;33m\u001b[0m\u001b[1;33m\u001b[0m\u001b[0m\n\u001b[0;32m      6\u001b[0m     \u001b[0mpred_data\u001b[0m \u001b[1;33m=\u001b[0m \u001b[0mpred_data\u001b[0m\u001b[1;33m.\u001b[0m\u001b[0mdrop\u001b[0m\u001b[1;33m(\u001b[0m\u001b[1;34m'Unnamed: 0'\u001b[0m\u001b[1;33m,\u001b[0m\u001b[1;36m1\u001b[0m\u001b[1;33m)\u001b[0m\u001b[1;33m\u001b[0m\u001b[1;33m\u001b[0m\u001b[0m\n",
      "\u001b[1;32m~\\anaconda3\\lib\\site-packages\\pandas\\io\\parsers.py\u001b[0m in \u001b[0;36mread_csv\u001b[1;34m(filepath_or_buffer, sep, delimiter, header, names, index_col, usecols, squeeze, prefix, mangle_dupe_cols, dtype, engine, converters, true_values, false_values, skipinitialspace, skiprows, skipfooter, nrows, na_values, keep_default_na, na_filter, verbose, skip_blank_lines, parse_dates, infer_datetime_format, keep_date_col, date_parser, dayfirst, cache_dates, iterator, chunksize, compression, thousands, decimal, lineterminator, quotechar, quoting, doublequote, escapechar, comment, encoding, dialect, error_bad_lines, warn_bad_lines, delim_whitespace, low_memory, memory_map, float_precision, storage_options)\u001b[0m\n\u001b[0;32m    608\u001b[0m     \u001b[0mkwds\u001b[0m\u001b[1;33m.\u001b[0m\u001b[0mupdate\u001b[0m\u001b[1;33m(\u001b[0m\u001b[0mkwds_defaults\u001b[0m\u001b[1;33m)\u001b[0m\u001b[1;33m\u001b[0m\u001b[1;33m\u001b[0m\u001b[0m\n\u001b[0;32m    609\u001b[0m \u001b[1;33m\u001b[0m\u001b[0m\n\u001b[1;32m--> 610\u001b[1;33m     \u001b[1;32mreturn\u001b[0m \u001b[0m_read\u001b[0m\u001b[1;33m(\u001b[0m\u001b[0mfilepath_or_buffer\u001b[0m\u001b[1;33m,\u001b[0m \u001b[0mkwds\u001b[0m\u001b[1;33m)\u001b[0m\u001b[1;33m\u001b[0m\u001b[1;33m\u001b[0m\u001b[0m\n\u001b[0m\u001b[0;32m    611\u001b[0m \u001b[1;33m\u001b[0m\u001b[0m\n\u001b[0;32m    612\u001b[0m \u001b[1;33m\u001b[0m\u001b[0m\n",
      "\u001b[1;32m~\\anaconda3\\lib\\site-packages\\pandas\\io\\parsers.py\u001b[0m in \u001b[0;36m_read\u001b[1;34m(filepath_or_buffer, kwds)\u001b[0m\n\u001b[0;32m    466\u001b[0m \u001b[1;33m\u001b[0m\u001b[0m\n\u001b[0;32m    467\u001b[0m     \u001b[1;32mwith\u001b[0m \u001b[0mparser\u001b[0m\u001b[1;33m:\u001b[0m\u001b[1;33m\u001b[0m\u001b[1;33m\u001b[0m\u001b[0m\n\u001b[1;32m--> 468\u001b[1;33m         \u001b[1;32mreturn\u001b[0m \u001b[0mparser\u001b[0m\u001b[1;33m.\u001b[0m\u001b[0mread\u001b[0m\u001b[1;33m(\u001b[0m\u001b[0mnrows\u001b[0m\u001b[1;33m)\u001b[0m\u001b[1;33m\u001b[0m\u001b[1;33m\u001b[0m\u001b[0m\n\u001b[0m\u001b[0;32m    469\u001b[0m \u001b[1;33m\u001b[0m\u001b[0m\n\u001b[0;32m    470\u001b[0m \u001b[1;33m\u001b[0m\u001b[0m\n",
      "\u001b[1;32m~\\anaconda3\\lib\\site-packages\\pandas\\io\\parsers.py\u001b[0m in \u001b[0;36mread\u001b[1;34m(self, nrows)\u001b[0m\n\u001b[0;32m   1055\u001b[0m     \u001b[1;32mdef\u001b[0m \u001b[0mread\u001b[0m\u001b[1;33m(\u001b[0m\u001b[0mself\u001b[0m\u001b[1;33m,\u001b[0m \u001b[0mnrows\u001b[0m\u001b[1;33m=\u001b[0m\u001b[1;32mNone\u001b[0m\u001b[1;33m)\u001b[0m\u001b[1;33m:\u001b[0m\u001b[1;33m\u001b[0m\u001b[1;33m\u001b[0m\u001b[0m\n\u001b[0;32m   1056\u001b[0m         \u001b[0mnrows\u001b[0m \u001b[1;33m=\u001b[0m \u001b[0mvalidate_integer\u001b[0m\u001b[1;33m(\u001b[0m\u001b[1;34m\"nrows\"\u001b[0m\u001b[1;33m,\u001b[0m \u001b[0mnrows\u001b[0m\u001b[1;33m)\u001b[0m\u001b[1;33m\u001b[0m\u001b[1;33m\u001b[0m\u001b[0m\n\u001b[1;32m-> 1057\u001b[1;33m         \u001b[0mindex\u001b[0m\u001b[1;33m,\u001b[0m \u001b[0mcolumns\u001b[0m\u001b[1;33m,\u001b[0m \u001b[0mcol_dict\u001b[0m \u001b[1;33m=\u001b[0m \u001b[0mself\u001b[0m\u001b[1;33m.\u001b[0m\u001b[0m_engine\u001b[0m\u001b[1;33m.\u001b[0m\u001b[0mread\u001b[0m\u001b[1;33m(\u001b[0m\u001b[0mnrows\u001b[0m\u001b[1;33m)\u001b[0m\u001b[1;33m\u001b[0m\u001b[1;33m\u001b[0m\u001b[0m\n\u001b[0m\u001b[0;32m   1058\u001b[0m \u001b[1;33m\u001b[0m\u001b[0m\n\u001b[0;32m   1059\u001b[0m         \u001b[1;32mif\u001b[0m \u001b[0mindex\u001b[0m \u001b[1;32mis\u001b[0m \u001b[1;32mNone\u001b[0m\u001b[1;33m:\u001b[0m\u001b[1;33m\u001b[0m\u001b[1;33m\u001b[0m\u001b[0m\n",
      "\u001b[1;32m~\\anaconda3\\lib\\site-packages\\pandas\\io\\parsers.py\u001b[0m in \u001b[0;36mread\u001b[1;34m(self, nrows)\u001b[0m\n\u001b[0;32m   2059\u001b[0m     \u001b[1;32mdef\u001b[0m \u001b[0mread\u001b[0m\u001b[1;33m(\u001b[0m\u001b[0mself\u001b[0m\u001b[1;33m,\u001b[0m \u001b[0mnrows\u001b[0m\u001b[1;33m=\u001b[0m\u001b[1;32mNone\u001b[0m\u001b[1;33m)\u001b[0m\u001b[1;33m:\u001b[0m\u001b[1;33m\u001b[0m\u001b[1;33m\u001b[0m\u001b[0m\n\u001b[0;32m   2060\u001b[0m         \u001b[1;32mtry\u001b[0m\u001b[1;33m:\u001b[0m\u001b[1;33m\u001b[0m\u001b[1;33m\u001b[0m\u001b[0m\n\u001b[1;32m-> 2061\u001b[1;33m             \u001b[0mdata\u001b[0m \u001b[1;33m=\u001b[0m \u001b[0mself\u001b[0m\u001b[1;33m.\u001b[0m\u001b[0m_reader\u001b[0m\u001b[1;33m.\u001b[0m\u001b[0mread\u001b[0m\u001b[1;33m(\u001b[0m\u001b[0mnrows\u001b[0m\u001b[1;33m)\u001b[0m\u001b[1;33m\u001b[0m\u001b[1;33m\u001b[0m\u001b[0m\n\u001b[0m\u001b[0;32m   2062\u001b[0m         \u001b[1;32mexcept\u001b[0m \u001b[0mStopIteration\u001b[0m\u001b[1;33m:\u001b[0m\u001b[1;33m\u001b[0m\u001b[1;33m\u001b[0m\u001b[0m\n\u001b[0;32m   2063\u001b[0m             \u001b[1;32mif\u001b[0m \u001b[0mself\u001b[0m\u001b[1;33m.\u001b[0m\u001b[0m_first_chunk\u001b[0m\u001b[1;33m:\u001b[0m\u001b[1;33m\u001b[0m\u001b[1;33m\u001b[0m\u001b[0m\n",
      "\u001b[1;32mpandas\\_libs\\parsers.pyx\u001b[0m in \u001b[0;36mpandas._libs.parsers.TextReader.read\u001b[1;34m()\u001b[0m\n",
      "\u001b[1;32mpandas\\_libs\\parsers.pyx\u001b[0m in \u001b[0;36mpandas._libs.parsers.TextReader._read_low_memory\u001b[1;34m()\u001b[0m\n",
      "\u001b[1;32mpandas\\_libs\\parsers.pyx\u001b[0m in \u001b[0;36mpandas._libs.parsers.TextReader._read_rows\u001b[1;34m()\u001b[0m\n",
      "\u001b[1;32mpandas\\_libs\\parsers.pyx\u001b[0m in \u001b[0;36mpandas._libs.parsers.TextReader._tokenize_rows\u001b[1;34m()\u001b[0m\n",
      "\u001b[1;32mpandas\\_libs\\parsers.pyx\u001b[0m in \u001b[0;36mpandas._libs.parsers.raise_parser_error\u001b[1;34m()\u001b[0m\n",
      "\u001b[1;31mParserError\u001b[0m: Error tokenizing data. C error: Calling read(nbytes) on source failed. Try engine='python'."
     ]
    }
   ],
   "source": [
    "# combine geotag data with tweets\n",
    "\n",
    "for indx, file in enumerate(pred_files):\n",
    "    pred_data = pd.read_csv(pred_dir+file)\n",
    "    geo_data = pd.read_csv(geo_dir+ f'{indx}_geo.csv')\n",
    "    pred_data = pred_data.drop('Unnamed: 0',1)\n",
    "    geo_data = geo_data.drop('Unnamed: 0',1)\n",
    "    geo_data['tweet_id'] = geo_data['tweet_id'].map(messy_tweet_id)\n",
    "    geo_data.drop_duplicates(inplace=True)\n",
    "    \n",
    "    combined_data = pd.merge(geo_data, pred_data, how='left', on='tweet_id')\n",
    "    combined_data = combined_data.dropna(subset=['dt'])\n",
    "    \n",
    "    relevant_num = len(combined_data[combined_data['pred_relevance']==1])\n",
    "    \n",
    "    combined_data.to_csv(combined_dir+f'{file[0:8]}_geotagged_pred.csv')\n",
    "    print(file)\n",
    "    print(relevant_num)"
   ]
  },
  {
   "cell_type": "code",
   "execution_count": 6,
   "id": "ae8bb78c",
   "metadata": {
    "scrolled": true
   },
   "outputs": [
    {
     "name": "stdout",
     "output_type": "stream",
     "text": [
      "20200914_geotagged_pred.csv\n",
      "20200915_geotagged_pred.csv\n",
      "20200916_geotagged_pred.csv\n",
      "20200917_geotagged_pred.csv\n",
      "20200918_geotagged_pred.csv\n",
      "20200919_geotagged_pred.csv\n",
      "20200920_geotagged_pred.csv\n",
      "20200921_geotagged_pred.csv\n",
      "20200922_geotagged_pred.csv\n",
      "20200923_geotagged_pred.csv\n",
      "20200924_geotagged_pred.csv\n",
      "20200925_geotagged_pred.csv\n",
      "20200926_geotagged_pred.csv\n",
      "20200927_geotagged_pred.csv\n",
      "20200928_geotagged_pred.csv\n",
      "20200929_geotagged_pred.csv\n",
      "20200930_geotagged_pred.csv\n",
      "20201001_geotagged_pred.csv\n",
      "20201002_geotagged_pred.csv\n",
      "20201003_geotagged_pred.csv\n",
      "20201004_geotagged_pred.csv\n"
     ]
    },
    {
     "name": "stderr",
     "output_type": "stream",
     "text": [
      "C:\\Users\\user\\anaconda3\\lib\\site-packages\\IPython\\core\\interactiveshell.py:3165: DtypeWarning: Columns (3) have mixed types.Specify dtype option on import or set low_memory=False.\n",
      "  has_raised = await self.run_ast_nodes(code_ast.body, cell_name,\n"
     ]
    },
    {
     "name": "stdout",
     "output_type": "stream",
     "text": [
      "20201005_geotagged_pred.csv\n",
      "20201006_geotagged_pred.csv\n",
      "20201007_geotagged_pred.csv\n",
      "20201008_geotagged_pred.csv\n"
     ]
    },
    {
     "name": "stderr",
     "output_type": "stream",
     "text": [
      "C:\\Users\\user\\anaconda3\\lib\\site-packages\\IPython\\core\\interactiveshell.py:3165: DtypeWarning: Columns (3) have mixed types.Specify dtype option on import or set low_memory=False.\n",
      "  has_raised = await self.run_ast_nodes(code_ast.body, cell_name,\n"
     ]
    },
    {
     "name": "stdout",
     "output_type": "stream",
     "text": [
      "20201009_geotagged_pred.csv\n",
      "20201010_geotagged_pred.csv\n",
      "20201011_geotagged_pred.csv\n",
      "20201012_geotagged_pred.csv\n"
     ]
    },
    {
     "name": "stderr",
     "output_type": "stream",
     "text": [
      "C:\\Users\\user\\anaconda3\\lib\\site-packages\\IPython\\core\\interactiveshell.py:3165: DtypeWarning: Columns (3) have mixed types.Specify dtype option on import or set low_memory=False.\n",
      "  has_raised = await self.run_ast_nodes(code_ast.body, cell_name,\n",
      "C:\\Users\\user\\anaconda3\\lib\\site-packages\\IPython\\core\\interactiveshell.py:3165: DtypeWarning: Columns (3) have mixed types.Specify dtype option on import or set low_memory=False.\n",
      "  has_raised = await self.run_ast_nodes(code_ast.body, cell_name,\n"
     ]
    },
    {
     "name": "stdout",
     "output_type": "stream",
     "text": [
      "20201013_geotagged_pred.csv\n",
      "20201014_geotagged_pred.csv\n",
      "20201015_geotagged_pred.csv\n",
      "20201016_geotagged_pred.csv\n",
      "20201017_geotagged_pred.csv\n",
      "20201018_geotagged_pred.csv\n"
     ]
    },
    {
     "name": "stderr",
     "output_type": "stream",
     "text": [
      "C:\\Users\\user\\anaconda3\\lib\\site-packages\\IPython\\core\\interactiveshell.py:3165: DtypeWarning: Columns (3) have mixed types.Specify dtype option on import or set low_memory=False.\n",
      "  has_raised = await self.run_ast_nodes(code_ast.body, cell_name,\n"
     ]
    },
    {
     "name": "stdout",
     "output_type": "stream",
     "text": [
      "20201019_geotagged_pred.csv\n",
      "20201020_geotagged_pred.csv\n",
      "20201021_geotagged_pred.csv\n",
      "20201022_geotagged_pred.csv\n",
      "20201023_geotagged_pred.csv\n",
      "20201024_geotagged_pred.csv\n",
      "20201025_geotagged_pred.csv\n",
      "20201026_geotagged_pred.csv\n",
      "20201027_geotagged_pred.csv\n",
      "20201028_geotagged_pred.csv\n",
      "20201029_geotagged_pred.csv\n",
      "20201030_geotagged_pred.csv\n",
      "20201031_geotagged_pred.csv\n",
      "20201101_geotagged_pred.csv\n",
      "20201102_geotagged_pred.csv\n",
      "20201103_geotagged_pred.csv\n"
     ]
    },
    {
     "name": "stderr",
     "output_type": "stream",
     "text": [
      "C:\\Users\\user\\anaconda3\\lib\\site-packages\\IPython\\core\\interactiveshell.py:3165: DtypeWarning: Columns (3) have mixed types.Specify dtype option on import or set low_memory=False.\n",
      "  has_raised = await self.run_ast_nodes(code_ast.body, cell_name,\n",
      "C:\\Users\\user\\anaconda3\\lib\\site-packages\\IPython\\core\\interactiveshell.py:3165: DtypeWarning: Columns (3) have mixed types.Specify dtype option on import or set low_memory=False.\n",
      "  has_raised = await self.run_ast_nodes(code_ast.body, cell_name,\n"
     ]
    },
    {
     "name": "stdout",
     "output_type": "stream",
     "text": [
      "20201104_geotagged_pred.csv\n",
      "20201105_geotagged_pred.csv\n"
     ]
    },
    {
     "name": "stderr",
     "output_type": "stream",
     "text": [
      "C:\\Users\\user\\anaconda3\\lib\\site-packages\\IPython\\core\\interactiveshell.py:3165: DtypeWarning: Columns (3) have mixed types.Specify dtype option on import or set low_memory=False.\n",
      "  has_raised = await self.run_ast_nodes(code_ast.body, cell_name,\n"
     ]
    },
    {
     "name": "stdout",
     "output_type": "stream",
     "text": [
      "20201106_geotagged_pred.csv\n"
     ]
    },
    {
     "name": "stderr",
     "output_type": "stream",
     "text": [
      "C:\\Users\\user\\anaconda3\\lib\\site-packages\\IPython\\core\\interactiveshell.py:3165: DtypeWarning: Columns (3) have mixed types.Specify dtype option on import or set low_memory=False.\n",
      "  has_raised = await self.run_ast_nodes(code_ast.body, cell_name,\n",
      "C:\\Users\\user\\anaconda3\\lib\\site-packages\\IPython\\core\\interactiveshell.py:3165: DtypeWarning: Columns (3) have mixed types.Specify dtype option on import or set low_memory=False.\n",
      "  has_raised = await self.run_ast_nodes(code_ast.body, cell_name,\n"
     ]
    },
    {
     "name": "stdout",
     "output_type": "stream",
     "text": [
      "20201107_geotagged_pred.csv\n",
      "20201108_geotagged_pred.csv\n"
     ]
    },
    {
     "name": "stderr",
     "output_type": "stream",
     "text": [
      "C:\\Users\\user\\anaconda3\\lib\\site-packages\\IPython\\core\\interactiveshell.py:3165: DtypeWarning: Columns (3) have mixed types.Specify dtype option on import or set low_memory=False.\n",
      "  has_raised = await self.run_ast_nodes(code_ast.body, cell_name,\n"
     ]
    },
    {
     "name": "stdout",
     "output_type": "stream",
     "text": [
      "20201109_geotagged_pred.csv\n",
      "20201110_geotagged_pred.csv\n",
      "20201111_geotagged_pred.csv\n"
     ]
    },
    {
     "name": "stderr",
     "output_type": "stream",
     "text": [
      "C:\\Users\\user\\anaconda3\\lib\\site-packages\\IPython\\core\\interactiveshell.py:3165: DtypeWarning: Columns (3) have mixed types.Specify dtype option on import or set low_memory=False.\n",
      "  has_raised = await self.run_ast_nodes(code_ast.body, cell_name,\n"
     ]
    },
    {
     "name": "stdout",
     "output_type": "stream",
     "text": [
      "20201112_geotagged_pred.csv\n",
      "20201113_geotagged_pred.csv\n",
      "20201114_geotagged_pred.csv\n"
     ]
    },
    {
     "name": "stderr",
     "output_type": "stream",
     "text": [
      "C:\\Users\\user\\anaconda3\\lib\\site-packages\\IPython\\core\\interactiveshell.py:3165: DtypeWarning: Columns (3) have mixed types.Specify dtype option on import or set low_memory=False.\n",
      "  has_raised = await self.run_ast_nodes(code_ast.body, cell_name,\n"
     ]
    },
    {
     "name": "stdout",
     "output_type": "stream",
     "text": [
      "20201115_geotagged_pred.csv\n"
     ]
    },
    {
     "name": "stderr",
     "output_type": "stream",
     "text": [
      "C:\\Users\\user\\anaconda3\\lib\\site-packages\\IPython\\core\\interactiveshell.py:3165: DtypeWarning: Columns (3) have mixed types.Specify dtype option on import or set low_memory=False.\n",
      "  has_raised = await self.run_ast_nodes(code_ast.body, cell_name,\n"
     ]
    },
    {
     "name": "stdout",
     "output_type": "stream",
     "text": [
      "20201116_geotagged_pred.csv\n",
      "20201117_geotagged_pred.csv\n"
     ]
    },
    {
     "name": "stderr",
     "output_type": "stream",
     "text": [
      "C:\\Users\\user\\anaconda3\\lib\\site-packages\\IPython\\core\\interactiveshell.py:3165: DtypeWarning: Columns (3) have mixed types.Specify dtype option on import or set low_memory=False.\n",
      "  has_raised = await self.run_ast_nodes(code_ast.body, cell_name,\n"
     ]
    },
    {
     "name": "stdout",
     "output_type": "stream",
     "text": [
      "20201118_geotagged_pred.csv\n"
     ]
    },
    {
     "name": "stderr",
     "output_type": "stream",
     "text": [
      "C:\\Users\\user\\anaconda3\\lib\\site-packages\\IPython\\core\\interactiveshell.py:3165: DtypeWarning: Columns (3) have mixed types.Specify dtype option on import or set low_memory=False.\n",
      "  has_raised = await self.run_ast_nodes(code_ast.body, cell_name,\n"
     ]
    },
    {
     "name": "stdout",
     "output_type": "stream",
     "text": [
      "20201119_geotagged_pred.csv\n"
     ]
    },
    {
     "name": "stderr",
     "output_type": "stream",
     "text": [
      "C:\\Users\\user\\anaconda3\\lib\\site-packages\\IPython\\core\\interactiveshell.py:3165: DtypeWarning: Columns (3) have mixed types.Specify dtype option on import or set low_memory=False.\n",
      "  has_raised = await self.run_ast_nodes(code_ast.body, cell_name,\n"
     ]
    },
    {
     "name": "stdout",
     "output_type": "stream",
     "text": [
      "20201120_geotagged_pred.csv\n",
      "20201121_geotagged_pred.csv\n",
      "20201122_geotagged_pred.csv\n"
     ]
    },
    {
     "name": "stderr",
     "output_type": "stream",
     "text": [
      "C:\\Users\\user\\anaconda3\\lib\\site-packages\\IPython\\core\\interactiveshell.py:3165: DtypeWarning: Columns (3) have mixed types.Specify dtype option on import or set low_memory=False.\n",
      "  has_raised = await self.run_ast_nodes(code_ast.body, cell_name,\n"
     ]
    },
    {
     "name": "stdout",
     "output_type": "stream",
     "text": [
      "20201123_geotagged_pred.csv\n"
     ]
    },
    {
     "name": "stderr",
     "output_type": "stream",
     "text": [
      "C:\\Users\\user\\anaconda3\\lib\\site-packages\\IPython\\core\\interactiveshell.py:3165: DtypeWarning: Columns (3) have mixed types.Specify dtype option on import or set low_memory=False.\n",
      "  has_raised = await self.run_ast_nodes(code_ast.body, cell_name,\n"
     ]
    },
    {
     "name": "stdout",
     "output_type": "stream",
     "text": [
      "20201124_geotagged_pred.csv\n"
     ]
    },
    {
     "name": "stderr",
     "output_type": "stream",
     "text": [
      "C:\\Users\\user\\anaconda3\\lib\\site-packages\\IPython\\core\\interactiveshell.py:3165: DtypeWarning: Columns (3) have mixed types.Specify dtype option on import or set low_memory=False.\n",
      "  has_raised = await self.run_ast_nodes(code_ast.body, cell_name,\n"
     ]
    },
    {
     "name": "stdout",
     "output_type": "stream",
     "text": [
      "20201125_geotagged_pred.csv\n"
     ]
    },
    {
     "name": "stderr",
     "output_type": "stream",
     "text": [
      "C:\\Users\\user\\anaconda3\\lib\\site-packages\\IPython\\core\\interactiveshell.py:3165: DtypeWarning: Columns (3) have mixed types.Specify dtype option on import or set low_memory=False.\n",
      "  has_raised = await self.run_ast_nodes(code_ast.body, cell_name,\n"
     ]
    },
    {
     "name": "stdout",
     "output_type": "stream",
     "text": [
      "20201126_geotagged_pred.csv\n"
     ]
    },
    {
     "name": "stderr",
     "output_type": "stream",
     "text": [
      "C:\\Users\\user\\anaconda3\\lib\\site-packages\\IPython\\core\\interactiveshell.py:3165: DtypeWarning: Columns (3) have mixed types.Specify dtype option on import or set low_memory=False.\n",
      "  has_raised = await self.run_ast_nodes(code_ast.body, cell_name,\n"
     ]
    },
    {
     "name": "stdout",
     "output_type": "stream",
     "text": [
      "20201127_geotagged_pred.csv\n",
      "20201128_geotagged_pred.csv\n",
      "20201129_geotagged_pred.csv\n"
     ]
    },
    {
     "name": "stderr",
     "output_type": "stream",
     "text": [
      "C:\\Users\\user\\anaconda3\\lib\\site-packages\\IPython\\core\\interactiveshell.py:3165: DtypeWarning: Columns (3) have mixed types.Specify dtype option on import or set low_memory=False.\n",
      "  has_raised = await self.run_ast_nodes(code_ast.body, cell_name,\n"
     ]
    },
    {
     "name": "stdout",
     "output_type": "stream",
     "text": [
      "20201130_geotagged_pred.csv\n"
     ]
    },
    {
     "name": "stderr",
     "output_type": "stream",
     "text": [
      "C:\\Users\\user\\anaconda3\\lib\\site-packages\\IPython\\core\\interactiveshell.py:3165: DtypeWarning: Columns (3) have mixed types.Specify dtype option on import or set low_memory=False.\n",
      "  has_raised = await self.run_ast_nodes(code_ast.body, cell_name,\n"
     ]
    },
    {
     "name": "stdout",
     "output_type": "stream",
     "text": [
      "20201201_geotagged_pred.csv\n"
     ]
    },
    {
     "name": "stderr",
     "output_type": "stream",
     "text": [
      "C:\\Users\\user\\anaconda3\\lib\\site-packages\\IPython\\core\\interactiveshell.py:3165: DtypeWarning: Columns (3) have mixed types.Specify dtype option on import or set low_memory=False.\n",
      "  has_raised = await self.run_ast_nodes(code_ast.body, cell_name,\n"
     ]
    },
    {
     "name": "stdout",
     "output_type": "stream",
     "text": [
      "20201202_geotagged_pred.csv\n"
     ]
    },
    {
     "name": "stderr",
     "output_type": "stream",
     "text": [
      "C:\\Users\\user\\anaconda3\\lib\\site-packages\\IPython\\core\\interactiveshell.py:3165: DtypeWarning: Columns (3) have mixed types.Specify dtype option on import or set low_memory=False.\n",
      "  has_raised = await self.run_ast_nodes(code_ast.body, cell_name,\n"
     ]
    },
    {
     "name": "stdout",
     "output_type": "stream",
     "text": [
      "20201203_geotagged_pred.csv\n"
     ]
    },
    {
     "name": "stderr",
     "output_type": "stream",
     "text": [
      "C:\\Users\\user\\anaconda3\\lib\\site-packages\\IPython\\core\\interactiveshell.py:3165: DtypeWarning: Columns (3,16,17) have mixed types.Specify dtype option on import or set low_memory=False.\n",
      "  has_raised = await self.run_ast_nodes(code_ast.body, cell_name,\n"
     ]
    },
    {
     "name": "stdout",
     "output_type": "stream",
     "text": [
      "20201204_geotagged_pred.csv\n"
     ]
    },
    {
     "name": "stderr",
     "output_type": "stream",
     "text": [
      "C:\\Users\\user\\anaconda3\\lib\\site-packages\\IPython\\core\\interactiveshell.py:3165: DtypeWarning: Columns (3) have mixed types.Specify dtype option on import or set low_memory=False.\n",
      "  has_raised = await self.run_ast_nodes(code_ast.body, cell_name,\n"
     ]
    },
    {
     "name": "stdout",
     "output_type": "stream",
     "text": [
      "20201205_geotagged_pred.csv\n"
     ]
    },
    {
     "name": "stderr",
     "output_type": "stream",
     "text": [
      "C:\\Users\\user\\anaconda3\\lib\\site-packages\\IPython\\core\\interactiveshell.py:3165: DtypeWarning: Columns (3) have mixed types.Specify dtype option on import or set low_memory=False.\n",
      "  has_raised = await self.run_ast_nodes(code_ast.body, cell_name,\n"
     ]
    },
    {
     "name": "stdout",
     "output_type": "stream",
     "text": [
      "20201206_geotagged_pred.csv\n"
     ]
    },
    {
     "name": "stderr",
     "output_type": "stream",
     "text": [
      "C:\\Users\\user\\anaconda3\\lib\\site-packages\\IPython\\core\\interactiveshell.py:3165: DtypeWarning: Columns (3) have mixed types.Specify dtype option on import or set low_memory=False.\n",
      "  has_raised = await self.run_ast_nodes(code_ast.body, cell_name,\n"
     ]
    },
    {
     "name": "stdout",
     "output_type": "stream",
     "text": [
      "20201207_geotagged_pred.csv\n",
      "20201208_geotagged_pred.csv\n",
      "20201209_geotagged_pred.csv\n",
      "20201210_geotagged_pred.csv\n",
      "20201211_geotagged_pred.csv\n",
      "20201212_geotagged_pred.csv\n",
      "20201213_geotagged_pred.csv\n",
      "20201214_geotagged_pred.csv\n"
     ]
    },
    {
     "name": "stderr",
     "output_type": "stream",
     "text": [
      "C:\\Users\\user\\anaconda3\\lib\\site-packages\\IPython\\core\\interactiveshell.py:3165: DtypeWarning: Columns (3) have mixed types.Specify dtype option on import or set low_memory=False.\n",
      "  has_raised = await self.run_ast_nodes(code_ast.body, cell_name,\n"
     ]
    },
    {
     "name": "stdout",
     "output_type": "stream",
     "text": [
      "20201215_geotagged_pred.csv\n",
      "20201216_geotagged_pred.csv\n"
     ]
    },
    {
     "name": "stderr",
     "output_type": "stream",
     "text": [
      "C:\\Users\\user\\anaconda3\\lib\\site-packages\\IPython\\core\\interactiveshell.py:3165: DtypeWarning: Columns (3) have mixed types.Specify dtype option on import or set low_memory=False.\n",
      "  has_raised = await self.run_ast_nodes(code_ast.body, cell_name,\n"
     ]
    },
    {
     "name": "stdout",
     "output_type": "stream",
     "text": [
      "20201217_geotagged_pred.csv\n"
     ]
    },
    {
     "name": "stderr",
     "output_type": "stream",
     "text": [
      "C:\\Users\\user\\anaconda3\\lib\\site-packages\\IPython\\core\\interactiveshell.py:3165: DtypeWarning: Columns (3) have mixed types.Specify dtype option on import or set low_memory=False.\n",
      "  has_raised = await self.run_ast_nodes(code_ast.body, cell_name,\n"
     ]
    },
    {
     "name": "stdout",
     "output_type": "stream",
     "text": [
      "20201218_geotagged_pred.csv\n"
     ]
    },
    {
     "name": "stderr",
     "output_type": "stream",
     "text": [
      "C:\\Users\\user\\anaconda3\\lib\\site-packages\\IPython\\core\\interactiveshell.py:3165: DtypeWarning: Columns (3) have mixed types.Specify dtype option on import or set low_memory=False.\n",
      "  has_raised = await self.run_ast_nodes(code_ast.body, cell_name,\n"
     ]
    },
    {
     "name": "stdout",
     "output_type": "stream",
     "text": [
      "20201219_geotagged_pred.csv\n",
      "20201220_geotagged_pred.csv\n",
      "20201221_geotagged_pred.csv\n"
     ]
    },
    {
     "name": "stderr",
     "output_type": "stream",
     "text": [
      "C:\\Users\\user\\anaconda3\\lib\\site-packages\\IPython\\core\\interactiveshell.py:3165: DtypeWarning: Columns (3) have mixed types.Specify dtype option on import or set low_memory=False.\n",
      "  has_raised = await self.run_ast_nodes(code_ast.body, cell_name,\n"
     ]
    },
    {
     "name": "stdout",
     "output_type": "stream",
     "text": [
      "20201222_geotagged_pred.csv\n"
     ]
    },
    {
     "name": "stderr",
     "output_type": "stream",
     "text": [
      "C:\\Users\\user\\anaconda3\\lib\\site-packages\\IPython\\core\\interactiveshell.py:3165: DtypeWarning: Columns (3) have mixed types.Specify dtype option on import or set low_memory=False.\n",
      "  has_raised = await self.run_ast_nodes(code_ast.body, cell_name,\n"
     ]
    },
    {
     "name": "stdout",
     "output_type": "stream",
     "text": [
      "20201223_geotagged_pred.csv\n"
     ]
    },
    {
     "name": "stderr",
     "output_type": "stream",
     "text": [
      "C:\\Users\\user\\anaconda3\\lib\\site-packages\\IPython\\core\\interactiveshell.py:3165: DtypeWarning: Columns (3) have mixed types.Specify dtype option on import or set low_memory=False.\n",
      "  has_raised = await self.run_ast_nodes(code_ast.body, cell_name,\n"
     ]
    },
    {
     "name": "stdout",
     "output_type": "stream",
     "text": [
      "20201224_geotagged_pred.csv\n"
     ]
    },
    {
     "name": "stderr",
     "output_type": "stream",
     "text": [
      "C:\\Users\\user\\anaconda3\\lib\\site-packages\\IPython\\core\\interactiveshell.py:3165: DtypeWarning: Columns (3) have mixed types.Specify dtype option on import or set low_memory=False.\n",
      "  has_raised = await self.run_ast_nodes(code_ast.body, cell_name,\n"
     ]
    },
    {
     "name": "stdout",
     "output_type": "stream",
     "text": [
      "20201225_geotagged_pred.csv\n"
     ]
    },
    {
     "name": "stderr",
     "output_type": "stream",
     "text": [
      "C:\\Users\\user\\anaconda3\\lib\\site-packages\\IPython\\core\\interactiveshell.py:3165: DtypeWarning: Columns (3) have mixed types.Specify dtype option on import or set low_memory=False.\n",
      "  has_raised = await self.run_ast_nodes(code_ast.body, cell_name,\n"
     ]
    },
    {
     "name": "stdout",
     "output_type": "stream",
     "text": [
      "20201226_geotagged_pred.csv\n"
     ]
    },
    {
     "name": "stderr",
     "output_type": "stream",
     "text": [
      "C:\\Users\\user\\anaconda3\\lib\\site-packages\\IPython\\core\\interactiveshell.py:3165: DtypeWarning: Columns (3) have mixed types.Specify dtype option on import or set low_memory=False.\n",
      "  has_raised = await self.run_ast_nodes(code_ast.body, cell_name,\n"
     ]
    },
    {
     "name": "stdout",
     "output_type": "stream",
     "text": [
      "20201227_geotagged_pred.csv\n"
     ]
    },
    {
     "name": "stderr",
     "output_type": "stream",
     "text": [
      "C:\\Users\\user\\anaconda3\\lib\\site-packages\\IPython\\core\\interactiveshell.py:3165: DtypeWarning: Columns (3) have mixed types.Specify dtype option on import or set low_memory=False.\n",
      "  has_raised = await self.run_ast_nodes(code_ast.body, cell_name,\n"
     ]
    },
    {
     "name": "stdout",
     "output_type": "stream",
     "text": [
      "20201228_geotagged_pred.csv\n"
     ]
    },
    {
     "name": "stderr",
     "output_type": "stream",
     "text": [
      "C:\\Users\\user\\anaconda3\\lib\\site-packages\\IPython\\core\\interactiveshell.py:3165: DtypeWarning: Columns (3) have mixed types.Specify dtype option on import or set low_memory=False.\n",
      "  has_raised = await self.run_ast_nodes(code_ast.body, cell_name,\n"
     ]
    },
    {
     "name": "stdout",
     "output_type": "stream",
     "text": [
      "20201229_geotagged_pred.csv\n"
     ]
    },
    {
     "name": "stderr",
     "output_type": "stream",
     "text": [
      "C:\\Users\\user\\anaconda3\\lib\\site-packages\\IPython\\core\\interactiveshell.py:3165: DtypeWarning: Columns (3) have mixed types.Specify dtype option on import or set low_memory=False.\n",
      "  has_raised = await self.run_ast_nodes(code_ast.body, cell_name,\n"
     ]
    },
    {
     "name": "stdout",
     "output_type": "stream",
     "text": [
      "20201230_geotagged_pred.csv\n"
     ]
    },
    {
     "name": "stderr",
     "output_type": "stream",
     "text": [
      "C:\\Users\\user\\anaconda3\\lib\\site-packages\\IPython\\core\\interactiveshell.py:3165: DtypeWarning: Columns (3) have mixed types.Specify dtype option on import or set low_memory=False.\n",
      "  has_raised = await self.run_ast_nodes(code_ast.body, cell_name,\n"
     ]
    },
    {
     "name": "stdout",
     "output_type": "stream",
     "text": [
      "20201231_geotagged_pred.csv\n",
      "20210101_geotagged_pred.csv\n"
     ]
    },
    {
     "name": "stderr",
     "output_type": "stream",
     "text": [
      "C:\\Users\\user\\anaconda3\\lib\\site-packages\\IPython\\core\\interactiveshell.py:3165: DtypeWarning: Columns (3) have mixed types.Specify dtype option on import or set low_memory=False.\n",
      "  has_raised = await self.run_ast_nodes(code_ast.body, cell_name,\n"
     ]
    },
    {
     "name": "stdout",
     "output_type": "stream",
     "text": [
      "20210102_geotagged_pred.csv\n"
     ]
    },
    {
     "name": "stderr",
     "output_type": "stream",
     "text": [
      "C:\\Users\\user\\anaconda3\\lib\\site-packages\\IPython\\core\\interactiveshell.py:3165: DtypeWarning: Columns (3) have mixed types.Specify dtype option on import or set low_memory=False.\n",
      "  has_raised = await self.run_ast_nodes(code_ast.body, cell_name,\n"
     ]
    },
    {
     "name": "stdout",
     "output_type": "stream",
     "text": [
      "20210103_geotagged_pred.csv\n"
     ]
    },
    {
     "name": "stderr",
     "output_type": "stream",
     "text": [
      "C:\\Users\\user\\anaconda3\\lib\\site-packages\\IPython\\core\\interactiveshell.py:3165: DtypeWarning: Columns (3) have mixed types.Specify dtype option on import or set low_memory=False.\n",
      "  has_raised = await self.run_ast_nodes(code_ast.body, cell_name,\n"
     ]
    },
    {
     "name": "stdout",
     "output_type": "stream",
     "text": [
      "20210104_geotagged_pred.csv\n"
     ]
    },
    {
     "name": "stderr",
     "output_type": "stream",
     "text": [
      "C:\\Users\\user\\anaconda3\\lib\\site-packages\\IPython\\core\\interactiveshell.py:3165: DtypeWarning: Columns (3) have mixed types.Specify dtype option on import or set low_memory=False.\n",
      "  has_raised = await self.run_ast_nodes(code_ast.body, cell_name,\n"
     ]
    },
    {
     "name": "stdout",
     "output_type": "stream",
     "text": [
      "20210105_geotagged_pred.csv\n"
     ]
    },
    {
     "name": "stderr",
     "output_type": "stream",
     "text": [
      "C:\\Users\\user\\anaconda3\\lib\\site-packages\\IPython\\core\\interactiveshell.py:3165: DtypeWarning: Columns (3) have mixed types.Specify dtype option on import or set low_memory=False.\n",
      "  has_raised = await self.run_ast_nodes(code_ast.body, cell_name,\n"
     ]
    },
    {
     "name": "stdout",
     "output_type": "stream",
     "text": [
      "20210106_geotagged_pred.csv\n"
     ]
    },
    {
     "name": "stderr",
     "output_type": "stream",
     "text": [
      "C:\\Users\\user\\anaconda3\\lib\\site-packages\\IPython\\core\\interactiveshell.py:3165: DtypeWarning: Columns (3) have mixed types.Specify dtype option on import or set low_memory=False.\n",
      "  has_raised = await self.run_ast_nodes(code_ast.body, cell_name,\n"
     ]
    },
    {
     "name": "stdout",
     "output_type": "stream",
     "text": [
      "20210107_geotagged_pred.csv\n",
      "20210108_geotagged_pred.csv\n",
      "20210109_geotagged_pred.csv\n",
      "20210110_geotagged_pred.csv\n"
     ]
    },
    {
     "name": "stderr",
     "output_type": "stream",
     "text": [
      "C:\\Users\\user\\anaconda3\\lib\\site-packages\\IPython\\core\\interactiveshell.py:3165: DtypeWarning: Columns (3) have mixed types.Specify dtype option on import or set low_memory=False.\n",
      "  has_raised = await self.run_ast_nodes(code_ast.body, cell_name,\n"
     ]
    },
    {
     "name": "stdout",
     "output_type": "stream",
     "text": [
      "20210111_geotagged_pred.csv\n"
     ]
    },
    {
     "name": "stderr",
     "output_type": "stream",
     "text": [
      "C:\\Users\\user\\anaconda3\\lib\\site-packages\\IPython\\core\\interactiveshell.py:3165: DtypeWarning: Columns (3) have mixed types.Specify dtype option on import or set low_memory=False.\n",
      "  has_raised = await self.run_ast_nodes(code_ast.body, cell_name,\n"
     ]
    },
    {
     "name": "stdout",
     "output_type": "stream",
     "text": [
      "20210112_geotagged_pred.csv\n"
     ]
    },
    {
     "name": "stderr",
     "output_type": "stream",
     "text": [
      "C:\\Users\\user\\anaconda3\\lib\\site-packages\\IPython\\core\\interactiveshell.py:3165: DtypeWarning: Columns (3) have mixed types.Specify dtype option on import or set low_memory=False.\n",
      "  has_raised = await self.run_ast_nodes(code_ast.body, cell_name,\n"
     ]
    },
    {
     "name": "stdout",
     "output_type": "stream",
     "text": [
      "20210113_geotagged_pred.csv\n"
     ]
    },
    {
     "name": "stderr",
     "output_type": "stream",
     "text": [
      "C:\\Users\\user\\anaconda3\\lib\\site-packages\\IPython\\core\\interactiveshell.py:3165: DtypeWarning: Columns (3) have mixed types.Specify dtype option on import or set low_memory=False.\n",
      "  has_raised = await self.run_ast_nodes(code_ast.body, cell_name,\n"
     ]
    },
    {
     "name": "stdout",
     "output_type": "stream",
     "text": [
      "20210114_geotagged_pred.csv\n",
      "20210115_geotagged_pred.csv\n"
     ]
    },
    {
     "name": "stderr",
     "output_type": "stream",
     "text": [
      "C:\\Users\\user\\anaconda3\\lib\\site-packages\\IPython\\core\\interactiveshell.py:3165: DtypeWarning: Columns (3) have mixed types.Specify dtype option on import or set low_memory=False.\n",
      "  has_raised = await self.run_ast_nodes(code_ast.body, cell_name,\n"
     ]
    },
    {
     "name": "stdout",
     "output_type": "stream",
     "text": [
      "20210116_geotagged_pred.csv\n",
      "20210117_geotagged_pred.csv\n",
      "20210118_geotagged_pred.csv\n",
      "20210119_geotagged_pred.csv\n",
      "20210120_geotagged_pred.csv\n",
      "20210121_geotagged_pred.csv\n",
      "20210122_geotagged_pred.csv\n",
      "20210123_geotagged_pred.csv\n",
      "20210124_geotagged_pred.csv\n",
      "20210125_geotagged_pred.csv\n",
      "20210126_geotagged_pred.csv\n",
      "20210127_geotagged_pred.csv\n",
      "20210128_geotagged_pred.csv\n"
     ]
    },
    {
     "name": "stderr",
     "output_type": "stream",
     "text": [
      "C:\\Users\\user\\anaconda3\\lib\\site-packages\\IPython\\core\\interactiveshell.py:3165: DtypeWarning: Columns (3) have mixed types.Specify dtype option on import or set low_memory=False.\n",
      "  has_raised = await self.run_ast_nodes(code_ast.body, cell_name,\n"
     ]
    },
    {
     "name": "stdout",
     "output_type": "stream",
     "text": [
      "20210129_geotagged_pred.csv\n"
     ]
    },
    {
     "name": "stderr",
     "output_type": "stream",
     "text": [
      "C:\\Users\\user\\anaconda3\\lib\\site-packages\\IPython\\core\\interactiveshell.py:3165: DtypeWarning: Columns (3) have mixed types.Specify dtype option on import or set low_memory=False.\n",
      "  has_raised = await self.run_ast_nodes(code_ast.body, cell_name,\n"
     ]
    },
    {
     "name": "stdout",
     "output_type": "stream",
     "text": [
      "20210130_geotagged_pred.csv\n",
      "20210131_geotagged_pred.csv\n"
     ]
    },
    {
     "name": "stderr",
     "output_type": "stream",
     "text": [
      "C:\\Users\\user\\anaconda3\\lib\\site-packages\\IPython\\core\\interactiveshell.py:3165: DtypeWarning: Columns (3) have mixed types.Specify dtype option on import or set low_memory=False.\n",
      "  has_raised = await self.run_ast_nodes(code_ast.body, cell_name,\n"
     ]
    },
    {
     "name": "stdout",
     "output_type": "stream",
     "text": [
      "20210201_geotagged_pred.csv\n"
     ]
    },
    {
     "name": "stderr",
     "output_type": "stream",
     "text": [
      "C:\\Users\\user\\anaconda3\\lib\\site-packages\\IPython\\core\\interactiveshell.py:3165: DtypeWarning: Columns (3) have mixed types.Specify dtype option on import or set low_memory=False.\n",
      "  has_raised = await self.run_ast_nodes(code_ast.body, cell_name,\n"
     ]
    },
    {
     "name": "stdout",
     "output_type": "stream",
     "text": [
      "20210202_geotagged_pred.csv\n"
     ]
    },
    {
     "name": "stderr",
     "output_type": "stream",
     "text": [
      "C:\\Users\\user\\anaconda3\\lib\\site-packages\\IPython\\core\\interactiveshell.py:3165: DtypeWarning: Columns (3) have mixed types.Specify dtype option on import or set low_memory=False.\n",
      "  has_raised = await self.run_ast_nodes(code_ast.body, cell_name,\n"
     ]
    },
    {
     "name": "stdout",
     "output_type": "stream",
     "text": [
      "20210203_geotagged_pred.csv\n"
     ]
    },
    {
     "name": "stderr",
     "output_type": "stream",
     "text": [
      "C:\\Users\\user\\anaconda3\\lib\\site-packages\\IPython\\core\\interactiveshell.py:3165: DtypeWarning: Columns (3) have mixed types.Specify dtype option on import or set low_memory=False.\n",
      "  has_raised = await self.run_ast_nodes(code_ast.body, cell_name,\n"
     ]
    },
    {
     "name": "stdout",
     "output_type": "stream",
     "text": [
      "20210204_geotagged_pred.csv\n"
     ]
    },
    {
     "name": "stderr",
     "output_type": "stream",
     "text": [
      "C:\\Users\\user\\anaconda3\\lib\\site-packages\\IPython\\core\\interactiveshell.py:3165: DtypeWarning: Columns (3) have mixed types.Specify dtype option on import or set low_memory=False.\n",
      "  has_raised = await self.run_ast_nodes(code_ast.body, cell_name,\n"
     ]
    },
    {
     "name": "stdout",
     "output_type": "stream",
     "text": [
      "20210205_geotagged_pred.csv\n",
      "20210206_geotagged_pred.csv\n",
      "20210207_geotagged_pred.csv\n",
      "20210208_geotagged_pred.csv\n",
      "20210209_geotagged_pred.csv\n",
      "20210210_geotagged_pred.csv\n",
      "20210211_geotagged_pred.csv\n"
     ]
    },
    {
     "name": "stderr",
     "output_type": "stream",
     "text": [
      "C:\\Users\\user\\anaconda3\\lib\\site-packages\\IPython\\core\\interactiveshell.py:3165: DtypeWarning: Columns (3) have mixed types.Specify dtype option on import or set low_memory=False.\n",
      "  has_raised = await self.run_ast_nodes(code_ast.body, cell_name,\n"
     ]
    },
    {
     "name": "stdout",
     "output_type": "stream",
     "text": [
      "20210212_geotagged_pred.csv\n",
      "20210213_geotagged_pred.csv\n",
      "20210214_geotagged_pred.csv\n"
     ]
    },
    {
     "name": "stderr",
     "output_type": "stream",
     "text": [
      "C:\\Users\\user\\anaconda3\\lib\\site-packages\\IPython\\core\\interactiveshell.py:3165: DtypeWarning: Columns (3) have mixed types.Specify dtype option on import or set low_memory=False.\n",
      "  has_raised = await self.run_ast_nodes(code_ast.body, cell_name,\n"
     ]
    },
    {
     "name": "stdout",
     "output_type": "stream",
     "text": [
      "20210215_geotagged_pred.csv\n"
     ]
    },
    {
     "name": "stderr",
     "output_type": "stream",
     "text": [
      "C:\\Users\\user\\anaconda3\\lib\\site-packages\\IPython\\core\\interactiveshell.py:3165: DtypeWarning: Columns (3) have mixed types.Specify dtype option on import or set low_memory=False.\n",
      "  has_raised = await self.run_ast_nodes(code_ast.body, cell_name,\n"
     ]
    },
    {
     "name": "stdout",
     "output_type": "stream",
     "text": [
      "20210216_geotagged_pred.csv\n"
     ]
    },
    {
     "name": "stderr",
     "output_type": "stream",
     "text": [
      "C:\\Users\\user\\anaconda3\\lib\\site-packages\\IPython\\core\\interactiveshell.py:3165: DtypeWarning: Columns (3) have mixed types.Specify dtype option on import or set low_memory=False.\n",
      "  has_raised = await self.run_ast_nodes(code_ast.body, cell_name,\n"
     ]
    },
    {
     "name": "stdout",
     "output_type": "stream",
     "text": [
      "20210217_geotagged_pred.csv\n"
     ]
    },
    {
     "name": "stderr",
     "output_type": "stream",
     "text": [
      "C:\\Users\\user\\anaconda3\\lib\\site-packages\\IPython\\core\\interactiveshell.py:3165: DtypeWarning: Columns (3) have mixed types.Specify dtype option on import or set low_memory=False.\n",
      "  has_raised = await self.run_ast_nodes(code_ast.body, cell_name,\n"
     ]
    },
    {
     "name": "stdout",
     "output_type": "stream",
     "text": [
      "20210218_geotagged_pred.csv\n"
     ]
    },
    {
     "name": "stderr",
     "output_type": "stream",
     "text": [
      "C:\\Users\\user\\anaconda3\\lib\\site-packages\\IPython\\core\\interactiveshell.py:3165: DtypeWarning: Columns (3) have mixed types.Specify dtype option on import or set low_memory=False.\n",
      "  has_raised = await self.run_ast_nodes(code_ast.body, cell_name,\n"
     ]
    },
    {
     "name": "stdout",
     "output_type": "stream",
     "text": [
      "20210219_geotagged_pred.csv\n"
     ]
    },
    {
     "name": "stderr",
     "output_type": "stream",
     "text": [
      "C:\\Users\\user\\anaconda3\\lib\\site-packages\\IPython\\core\\interactiveshell.py:3165: DtypeWarning: Columns (3) have mixed types.Specify dtype option on import or set low_memory=False.\n",
      "  has_raised = await self.run_ast_nodes(code_ast.body, cell_name,\n"
     ]
    },
    {
     "name": "stdout",
     "output_type": "stream",
     "text": [
      "20210220_geotagged_pred.csv\n"
     ]
    },
    {
     "name": "stderr",
     "output_type": "stream",
     "text": [
      "C:\\Users\\user\\anaconda3\\lib\\site-packages\\IPython\\core\\interactiveshell.py:3165: DtypeWarning: Columns (3) have mixed types.Specify dtype option on import or set low_memory=False.\n",
      "  has_raised = await self.run_ast_nodes(code_ast.body, cell_name,\n"
     ]
    },
    {
     "name": "stdout",
     "output_type": "stream",
     "text": [
      "20210221_geotagged_pred.csv\n"
     ]
    },
    {
     "name": "stderr",
     "output_type": "stream",
     "text": [
      "C:\\Users\\user\\anaconda3\\lib\\site-packages\\IPython\\core\\interactiveshell.py:3165: DtypeWarning: Columns (3) have mixed types.Specify dtype option on import or set low_memory=False.\n",
      "  has_raised = await self.run_ast_nodes(code_ast.body, cell_name,\n"
     ]
    },
    {
     "name": "stdout",
     "output_type": "stream",
     "text": [
      "20210222_geotagged_pred.csv\n"
     ]
    },
    {
     "name": "stderr",
     "output_type": "stream",
     "text": [
      "C:\\Users\\user\\anaconda3\\lib\\site-packages\\IPython\\core\\interactiveshell.py:3165: DtypeWarning: Columns (3) have mixed types.Specify dtype option on import or set low_memory=False.\n",
      "  has_raised = await self.run_ast_nodes(code_ast.body, cell_name,\n"
     ]
    },
    {
     "name": "stdout",
     "output_type": "stream",
     "text": [
      "20210223_geotagged_pred.csv\n"
     ]
    },
    {
     "name": "stderr",
     "output_type": "stream",
     "text": [
      "C:\\Users\\user\\anaconda3\\lib\\site-packages\\IPython\\core\\interactiveshell.py:3165: DtypeWarning: Columns (3) have mixed types.Specify dtype option on import or set low_memory=False.\n",
      "  has_raised = await self.run_ast_nodes(code_ast.body, cell_name,\n"
     ]
    },
    {
     "name": "stdout",
     "output_type": "stream",
     "text": [
      "20210224_geotagged_pred.csv\n",
      "20210225_geotagged_pred.csv\n"
     ]
    },
    {
     "name": "stderr",
     "output_type": "stream",
     "text": [
      "C:\\Users\\user\\anaconda3\\lib\\site-packages\\IPython\\core\\interactiveshell.py:3165: DtypeWarning: Columns (3) have mixed types.Specify dtype option on import or set low_memory=False.\n",
      "  has_raised = await self.run_ast_nodes(code_ast.body, cell_name,\n"
     ]
    },
    {
     "name": "stdout",
     "output_type": "stream",
     "text": [
      "20210226_geotagged_pred.csv\n"
     ]
    },
    {
     "name": "stderr",
     "output_type": "stream",
     "text": [
      "C:\\Users\\user\\anaconda3\\lib\\site-packages\\IPython\\core\\interactiveshell.py:3165: DtypeWarning: Columns (3) have mixed types.Specify dtype option on import or set low_memory=False.\n",
      "  has_raised = await self.run_ast_nodes(code_ast.body, cell_name,\n"
     ]
    },
    {
     "name": "stdout",
     "output_type": "stream",
     "text": [
      "20210227_geotagged_pred.csv\n"
     ]
    },
    {
     "name": "stderr",
     "output_type": "stream",
     "text": [
      "C:\\Users\\user\\anaconda3\\lib\\site-packages\\IPython\\core\\interactiveshell.py:3165: DtypeWarning: Columns (3) have mixed types.Specify dtype option on import or set low_memory=False.\n",
      "  has_raised = await self.run_ast_nodes(code_ast.body, cell_name,\n"
     ]
    },
    {
     "name": "stdout",
     "output_type": "stream",
     "text": [
      "20210228_geotagged_pred.csv\n"
     ]
    },
    {
     "name": "stderr",
     "output_type": "stream",
     "text": [
      "C:\\Users\\user\\anaconda3\\lib\\site-packages\\IPython\\core\\interactiveshell.py:3165: DtypeWarning: Columns (3) have mixed types.Specify dtype option on import or set low_memory=False.\n",
      "  has_raised = await self.run_ast_nodes(code_ast.body, cell_name,\n"
     ]
    },
    {
     "name": "stdout",
     "output_type": "stream",
     "text": [
      "20210301_geotagged_pred.csv\n"
     ]
    },
    {
     "name": "stderr",
     "output_type": "stream",
     "text": [
      "C:\\Users\\user\\anaconda3\\lib\\site-packages\\IPython\\core\\interactiveshell.py:3165: DtypeWarning: Columns (3) have mixed types.Specify dtype option on import or set low_memory=False.\n",
      "  has_raised = await self.run_ast_nodes(code_ast.body, cell_name,\n"
     ]
    },
    {
     "name": "stdout",
     "output_type": "stream",
     "text": [
      "20210302_geotagged_pred.csv\n"
     ]
    },
    {
     "name": "stderr",
     "output_type": "stream",
     "text": [
      "C:\\Users\\user\\anaconda3\\lib\\site-packages\\IPython\\core\\interactiveshell.py:3165: DtypeWarning: Columns (3) have mixed types.Specify dtype option on import or set low_memory=False.\n",
      "  has_raised = await self.run_ast_nodes(code_ast.body, cell_name,\n"
     ]
    },
    {
     "name": "stdout",
     "output_type": "stream",
     "text": [
      "20210303_geotagged_pred.csv\n",
      "20210304_geotagged_pred.csv\n",
      "20210305_geotagged_pred.csv\n"
     ]
    },
    {
     "name": "stderr",
     "output_type": "stream",
     "text": [
      "C:\\Users\\user\\anaconda3\\lib\\site-packages\\IPython\\core\\interactiveshell.py:3165: DtypeWarning: Columns (3) have mixed types.Specify dtype option on import or set low_memory=False.\n",
      "  has_raised = await self.run_ast_nodes(code_ast.body, cell_name,\n"
     ]
    },
    {
     "name": "stdout",
     "output_type": "stream",
     "text": [
      "20210306_geotagged_pred.csv\n"
     ]
    },
    {
     "name": "stderr",
     "output_type": "stream",
     "text": [
      "C:\\Users\\user\\anaconda3\\lib\\site-packages\\IPython\\core\\interactiveshell.py:3165: DtypeWarning: Columns (3) have mixed types.Specify dtype option on import or set low_memory=False.\n",
      "  has_raised = await self.run_ast_nodes(code_ast.body, cell_name,\n"
     ]
    },
    {
     "name": "stdout",
     "output_type": "stream",
     "text": [
      "20210307_geotagged_pred.csv\n"
     ]
    },
    {
     "name": "stderr",
     "output_type": "stream",
     "text": [
      "C:\\Users\\user\\anaconda3\\lib\\site-packages\\IPython\\core\\interactiveshell.py:3165: DtypeWarning: Columns (3) have mixed types.Specify dtype option on import or set low_memory=False.\n",
      "  has_raised = await self.run_ast_nodes(code_ast.body, cell_name,\n"
     ]
    },
    {
     "name": "stdout",
     "output_type": "stream",
     "text": [
      "20210308_geotagged_pred.csv\n",
      "20210309_geotagged_pred.csv\n"
     ]
    },
    {
     "name": "stderr",
     "output_type": "stream",
     "text": [
      "C:\\Users\\user\\anaconda3\\lib\\site-packages\\IPython\\core\\interactiveshell.py:3165: DtypeWarning: Columns (3) have mixed types.Specify dtype option on import or set low_memory=False.\n",
      "  has_raised = await self.run_ast_nodes(code_ast.body, cell_name,\n"
     ]
    },
    {
     "name": "stdout",
     "output_type": "stream",
     "text": [
      "20210310_geotagged_pred.csv\n",
      "20210311_geotagged_pred.csv\n"
     ]
    },
    {
     "name": "stderr",
     "output_type": "stream",
     "text": [
      "C:\\Users\\user\\anaconda3\\lib\\site-packages\\IPython\\core\\interactiveshell.py:3165: DtypeWarning: Columns (3) have mixed types.Specify dtype option on import or set low_memory=False.\n",
      "  has_raised = await self.run_ast_nodes(code_ast.body, cell_name,\n"
     ]
    },
    {
     "name": "stdout",
     "output_type": "stream",
     "text": [
      "20210312_geotagged_pred.csv\n",
      "20210313_geotagged_pred.csv\n"
     ]
    },
    {
     "name": "stderr",
     "output_type": "stream",
     "text": [
      "C:\\Users\\user\\anaconda3\\lib\\site-packages\\IPython\\core\\interactiveshell.py:3165: DtypeWarning: Columns (3) have mixed types.Specify dtype option on import or set low_memory=False.\n",
      "  has_raised = await self.run_ast_nodes(code_ast.body, cell_name,\n"
     ]
    },
    {
     "name": "stdout",
     "output_type": "stream",
     "text": [
      "20210314_geotagged_pred.csv\n"
     ]
    },
    {
     "name": "stderr",
     "output_type": "stream",
     "text": [
      "C:\\Users\\user\\anaconda3\\lib\\site-packages\\IPython\\core\\interactiveshell.py:3165: DtypeWarning: Columns (3) have mixed types.Specify dtype option on import or set low_memory=False.\n",
      "  has_raised = await self.run_ast_nodes(code_ast.body, cell_name,\n"
     ]
    },
    {
     "name": "stdout",
     "output_type": "stream",
     "text": [
      "20210315_geotagged_pred.csv\n"
     ]
    },
    {
     "name": "stderr",
     "output_type": "stream",
     "text": [
      "C:\\Users\\user\\anaconda3\\lib\\site-packages\\IPython\\core\\interactiveshell.py:3165: DtypeWarning: Columns (3) have mixed types.Specify dtype option on import or set low_memory=False.\n",
      "  has_raised = await self.run_ast_nodes(code_ast.body, cell_name,\n"
     ]
    },
    {
     "name": "stdout",
     "output_type": "stream",
     "text": [
      "20210316_geotagged_pred.csv\n"
     ]
    },
    {
     "name": "stderr",
     "output_type": "stream",
     "text": [
      "C:\\Users\\user\\anaconda3\\lib\\site-packages\\IPython\\core\\interactiveshell.py:3165: DtypeWarning: Columns (3) have mixed types.Specify dtype option on import or set low_memory=False.\n",
      "  has_raised = await self.run_ast_nodes(code_ast.body, cell_name,\n"
     ]
    },
    {
     "name": "stdout",
     "output_type": "stream",
     "text": [
      "20210317_geotagged_pred.csv\n"
     ]
    },
    {
     "name": "stderr",
     "output_type": "stream",
     "text": [
      "C:\\Users\\user\\anaconda3\\lib\\site-packages\\IPython\\core\\interactiveshell.py:3165: DtypeWarning: Columns (3) have mixed types.Specify dtype option on import or set low_memory=False.\n",
      "  has_raised = await self.run_ast_nodes(code_ast.body, cell_name,\n"
     ]
    },
    {
     "name": "stdout",
     "output_type": "stream",
     "text": [
      "20210318_geotagged_pred.csv\n"
     ]
    },
    {
     "name": "stderr",
     "output_type": "stream",
     "text": [
      "C:\\Users\\user\\anaconda3\\lib\\site-packages\\IPython\\core\\interactiveshell.py:3165: DtypeWarning: Columns (3) have mixed types.Specify dtype option on import or set low_memory=False.\n",
      "  has_raised = await self.run_ast_nodes(code_ast.body, cell_name,\n"
     ]
    },
    {
     "name": "stdout",
     "output_type": "stream",
     "text": [
      "20210319_geotagged_pred.csv\n",
      "20210320_geotagged_pred.csv\n",
      "20210321_geotagged_pred.csv\n",
      "20210322_geotagged_pred.csv\n"
     ]
    },
    {
     "name": "stderr",
     "output_type": "stream",
     "text": [
      "C:\\Users\\user\\anaconda3\\lib\\site-packages\\IPython\\core\\interactiveshell.py:3165: DtypeWarning: Columns (3) have mixed types.Specify dtype option on import or set low_memory=False.\n",
      "  has_raised = await self.run_ast_nodes(code_ast.body, cell_name,\n"
     ]
    },
    {
     "name": "stdout",
     "output_type": "stream",
     "text": [
      "20210323_geotagged_pred.csv\n"
     ]
    },
    {
     "name": "stderr",
     "output_type": "stream",
     "text": [
      "C:\\Users\\user\\anaconda3\\lib\\site-packages\\IPython\\core\\interactiveshell.py:3165: DtypeWarning: Columns (3) have mixed types.Specify dtype option on import or set low_memory=False.\n",
      "  has_raised = await self.run_ast_nodes(code_ast.body, cell_name,\n"
     ]
    },
    {
     "name": "stdout",
     "output_type": "stream",
     "text": [
      "20210324_geotagged_pred.csv\n",
      "20210325_geotagged_pred.csv\n",
      "20210326_geotagged_pred.csv\n",
      "20210327_geotagged_pred.csv\n",
      "20210328_geotagged_pred.csv\n",
      "20210329_geotagged_pred.csv\n",
      "20210330_geotagged_pred.csv\n",
      "20210331_geotagged_pred.csv\n",
      "20210401_geotagged_pred.csv\n",
      "20210402_geotagged_pred.csv\n",
      "20210403_geotagged_pred.csv\n",
      "20210404_geotagged_pred.csv\n",
      "20210405_geotagged_pred.csv\n",
      "20210406_geotagged_pred.csv\n",
      "20210407_geotagged_pred.csv\n",
      "20210408_geotagged_pred.csv\n"
     ]
    },
    {
     "name": "stderr",
     "output_type": "stream",
     "text": [
      "C:\\Users\\user\\anaconda3\\lib\\site-packages\\IPython\\core\\interactiveshell.py:3165: DtypeWarning: Columns (3) have mixed types.Specify dtype option on import or set low_memory=False.\n",
      "  has_raised = await self.run_ast_nodes(code_ast.body, cell_name,\n"
     ]
    },
    {
     "name": "stdout",
     "output_type": "stream",
     "text": [
      "20210409_geotagged_pred.csv\n"
     ]
    },
    {
     "name": "stderr",
     "output_type": "stream",
     "text": [
      "C:\\Users\\user\\anaconda3\\lib\\site-packages\\IPython\\core\\interactiveshell.py:3165: DtypeWarning: Columns (3) have mixed types.Specify dtype option on import or set low_memory=False.\n",
      "  has_raised = await self.run_ast_nodes(code_ast.body, cell_name,\n"
     ]
    },
    {
     "name": "stdout",
     "output_type": "stream",
     "text": [
      "20210410_geotagged_pred.csv\n"
     ]
    },
    {
     "name": "stderr",
     "output_type": "stream",
     "text": [
      "C:\\Users\\user\\anaconda3\\lib\\site-packages\\IPython\\core\\interactiveshell.py:3165: DtypeWarning: Columns (3) have mixed types.Specify dtype option on import or set low_memory=False.\n",
      "  has_raised = await self.run_ast_nodes(code_ast.body, cell_name,\n"
     ]
    },
    {
     "name": "stdout",
     "output_type": "stream",
     "text": [
      "20210411_geotagged_pred.csv\n"
     ]
    },
    {
     "name": "stderr",
     "output_type": "stream",
     "text": [
      "C:\\Users\\user\\anaconda3\\lib\\site-packages\\IPython\\core\\interactiveshell.py:3165: DtypeWarning: Columns (3) have mixed types.Specify dtype option on import or set low_memory=False.\n",
      "  has_raised = await self.run_ast_nodes(code_ast.body, cell_name,\n"
     ]
    },
    {
     "name": "stdout",
     "output_type": "stream",
     "text": [
      "20210412_geotagged_pred.csv\n"
     ]
    },
    {
     "name": "stderr",
     "output_type": "stream",
     "text": [
      "C:\\Users\\user\\anaconda3\\lib\\site-packages\\IPython\\core\\interactiveshell.py:3165: DtypeWarning: Columns (3) have mixed types.Specify dtype option on import or set low_memory=False.\n",
      "  has_raised = await self.run_ast_nodes(code_ast.body, cell_name,\n"
     ]
    },
    {
     "name": "stdout",
     "output_type": "stream",
     "text": [
      "20210413_geotagged_pred.csv\n"
     ]
    },
    {
     "name": "stderr",
     "output_type": "stream",
     "text": [
      "C:\\Users\\user\\anaconda3\\lib\\site-packages\\IPython\\core\\interactiveshell.py:3165: DtypeWarning: Columns (3) have mixed types.Specify dtype option on import or set low_memory=False.\n",
      "  has_raised = await self.run_ast_nodes(code_ast.body, cell_name,\n"
     ]
    },
    {
     "name": "stdout",
     "output_type": "stream",
     "text": [
      "20210414_geotagged_pred.csv\n"
     ]
    },
    {
     "name": "stderr",
     "output_type": "stream",
     "text": [
      "C:\\Users\\user\\anaconda3\\lib\\site-packages\\IPython\\core\\interactiveshell.py:3165: DtypeWarning: Columns (3) have mixed types.Specify dtype option on import or set low_memory=False.\n",
      "  has_raised = await self.run_ast_nodes(code_ast.body, cell_name,\n"
     ]
    },
    {
     "name": "stdout",
     "output_type": "stream",
     "text": [
      "20210415_geotagged_pred.csv\n",
      "20210416_geotagged_pred.csv\n",
      "20210417_geotagged_pred.csv\n",
      "20210418_geotagged_pred.csv\n",
      "20210419_geotagged_pred.csv\n"
     ]
    },
    {
     "name": "stderr",
     "output_type": "stream",
     "text": [
      "C:\\Users\\user\\anaconda3\\lib\\site-packages\\IPython\\core\\interactiveshell.py:3165: DtypeWarning: Columns (3) have mixed types.Specify dtype option on import or set low_memory=False.\n",
      "  has_raised = await self.run_ast_nodes(code_ast.body, cell_name,\n"
     ]
    },
    {
     "name": "stdout",
     "output_type": "stream",
     "text": [
      "20210420_geotagged_pred.csv\n"
     ]
    },
    {
     "name": "stderr",
     "output_type": "stream",
     "text": [
      "C:\\Users\\user\\anaconda3\\lib\\site-packages\\IPython\\core\\interactiveshell.py:3165: DtypeWarning: Columns (3) have mixed types.Specify dtype option on import or set low_memory=False.\n",
      "  has_raised = await self.run_ast_nodes(code_ast.body, cell_name,\n"
     ]
    },
    {
     "name": "stdout",
     "output_type": "stream",
     "text": [
      "20210421_geotagged_pred.csv\n",
      "20210422_geotagged_pred.csv\n",
      "20210423_geotagged_pred.csv\n",
      "20210424_geotagged_pred.csv\n",
      "20210425_geotagged_pred.csv\n",
      "20210426_geotagged_pred.csv\n"
     ]
    },
    {
     "name": "stderr",
     "output_type": "stream",
     "text": [
      "C:\\Users\\user\\anaconda3\\lib\\site-packages\\IPython\\core\\interactiveshell.py:3165: DtypeWarning: Columns (3) have mixed types.Specify dtype option on import or set low_memory=False.\n",
      "  has_raised = await self.run_ast_nodes(code_ast.body, cell_name,\n"
     ]
    },
    {
     "name": "stdout",
     "output_type": "stream",
     "text": [
      "20210427_geotagged_pred.csv\n"
     ]
    },
    {
     "name": "stderr",
     "output_type": "stream",
     "text": [
      "C:\\Users\\user\\anaconda3\\lib\\site-packages\\IPython\\core\\interactiveshell.py:3165: DtypeWarning: Columns (3) have mixed types.Specify dtype option on import or set low_memory=False.\n",
      "  has_raised = await self.run_ast_nodes(code_ast.body, cell_name,\n"
     ]
    },
    {
     "name": "stdout",
     "output_type": "stream",
     "text": [
      "20210428_geotagged_pred.csv\n"
     ]
    },
    {
     "name": "stderr",
     "output_type": "stream",
     "text": [
      "C:\\Users\\user\\anaconda3\\lib\\site-packages\\IPython\\core\\interactiveshell.py:3165: DtypeWarning: Columns (3) have mixed types.Specify dtype option on import or set low_memory=False.\n",
      "  has_raised = await self.run_ast_nodes(code_ast.body, cell_name,\n"
     ]
    },
    {
     "name": "stdout",
     "output_type": "stream",
     "text": [
      "20210429_geotagged_pred.csv\n",
      "20210430_geotagged_pred.csv\n",
      "20210501_geotagged_pred.csv\n",
      "20210502_geotagged_pred.csv\n",
      "20210503_geotagged_pred.csv\n",
      "20210504_geotagged_pred.csv\n",
      "20210505_geotagged_pred.csv\n",
      "20210506_geotagged_pred.csv\n",
      "20210507_geotagged_pred.csv\n"
     ]
    },
    {
     "name": "stderr",
     "output_type": "stream",
     "text": [
      "C:\\Users\\user\\anaconda3\\lib\\site-packages\\IPython\\core\\interactiveshell.py:3165: DtypeWarning: Columns (3) have mixed types.Specify dtype option on import or set low_memory=False.\n",
      "  has_raised = await self.run_ast_nodes(code_ast.body, cell_name,\n"
     ]
    },
    {
     "name": "stdout",
     "output_type": "stream",
     "text": [
      "20210508_geotagged_pred.csv\n",
      "20210509_geotagged_pred.csv\n"
     ]
    },
    {
     "name": "stderr",
     "output_type": "stream",
     "text": [
      "C:\\Users\\user\\anaconda3\\lib\\site-packages\\IPython\\core\\interactiveshell.py:3165: DtypeWarning: Columns (3) have mixed types.Specify dtype option on import or set low_memory=False.\n",
      "  has_raised = await self.run_ast_nodes(code_ast.body, cell_name,\n"
     ]
    },
    {
     "name": "stdout",
     "output_type": "stream",
     "text": [
      "20210510_geotagged_pred.csv\n",
      "20210511_geotagged_pred.csv\n",
      "20210512_geotagged_pred.csv\n",
      "20210513_geotagged_pred.csv\n",
      "20210514_geotagged_pred.csv\n",
      "20210515_geotagged_pred.csv\n"
     ]
    },
    {
     "name": "stderr",
     "output_type": "stream",
     "text": [
      "C:\\Users\\user\\anaconda3\\lib\\site-packages\\IPython\\core\\interactiveshell.py:3165: DtypeWarning: Columns (3) have mixed types.Specify dtype option on import or set low_memory=False.\n",
      "  has_raised = await self.run_ast_nodes(code_ast.body, cell_name,\n"
     ]
    },
    {
     "name": "stdout",
     "output_type": "stream",
     "text": [
      "20210516_geotagged_pred.csv\n",
      "20210517_geotagged_pred.csv\n",
      "20210518_geotagged_pred.csv\n",
      "20210519_geotagged_pred.csv\n",
      "20210520_geotagged_pred.csv\n"
     ]
    },
    {
     "name": "stderr",
     "output_type": "stream",
     "text": [
      "C:\\Users\\user\\anaconda3\\lib\\site-packages\\IPython\\core\\interactiveshell.py:3165: DtypeWarning: Columns (3) have mixed types.Specify dtype option on import or set low_memory=False.\n",
      "  has_raised = await self.run_ast_nodes(code_ast.body, cell_name,\n"
     ]
    },
    {
     "name": "stdout",
     "output_type": "stream",
     "text": [
      "20210521_geotagged_pred.csv\n"
     ]
    },
    {
     "name": "stderr",
     "output_type": "stream",
     "text": [
      "C:\\Users\\user\\anaconda3\\lib\\site-packages\\IPython\\core\\interactiveshell.py:3165: DtypeWarning: Columns (3) have mixed types.Specify dtype option on import or set low_memory=False.\n",
      "  has_raised = await self.run_ast_nodes(code_ast.body, cell_name,\n"
     ]
    },
    {
     "name": "stdout",
     "output_type": "stream",
     "text": [
      "20210522_geotagged_pred.csv\n",
      "20210523_geotagged_pred.csv\n"
     ]
    },
    {
     "name": "stderr",
     "output_type": "stream",
     "text": [
      "C:\\Users\\user\\anaconda3\\lib\\site-packages\\IPython\\core\\interactiveshell.py:3165: DtypeWarning: Columns (3) have mixed types.Specify dtype option on import or set low_memory=False.\n",
      "  has_raised = await self.run_ast_nodes(code_ast.body, cell_name,\n"
     ]
    },
    {
     "name": "stdout",
     "output_type": "stream",
     "text": [
      "20210524_geotagged_pred.csv\n"
     ]
    },
    {
     "name": "stderr",
     "output_type": "stream",
     "text": [
      "C:\\Users\\user\\anaconda3\\lib\\site-packages\\IPython\\core\\interactiveshell.py:3165: DtypeWarning: Columns (3) have mixed types.Specify dtype option on import or set low_memory=False.\n",
      "  has_raised = await self.run_ast_nodes(code_ast.body, cell_name,\n"
     ]
    },
    {
     "name": "stdout",
     "output_type": "stream",
     "text": [
      "20210525_geotagged_pred.csv\n"
     ]
    },
    {
     "name": "stderr",
     "output_type": "stream",
     "text": [
      "C:\\Users\\user\\anaconda3\\lib\\site-packages\\IPython\\core\\interactiveshell.py:3165: DtypeWarning: Columns (3) have mixed types.Specify dtype option on import or set low_memory=False.\n",
      "  has_raised = await self.run_ast_nodes(code_ast.body, cell_name,\n"
     ]
    },
    {
     "name": "stdout",
     "output_type": "stream",
     "text": [
      "20210526_geotagged_pred.csv\n"
     ]
    },
    {
     "name": "stderr",
     "output_type": "stream",
     "text": [
      "C:\\Users\\user\\anaconda3\\lib\\site-packages\\IPython\\core\\interactiveshell.py:3165: DtypeWarning: Columns (3) have mixed types.Specify dtype option on import or set low_memory=False.\n",
      "  has_raised = await self.run_ast_nodes(code_ast.body, cell_name,\n"
     ]
    },
    {
     "name": "stdout",
     "output_type": "stream",
     "text": [
      "20210527_geotagged_pred.csv\n"
     ]
    },
    {
     "name": "stderr",
     "output_type": "stream",
     "text": [
      "C:\\Users\\user\\anaconda3\\lib\\site-packages\\IPython\\core\\interactiveshell.py:3165: DtypeWarning: Columns (3) have mixed types.Specify dtype option on import or set low_memory=False.\n",
      "  has_raised = await self.run_ast_nodes(code_ast.body, cell_name,\n"
     ]
    },
    {
     "name": "stdout",
     "output_type": "stream",
     "text": [
      "20210528_geotagged_pred.csv\n"
     ]
    },
    {
     "name": "stderr",
     "output_type": "stream",
     "text": [
      "C:\\Users\\user\\anaconda3\\lib\\site-packages\\IPython\\core\\interactiveshell.py:3165: DtypeWarning: Columns (3) have mixed types.Specify dtype option on import or set low_memory=False.\n",
      "  has_raised = await self.run_ast_nodes(code_ast.body, cell_name,\n"
     ]
    },
    {
     "name": "stdout",
     "output_type": "stream",
     "text": [
      "20210529_geotagged_pred.csv\n",
      "20210530_geotagged_pred.csv\n",
      "20210531_geotagged_pred.csv\n"
     ]
    }
   ],
   "source": [
    "# read in geotagging information\n",
    "\n",
    "combined_files  = os.listdir(combined_dir)\n",
    "\n",
    "combined_relevant = pd.DataFrame()\n",
    "for file in combined_files: \n",
    "    df = pd.read_csv(combined_dir+file)\n",
    "    df = df[df['pred_relevance']==1]\n",
    "    combined_relevant = combined_relevant.append(df)\n",
    "    print(file)\n",
    "    \n",
    "combined_relevant = combined_relevant.drop('Unnamed: 0',1)\n",
    "    "
   ]
  },
  {
   "cell_type": "code",
   "execution_count": 8,
   "id": "3c8ff32c",
   "metadata": {},
   "outputs": [
    {
     "data": {
      "text/html": [
       "<div>\n",
       "<style scoped>\n",
       "    .dataframe tbody tr th:only-of-type {\n",
       "        vertical-align: middle;\n",
       "    }\n",
       "\n",
       "    .dataframe tbody tr th {\n",
       "        vertical-align: top;\n",
       "    }\n",
       "\n",
       "    .dataframe thead th {\n",
       "        text-align: right;\n",
       "    }\n",
       "</style>\n",
       "<table border=\"1\" class=\"dataframe\">\n",
       "  <thead>\n",
       "    <tr style=\"text-align: right;\">\n",
       "      <th></th>\n",
       "      <th>tweet_loc</th>\n",
       "      <th>UID</th>\n",
       "    </tr>\n",
       "  </thead>\n",
       "  <tbody>\n",
       "    <tr>\n",
       "      <th>490</th>\n",
       "      <td>France</td>\n",
       "      <td>541935</td>\n",
       "    </tr>\n",
       "    <tr>\n",
       "      <th>45</th>\n",
       "      <td>Argentina</td>\n",
       "      <td>306296</td>\n",
       "    </tr>\n",
       "    <tr>\n",
       "      <th>1580</th>\n",
       "      <td>Thailand</td>\n",
       "      <td>214585</td>\n",
       "    </tr>\n",
       "    <tr>\n",
       "      <th>1673</th>\n",
       "      <td>United States</td>\n",
       "      <td>192341</td>\n",
       "    </tr>\n",
       "    <tr>\n",
       "      <th>192</th>\n",
       "      <td>Brazil</td>\n",
       "      <td>152826</td>\n",
       "    </tr>\n",
       "    <tr>\n",
       "      <th>251</th>\n",
       "      <td>Canada</td>\n",
       "      <td>107101</td>\n",
       "    </tr>\n",
       "    <tr>\n",
       "      <th>342</th>\n",
       "      <td>Colombia</td>\n",
       "      <td>94478</td>\n",
       "    </tr>\n",
       "    <tr>\n",
       "      <th>1223</th>\n",
       "      <td>Peru</td>\n",
       "      <td>91982</td>\n",
       "    </tr>\n",
       "    <tr>\n",
       "      <th>717</th>\n",
       "      <td>India</td>\n",
       "      <td>81543</td>\n",
       "    </tr>\n",
       "    <tr>\n",
       "      <th>305</th>\n",
       "      <td>Chile</td>\n",
       "      <td>78051</td>\n",
       "    </tr>\n",
       "    <tr>\n",
       "      <th>743</th>\n",
       "      <td>Indonesia</td>\n",
       "      <td>68195</td>\n",
       "    </tr>\n",
       "    <tr>\n",
       "      <th>1656</th>\n",
       "      <td>United Kingdom</td>\n",
       "      <td>67358</td>\n",
       "    </tr>\n",
       "    <tr>\n",
       "      <th>188</th>\n",
       "      <td>Brasil</td>\n",
       "      <td>54682</td>\n",
       "    </tr>\n",
       "    <tr>\n",
       "      <th>1044</th>\n",
       "      <td>Mexico</td>\n",
       "      <td>47348</td>\n",
       "    </tr>\n",
       "    <tr>\n",
       "      <th>1001</th>\n",
       "      <td>Malaysia</td>\n",
       "      <td>39593</td>\n",
       "    </tr>\n",
       "    <tr>\n",
       "      <th>1262</th>\n",
       "      <td>Portugal</td>\n",
       "      <td>36948</td>\n",
       "    </tr>\n",
       "    <tr>\n",
       "      <th>419</th>\n",
       "      <td>Ecuador</td>\n",
       "      <td>36939</td>\n",
       "    </tr>\n",
       "    <tr>\n",
       "      <th>442</th>\n",
       "      <td>El Salvador</td>\n",
       "      <td>36199</td>\n",
       "    </tr>\n",
       "    <tr>\n",
       "      <th>1455</th>\n",
       "      <td>Spain</td>\n",
       "      <td>35730</td>\n",
       "    </tr>\n",
       "    <tr>\n",
       "      <th>70</th>\n",
       "      <td>Australia</td>\n",
       "      <td>35400</td>\n",
       "    </tr>\n",
       "  </tbody>\n",
       "</table>\n",
       "</div>"
      ],
      "text/plain": [
       "           tweet_loc     UID\n",
       "490           France  541935\n",
       "45         Argentina  306296\n",
       "1580        Thailand  214585\n",
       "1673   United States  192341\n",
       "192           Brazil  152826\n",
       "251           Canada  107101\n",
       "342         Colombia   94478\n",
       "1223            Peru   91982\n",
       "717            India   81543\n",
       "305            Chile   78051\n",
       "743        Indonesia   68195\n",
       "1656  United Kingdom   67358\n",
       "188           Brasil   54682\n",
       "1044          Mexico   47348\n",
       "1001        Malaysia   39593\n",
       "1262        Portugal   36948\n",
       "419          Ecuador   36939\n",
       "442      El Salvador   36199\n",
       "1455           Spain   35730\n",
       "70         Australia   35400"
      ]
     },
     "execution_count": 8,
     "metadata": {},
     "output_type": "execute_result"
    }
   ],
   "source": [
    "# count top locations \n",
    "loc_count  =  combined_relevant.groupby('tweet_loc').count()\n",
    "loc_count = loc_count.reset_index()\n",
    "loc_count = loc_count[['tweet_loc','UID']]\n",
    "loc_count.sort_values(by='UID', ascending = False).head(20)\n",
    "\n"
   ]
  },
  {
   "cell_type": "code",
   "execution_count": 9,
   "id": "f34f4216",
   "metadata": {},
   "outputs": [],
   "source": [
    "combined_relevant['dt']=combined_relevant['dt'].map(twitter_datetime_preprocess)\n",
    "target_loc = list(loc_count.sort_values(by='UID', ascending = False).head(10)['tweet_loc'])\n",
    "filtered_combined_relevant = combined_relevant[combined_relevant['tweet_loc'].isin(target_loc)]"
   ]
  },
  {
   "cell_type": "markdown",
   "id": "d6200561",
   "metadata": {},
   "source": [
    "# Sentiment By Location"
   ]
  },
  {
   "cell_type": "code",
   "execution_count": 108,
   "id": "367fb35a",
   "metadata": {},
   "outputs": [],
   "source": [
    "by_loc_sentiment = filtered_combined_relevant[['screen_name', 'tweet_loc','dt', 'antivax_pred']]"
   ]
  },
  {
   "cell_type": "code",
   "execution_count": 109,
   "id": "6c884920",
   "metadata": {},
   "outputs": [
    {
     "name": "stderr",
     "output_type": "stream",
     "text": [
      "<ipython-input-109-e986db76da04>:1: SettingWithCopyWarning:\n",
      "\n",
      "\n",
      "A value is trying to be set on a copy of a slice from a DataFrame.\n",
      "Try using .loc[row_indexer,col_indexer] = value instead\n",
      "\n",
      "See the caveats in the documentation: https://pandas.pydata.org/pandas-docs/stable/user_guide/indexing.html#returning-a-view-versus-a-copy\n",
      "\n"
     ]
    }
   ],
   "source": [
    "by_loc_sentiment['antivax_pred']=by_loc_sentiment['antivax_pred'].map(int)"
   ]
  },
  {
   "cell_type": "code",
   "execution_count": 110,
   "id": "e504f378",
   "metadata": {},
   "outputs": [],
   "source": [
    "by_loc_sentiment = by_loc_sentiment.groupby(['dt','tweet_loc','screen_name'])['antivax_pred'].mean()"
   ]
  },
  {
   "cell_type": "code",
   "execution_count": 111,
   "id": "f05f2e06",
   "metadata": {},
   "outputs": [],
   "source": [
    "by_loc_sentiment = by_loc_sentiment.reset_index()"
   ]
  },
  {
   "cell_type": "code",
   "execution_count": 112,
   "id": "890a62b2",
   "metadata": {},
   "outputs": [],
   "source": [
    "dt_period = ['2020/09','2020/10','2020/11','2020/12','2021/01','2021/02','2021/03','2021/04','2021/05']\n",
    "by_loc_sentiment = by_loc_sentiment[by_loc_sentiment['dt'].isin(dt_period)]"
   ]
  },
  {
   "cell_type": "code",
   "execution_count": 113,
   "id": "3adb5ad4",
   "metadata": {},
   "outputs": [],
   "source": [
    "by_loc_sentiment = by_loc_sentiment.groupby(['dt','tweet_loc'])['antivax_pred'].sum()/by_loc_sentiment.groupby(['dt','tweet_loc'])['antivax_pred'].count()"
   ]
  },
  {
   "cell_type": "code",
   "execution_count": 114,
   "id": "9885c5f4",
   "metadata": {},
   "outputs": [],
   "source": [
    "by_loc_sentiment = by_loc_sentiment.reset_index()"
   ]
  },
  {
   "cell_type": "code",
   "execution_count": 115,
   "id": "e07042a9",
   "metadata": {},
   "outputs": [],
   "source": [
    "SA_ls = ['Argentina','Brazil','Chile','Colombia','Peru']\n",
    "NA_EU_ls = ['Canada','United States','France']\n",
    "asia_ls = ['India', 'Thailand']"
   ]
  },
  {
   "cell_type": "code",
   "execution_count": 116,
   "id": "b44d534a",
   "metadata": {},
   "outputs": [
    {
     "data": {
      "text/plain": [
       "{'Argentina',\n",
       " 'Brazil',\n",
       " 'Canada',\n",
       " 'Chile',\n",
       " 'Colombia',\n",
       " 'France',\n",
       " 'India',\n",
       " 'Peru',\n",
       " 'Thailand',\n",
       " 'United States'}"
      ]
     },
     "execution_count": 116,
     "metadata": {},
     "output_type": "execute_result"
    }
   ],
   "source": [
    "set(by_loc_sentiment['tweet_loc'])"
   ]
  },
  {
   "cell_type": "code",
   "execution_count": 117,
   "id": "6ff95b3f",
   "metadata": {},
   "outputs": [
    {
     "data": {
      "application/vnd.plotly.v1+json": {
       "config": {
        "plotlyServerURL": "https://plot.ly"
       },
       "data": [
        {
         "hovertemplate": "tweet_loc=Argentina<br>dt=%{x}<br>antivax_pred=%{y}<extra></extra>",
         "legendgroup": "Argentina",
         "line": {
          "color": "#636efa",
          "dash": "solid"
         },
         "mode": "lines",
         "name": "Argentina",
         "orientation": "v",
         "showlegend": true,
         "type": "scatter",
         "x": [
          "2020/09",
          "2020/10",
          "2020/11",
          "2020/12",
          "2021/01",
          "2021/02",
          "2021/03",
          "2021/04",
          "2021/05"
         ],
         "xaxis": "x",
         "y": [
          0.04866568116123616,
          0.10191067324637962,
          0.10110514383595556,
          0.07566318709382053,
          0.10514983772346084,
          0.08159885283401754,
          0.060567134551646425,
          0.04924983869682027,
          0.03982514867437585
         ],
         "yaxis": "y"
        },
        {
         "hovertemplate": "tweet_loc=Brazil<br>dt=%{x}<br>antivax_pred=%{y}<extra></extra>",
         "legendgroup": "Brazil",
         "line": {
          "color": "#EF553B",
          "dash": "solid"
         },
         "mode": "lines",
         "name": "Brazil",
         "orientation": "v",
         "showlegend": true,
         "type": "scatter",
         "x": [
          "2020/09",
          "2020/10",
          "2020/11",
          "2020/12",
          "2021/01",
          "2021/02",
          "2021/03",
          "2021/04",
          "2021/05"
         ],
         "xaxis": "x",
         "y": [
          0.08214879694900477,
          0.11775126826579266,
          0.07870465214256113,
          0.10681117159045235,
          0.07735046100559863,
          0.06547465959418503,
          0.060214435700624784,
          0.055609270136039814,
          0.033487788901065324
         ],
         "yaxis": "y"
        },
        {
         "hovertemplate": "tweet_loc=Chile<br>dt=%{x}<br>antivax_pred=%{y}<extra></extra>",
         "legendgroup": "Chile",
         "line": {
          "color": "#00cc96",
          "dash": "solid"
         },
         "mode": "lines",
         "name": "Chile",
         "orientation": "v",
         "showlegend": true,
         "type": "scatter",
         "x": [
          "2020/09",
          "2020/10",
          "2020/11",
          "2020/12",
          "2021/01",
          "2021/02",
          "2021/03",
          "2021/04",
          "2021/05"
         ],
         "xaxis": "x",
         "y": [
          0.03260373917008664,
          0.07133392817134326,
          0.07567980026502302,
          0.07841747510404252,
          0.08667746087389823,
          0.04500203963087601,
          0.06201372797470849,
          0.05274985845096062,
          0.055114008710905424
         ],
         "yaxis": "y"
        },
        {
         "hovertemplate": "tweet_loc=Colombia<br>dt=%{x}<br>antivax_pred=%{y}<extra></extra>",
         "legendgroup": "Colombia",
         "line": {
          "color": "#ab63fa",
          "dash": "solid"
         },
         "mode": "lines",
         "name": "Colombia",
         "orientation": "v",
         "showlegend": true,
         "type": "scatter",
         "x": [
          "2020/09",
          "2020/10",
          "2020/11",
          "2020/12",
          "2021/01",
          "2021/02",
          "2021/03",
          "2021/04",
          "2021/05"
         ],
         "xaxis": "x",
         "y": [
          0.08484506888039497,
          0.04888784953947862,
          0.04878640107040047,
          0.06492324126779218,
          0.06184195170200132,
          0.03735437145769337,
          0.07406628383623526,
          0.050943479864945865,
          0.04005701581018401
         ],
         "yaxis": "y"
        },
        {
         "hovertemplate": "tweet_loc=Peru<br>dt=%{x}<br>antivax_pred=%{y}<extra></extra>",
         "legendgroup": "Peru",
         "line": {
          "color": "#FFA15A",
          "dash": "solid"
         },
         "mode": "lines",
         "name": "Peru",
         "orientation": "v",
         "showlegend": true,
         "type": "scatter",
         "x": [
          "2020/09",
          "2020/10",
          "2020/11",
          "2020/12",
          "2021/01",
          "2021/02",
          "2021/03",
          "2021/04",
          "2021/05"
         ],
         "xaxis": "x",
         "y": [
          0.03183547089148749,
          0.0964852511078193,
          0.04729357421782013,
          0.05631406165014327,
          0.07296090289862843,
          0.055961096252001116,
          0.050669881873049306,
          0.04928967735638642,
          0.0414760149915029
         ],
         "yaxis": "y"
        }
       ],
       "layout": {
        "legend": {
         "title": {
          "text": "tweet_loc"
         },
         "tracegroupgap": 0
        },
        "margin": {
         "t": 60
        },
        "template": {
         "data": {
          "bar": [
           {
            "error_x": {
             "color": "#2a3f5f"
            },
            "error_y": {
             "color": "#2a3f5f"
            },
            "marker": {
             "line": {
              "color": "#E5ECF6",
              "width": 0.5
             },
             "pattern": {
              "fillmode": "overlay",
              "size": 10,
              "solidity": 0.2
             }
            },
            "type": "bar"
           }
          ],
          "barpolar": [
           {
            "marker": {
             "line": {
              "color": "#E5ECF6",
              "width": 0.5
             },
             "pattern": {
              "fillmode": "overlay",
              "size": 10,
              "solidity": 0.2
             }
            },
            "type": "barpolar"
           }
          ],
          "carpet": [
           {
            "aaxis": {
             "endlinecolor": "#2a3f5f",
             "gridcolor": "white",
             "linecolor": "white",
             "minorgridcolor": "white",
             "startlinecolor": "#2a3f5f"
            },
            "baxis": {
             "endlinecolor": "#2a3f5f",
             "gridcolor": "white",
             "linecolor": "white",
             "minorgridcolor": "white",
             "startlinecolor": "#2a3f5f"
            },
            "type": "carpet"
           }
          ],
          "choropleth": [
           {
            "colorbar": {
             "outlinewidth": 0,
             "ticks": ""
            },
            "type": "choropleth"
           }
          ],
          "contour": [
           {
            "colorbar": {
             "outlinewidth": 0,
             "ticks": ""
            },
            "colorscale": [
             [
              0,
              "#0d0887"
             ],
             [
              0.1111111111111111,
              "#46039f"
             ],
             [
              0.2222222222222222,
              "#7201a8"
             ],
             [
              0.3333333333333333,
              "#9c179e"
             ],
             [
              0.4444444444444444,
              "#bd3786"
             ],
             [
              0.5555555555555556,
              "#d8576b"
             ],
             [
              0.6666666666666666,
              "#ed7953"
             ],
             [
              0.7777777777777778,
              "#fb9f3a"
             ],
             [
              0.8888888888888888,
              "#fdca26"
             ],
             [
              1,
              "#f0f921"
             ]
            ],
            "type": "contour"
           }
          ],
          "contourcarpet": [
           {
            "colorbar": {
             "outlinewidth": 0,
             "ticks": ""
            },
            "type": "contourcarpet"
           }
          ],
          "heatmap": [
           {
            "colorbar": {
             "outlinewidth": 0,
             "ticks": ""
            },
            "colorscale": [
             [
              0,
              "#0d0887"
             ],
             [
              0.1111111111111111,
              "#46039f"
             ],
             [
              0.2222222222222222,
              "#7201a8"
             ],
             [
              0.3333333333333333,
              "#9c179e"
             ],
             [
              0.4444444444444444,
              "#bd3786"
             ],
             [
              0.5555555555555556,
              "#d8576b"
             ],
             [
              0.6666666666666666,
              "#ed7953"
             ],
             [
              0.7777777777777778,
              "#fb9f3a"
             ],
             [
              0.8888888888888888,
              "#fdca26"
             ],
             [
              1,
              "#f0f921"
             ]
            ],
            "type": "heatmap"
           }
          ],
          "heatmapgl": [
           {
            "colorbar": {
             "outlinewidth": 0,
             "ticks": ""
            },
            "colorscale": [
             [
              0,
              "#0d0887"
             ],
             [
              0.1111111111111111,
              "#46039f"
             ],
             [
              0.2222222222222222,
              "#7201a8"
             ],
             [
              0.3333333333333333,
              "#9c179e"
             ],
             [
              0.4444444444444444,
              "#bd3786"
             ],
             [
              0.5555555555555556,
              "#d8576b"
             ],
             [
              0.6666666666666666,
              "#ed7953"
             ],
             [
              0.7777777777777778,
              "#fb9f3a"
             ],
             [
              0.8888888888888888,
              "#fdca26"
             ],
             [
              1,
              "#f0f921"
             ]
            ],
            "type": "heatmapgl"
           }
          ],
          "histogram": [
           {
            "marker": {
             "pattern": {
              "fillmode": "overlay",
              "size": 10,
              "solidity": 0.2
             }
            },
            "type": "histogram"
           }
          ],
          "histogram2d": [
           {
            "colorbar": {
             "outlinewidth": 0,
             "ticks": ""
            },
            "colorscale": [
             [
              0,
              "#0d0887"
             ],
             [
              0.1111111111111111,
              "#46039f"
             ],
             [
              0.2222222222222222,
              "#7201a8"
             ],
             [
              0.3333333333333333,
              "#9c179e"
             ],
             [
              0.4444444444444444,
              "#bd3786"
             ],
             [
              0.5555555555555556,
              "#d8576b"
             ],
             [
              0.6666666666666666,
              "#ed7953"
             ],
             [
              0.7777777777777778,
              "#fb9f3a"
             ],
             [
              0.8888888888888888,
              "#fdca26"
             ],
             [
              1,
              "#f0f921"
             ]
            ],
            "type": "histogram2d"
           }
          ],
          "histogram2dcontour": [
           {
            "colorbar": {
             "outlinewidth": 0,
             "ticks": ""
            },
            "colorscale": [
             [
              0,
              "#0d0887"
             ],
             [
              0.1111111111111111,
              "#46039f"
             ],
             [
              0.2222222222222222,
              "#7201a8"
             ],
             [
              0.3333333333333333,
              "#9c179e"
             ],
             [
              0.4444444444444444,
              "#bd3786"
             ],
             [
              0.5555555555555556,
              "#d8576b"
             ],
             [
              0.6666666666666666,
              "#ed7953"
             ],
             [
              0.7777777777777778,
              "#fb9f3a"
             ],
             [
              0.8888888888888888,
              "#fdca26"
             ],
             [
              1,
              "#f0f921"
             ]
            ],
            "type": "histogram2dcontour"
           }
          ],
          "mesh3d": [
           {
            "colorbar": {
             "outlinewidth": 0,
             "ticks": ""
            },
            "type": "mesh3d"
           }
          ],
          "parcoords": [
           {
            "line": {
             "colorbar": {
              "outlinewidth": 0,
              "ticks": ""
             }
            },
            "type": "parcoords"
           }
          ],
          "pie": [
           {
            "automargin": true,
            "type": "pie"
           }
          ],
          "scatter": [
           {
            "marker": {
             "colorbar": {
              "outlinewidth": 0,
              "ticks": ""
             }
            },
            "type": "scatter"
           }
          ],
          "scatter3d": [
           {
            "line": {
             "colorbar": {
              "outlinewidth": 0,
              "ticks": ""
             }
            },
            "marker": {
             "colorbar": {
              "outlinewidth": 0,
              "ticks": ""
             }
            },
            "type": "scatter3d"
           }
          ],
          "scattercarpet": [
           {
            "marker": {
             "colorbar": {
              "outlinewidth": 0,
              "ticks": ""
             }
            },
            "type": "scattercarpet"
           }
          ],
          "scattergeo": [
           {
            "marker": {
             "colorbar": {
              "outlinewidth": 0,
              "ticks": ""
             }
            },
            "type": "scattergeo"
           }
          ],
          "scattergl": [
           {
            "marker": {
             "colorbar": {
              "outlinewidth": 0,
              "ticks": ""
             }
            },
            "type": "scattergl"
           }
          ],
          "scattermapbox": [
           {
            "marker": {
             "colorbar": {
              "outlinewidth": 0,
              "ticks": ""
             }
            },
            "type": "scattermapbox"
           }
          ],
          "scatterpolar": [
           {
            "marker": {
             "colorbar": {
              "outlinewidth": 0,
              "ticks": ""
             }
            },
            "type": "scatterpolar"
           }
          ],
          "scatterpolargl": [
           {
            "marker": {
             "colorbar": {
              "outlinewidth": 0,
              "ticks": ""
             }
            },
            "type": "scatterpolargl"
           }
          ],
          "scatterternary": [
           {
            "marker": {
             "colorbar": {
              "outlinewidth": 0,
              "ticks": ""
             }
            },
            "type": "scatterternary"
           }
          ],
          "surface": [
           {
            "colorbar": {
             "outlinewidth": 0,
             "ticks": ""
            },
            "colorscale": [
             [
              0,
              "#0d0887"
             ],
             [
              0.1111111111111111,
              "#46039f"
             ],
             [
              0.2222222222222222,
              "#7201a8"
             ],
             [
              0.3333333333333333,
              "#9c179e"
             ],
             [
              0.4444444444444444,
              "#bd3786"
             ],
             [
              0.5555555555555556,
              "#d8576b"
             ],
             [
              0.6666666666666666,
              "#ed7953"
             ],
             [
              0.7777777777777778,
              "#fb9f3a"
             ],
             [
              0.8888888888888888,
              "#fdca26"
             ],
             [
              1,
              "#f0f921"
             ]
            ],
            "type": "surface"
           }
          ],
          "table": [
           {
            "cells": {
             "fill": {
              "color": "#EBF0F8"
             },
             "line": {
              "color": "white"
             }
            },
            "header": {
             "fill": {
              "color": "#C8D4E3"
             },
             "line": {
              "color": "white"
             }
            },
            "type": "table"
           }
          ]
         },
         "layout": {
          "annotationdefaults": {
           "arrowcolor": "#2a3f5f",
           "arrowhead": 0,
           "arrowwidth": 1
          },
          "autotypenumbers": "strict",
          "coloraxis": {
           "colorbar": {
            "outlinewidth": 0,
            "ticks": ""
           }
          },
          "colorscale": {
           "diverging": [
            [
             0,
             "#8e0152"
            ],
            [
             0.1,
             "#c51b7d"
            ],
            [
             0.2,
             "#de77ae"
            ],
            [
             0.3,
             "#f1b6da"
            ],
            [
             0.4,
             "#fde0ef"
            ],
            [
             0.5,
             "#f7f7f7"
            ],
            [
             0.6,
             "#e6f5d0"
            ],
            [
             0.7,
             "#b8e186"
            ],
            [
             0.8,
             "#7fbc41"
            ],
            [
             0.9,
             "#4d9221"
            ],
            [
             1,
             "#276419"
            ]
           ],
           "sequential": [
            [
             0,
             "#0d0887"
            ],
            [
             0.1111111111111111,
             "#46039f"
            ],
            [
             0.2222222222222222,
             "#7201a8"
            ],
            [
             0.3333333333333333,
             "#9c179e"
            ],
            [
             0.4444444444444444,
             "#bd3786"
            ],
            [
             0.5555555555555556,
             "#d8576b"
            ],
            [
             0.6666666666666666,
             "#ed7953"
            ],
            [
             0.7777777777777778,
             "#fb9f3a"
            ],
            [
             0.8888888888888888,
             "#fdca26"
            ],
            [
             1,
             "#f0f921"
            ]
           ],
           "sequentialminus": [
            [
             0,
             "#0d0887"
            ],
            [
             0.1111111111111111,
             "#46039f"
            ],
            [
             0.2222222222222222,
             "#7201a8"
            ],
            [
             0.3333333333333333,
             "#9c179e"
            ],
            [
             0.4444444444444444,
             "#bd3786"
            ],
            [
             0.5555555555555556,
             "#d8576b"
            ],
            [
             0.6666666666666666,
             "#ed7953"
            ],
            [
             0.7777777777777778,
             "#fb9f3a"
            ],
            [
             0.8888888888888888,
             "#fdca26"
            ],
            [
             1,
             "#f0f921"
            ]
           ]
          },
          "colorway": [
           "#636efa",
           "#EF553B",
           "#00cc96",
           "#ab63fa",
           "#FFA15A",
           "#19d3f3",
           "#FF6692",
           "#B6E880",
           "#FF97FF",
           "#FECB52"
          ],
          "font": {
           "color": "#2a3f5f"
          },
          "geo": {
           "bgcolor": "white",
           "lakecolor": "white",
           "landcolor": "#E5ECF6",
           "showlakes": true,
           "showland": true,
           "subunitcolor": "white"
          },
          "hoverlabel": {
           "align": "left"
          },
          "hovermode": "closest",
          "mapbox": {
           "style": "light"
          },
          "paper_bgcolor": "white",
          "plot_bgcolor": "#E5ECF6",
          "polar": {
           "angularaxis": {
            "gridcolor": "white",
            "linecolor": "white",
            "ticks": ""
           },
           "bgcolor": "#E5ECF6",
           "radialaxis": {
            "gridcolor": "white",
            "linecolor": "white",
            "ticks": ""
           }
          },
          "scene": {
           "xaxis": {
            "backgroundcolor": "#E5ECF6",
            "gridcolor": "white",
            "gridwidth": 2,
            "linecolor": "white",
            "showbackground": true,
            "ticks": "",
            "zerolinecolor": "white"
           },
           "yaxis": {
            "backgroundcolor": "#E5ECF6",
            "gridcolor": "white",
            "gridwidth": 2,
            "linecolor": "white",
            "showbackground": true,
            "ticks": "",
            "zerolinecolor": "white"
           },
           "zaxis": {
            "backgroundcolor": "#E5ECF6",
            "gridcolor": "white",
            "gridwidth": 2,
            "linecolor": "white",
            "showbackground": true,
            "ticks": "",
            "zerolinecolor": "white"
           }
          },
          "shapedefaults": {
           "line": {
            "color": "#2a3f5f"
           }
          },
          "ternary": {
           "aaxis": {
            "gridcolor": "white",
            "linecolor": "white",
            "ticks": ""
           },
           "baxis": {
            "gridcolor": "white",
            "linecolor": "white",
            "ticks": ""
           },
           "bgcolor": "#E5ECF6",
           "caxis": {
            "gridcolor": "white",
            "linecolor": "white",
            "ticks": ""
           }
          },
          "title": {
           "x": 0.05
          },
          "xaxis": {
           "automargin": true,
           "gridcolor": "white",
           "linecolor": "white",
           "ticks": "",
           "title": {
            "standoff": 15
           },
           "zerolinecolor": "white",
           "zerolinewidth": 2
          },
          "yaxis": {
           "automargin": true,
           "gridcolor": "white",
           "linecolor": "white",
           "ticks": "",
           "title": {
            "standoff": 15
           },
           "zerolinecolor": "white",
           "zerolinewidth": 2
          }
         }
        },
        "xaxis": {
         "anchor": "y",
         "domain": [
          0,
          1
         ],
         "title": {
          "text": "dt"
         }
        },
        "yaxis": {
         "anchor": "x",
         "domain": [
          0,
          1
         ],
         "title": {
          "text": "antivax_pred"
         }
        }
       }
      },
      "text/html": [
       "<div>                            <div id=\"3111cbcb-0672-46ff-80e3-d0feb585dc6b\" class=\"plotly-graph-div\" style=\"height:525px; width:100%;\"></div>            <script type=\"text/javascript\">                require([\"plotly\"], function(Plotly) {                    window.PLOTLYENV=window.PLOTLYENV || {};                                    if (document.getElementById(\"3111cbcb-0672-46ff-80e3-d0feb585dc6b\")) {                    Plotly.newPlot(                        \"3111cbcb-0672-46ff-80e3-d0feb585dc6b\",                        [{\"hovertemplate\":\"tweet_loc=Argentina<br>dt=%{x}<br>antivax_pred=%{y}<extra></extra>\",\"legendgroup\":\"Argentina\",\"line\":{\"color\":\"#636efa\",\"dash\":\"solid\"},\"mode\":\"lines\",\"name\":\"Argentina\",\"orientation\":\"v\",\"showlegend\":true,\"type\":\"scatter\",\"x\":[\"2020/09\",\"2020/10\",\"2020/11\",\"2020/12\",\"2021/01\",\"2021/02\",\"2021/03\",\"2021/04\",\"2021/05\"],\"xaxis\":\"x\",\"y\":[0.04866568116123616,0.10191067324637962,0.10110514383595556,0.07566318709382053,0.10514983772346084,0.08159885283401754,0.060567134551646425,0.04924983869682027,0.03982514867437585],\"yaxis\":\"y\"},{\"hovertemplate\":\"tweet_loc=Brazil<br>dt=%{x}<br>antivax_pred=%{y}<extra></extra>\",\"legendgroup\":\"Brazil\",\"line\":{\"color\":\"#EF553B\",\"dash\":\"solid\"},\"mode\":\"lines\",\"name\":\"Brazil\",\"orientation\":\"v\",\"showlegend\":true,\"type\":\"scatter\",\"x\":[\"2020/09\",\"2020/10\",\"2020/11\",\"2020/12\",\"2021/01\",\"2021/02\",\"2021/03\",\"2021/04\",\"2021/05\"],\"xaxis\":\"x\",\"y\":[0.08214879694900477,0.11775126826579266,0.07870465214256113,0.10681117159045235,0.07735046100559863,0.06547465959418503,0.060214435700624784,0.055609270136039814,0.033487788901065324],\"yaxis\":\"y\"},{\"hovertemplate\":\"tweet_loc=Chile<br>dt=%{x}<br>antivax_pred=%{y}<extra></extra>\",\"legendgroup\":\"Chile\",\"line\":{\"color\":\"#00cc96\",\"dash\":\"solid\"},\"mode\":\"lines\",\"name\":\"Chile\",\"orientation\":\"v\",\"showlegend\":true,\"type\":\"scatter\",\"x\":[\"2020/09\",\"2020/10\",\"2020/11\",\"2020/12\",\"2021/01\",\"2021/02\",\"2021/03\",\"2021/04\",\"2021/05\"],\"xaxis\":\"x\",\"y\":[0.03260373917008664,0.07133392817134326,0.07567980026502302,0.07841747510404252,0.08667746087389823,0.04500203963087601,0.06201372797470849,0.05274985845096062,0.055114008710905424],\"yaxis\":\"y\"},{\"hovertemplate\":\"tweet_loc=Colombia<br>dt=%{x}<br>antivax_pred=%{y}<extra></extra>\",\"legendgroup\":\"Colombia\",\"line\":{\"color\":\"#ab63fa\",\"dash\":\"solid\"},\"mode\":\"lines\",\"name\":\"Colombia\",\"orientation\":\"v\",\"showlegend\":true,\"type\":\"scatter\",\"x\":[\"2020/09\",\"2020/10\",\"2020/11\",\"2020/12\",\"2021/01\",\"2021/02\",\"2021/03\",\"2021/04\",\"2021/05\"],\"xaxis\":\"x\",\"y\":[0.08484506888039497,0.04888784953947862,0.04878640107040047,0.06492324126779218,0.06184195170200132,0.03735437145769337,0.07406628383623526,0.050943479864945865,0.04005701581018401],\"yaxis\":\"y\"},{\"hovertemplate\":\"tweet_loc=Peru<br>dt=%{x}<br>antivax_pred=%{y}<extra></extra>\",\"legendgroup\":\"Peru\",\"line\":{\"color\":\"#FFA15A\",\"dash\":\"solid\"},\"mode\":\"lines\",\"name\":\"Peru\",\"orientation\":\"v\",\"showlegend\":true,\"type\":\"scatter\",\"x\":[\"2020/09\",\"2020/10\",\"2020/11\",\"2020/12\",\"2021/01\",\"2021/02\",\"2021/03\",\"2021/04\",\"2021/05\"],\"xaxis\":\"x\",\"y\":[0.03183547089148749,0.0964852511078193,0.04729357421782013,0.05631406165014327,0.07296090289862843,0.055961096252001116,0.050669881873049306,0.04928967735638642,0.0414760149915029],\"yaxis\":\"y\"}],                        {\"legend\":{\"title\":{\"text\":\"tweet_loc\"},\"tracegroupgap\":0},\"margin\":{\"t\":60},\"template\":{\"data\":{\"bar\":[{\"error_x\":{\"color\":\"#2a3f5f\"},\"error_y\":{\"color\":\"#2a3f5f\"},\"marker\":{\"line\":{\"color\":\"#E5ECF6\",\"width\":0.5},\"pattern\":{\"fillmode\":\"overlay\",\"size\":10,\"solidity\":0.2}},\"type\":\"bar\"}],\"barpolar\":[{\"marker\":{\"line\":{\"color\":\"#E5ECF6\",\"width\":0.5},\"pattern\":{\"fillmode\":\"overlay\",\"size\":10,\"solidity\":0.2}},\"type\":\"barpolar\"}],\"carpet\":[{\"aaxis\":{\"endlinecolor\":\"#2a3f5f\",\"gridcolor\":\"white\",\"linecolor\":\"white\",\"minorgridcolor\":\"white\",\"startlinecolor\":\"#2a3f5f\"},\"baxis\":{\"endlinecolor\":\"#2a3f5f\",\"gridcolor\":\"white\",\"linecolor\":\"white\",\"minorgridcolor\":\"white\",\"startlinecolor\":\"#2a3f5f\"},\"type\":\"carpet\"}],\"choropleth\":[{\"colorbar\":{\"outlinewidth\":0,\"ticks\":\"\"},\"type\":\"choropleth\"}],\"contour\":[{\"colorbar\":{\"outlinewidth\":0,\"ticks\":\"\"},\"colorscale\":[[0.0,\"#0d0887\"],[0.1111111111111111,\"#46039f\"],[0.2222222222222222,\"#7201a8\"],[0.3333333333333333,\"#9c179e\"],[0.4444444444444444,\"#bd3786\"],[0.5555555555555556,\"#d8576b\"],[0.6666666666666666,\"#ed7953\"],[0.7777777777777778,\"#fb9f3a\"],[0.8888888888888888,\"#fdca26\"],[1.0,\"#f0f921\"]],\"type\":\"contour\"}],\"contourcarpet\":[{\"colorbar\":{\"outlinewidth\":0,\"ticks\":\"\"},\"type\":\"contourcarpet\"}],\"heatmap\":[{\"colorbar\":{\"outlinewidth\":0,\"ticks\":\"\"},\"colorscale\":[[0.0,\"#0d0887\"],[0.1111111111111111,\"#46039f\"],[0.2222222222222222,\"#7201a8\"],[0.3333333333333333,\"#9c179e\"],[0.4444444444444444,\"#bd3786\"],[0.5555555555555556,\"#d8576b\"],[0.6666666666666666,\"#ed7953\"],[0.7777777777777778,\"#fb9f3a\"],[0.8888888888888888,\"#fdca26\"],[1.0,\"#f0f921\"]],\"type\":\"heatmap\"}],\"heatmapgl\":[{\"colorbar\":{\"outlinewidth\":0,\"ticks\":\"\"},\"colorscale\":[[0.0,\"#0d0887\"],[0.1111111111111111,\"#46039f\"],[0.2222222222222222,\"#7201a8\"],[0.3333333333333333,\"#9c179e\"],[0.4444444444444444,\"#bd3786\"],[0.5555555555555556,\"#d8576b\"],[0.6666666666666666,\"#ed7953\"],[0.7777777777777778,\"#fb9f3a\"],[0.8888888888888888,\"#fdca26\"],[1.0,\"#f0f921\"]],\"type\":\"heatmapgl\"}],\"histogram\":[{\"marker\":{\"pattern\":{\"fillmode\":\"overlay\",\"size\":10,\"solidity\":0.2}},\"type\":\"histogram\"}],\"histogram2d\":[{\"colorbar\":{\"outlinewidth\":0,\"ticks\":\"\"},\"colorscale\":[[0.0,\"#0d0887\"],[0.1111111111111111,\"#46039f\"],[0.2222222222222222,\"#7201a8\"],[0.3333333333333333,\"#9c179e\"],[0.4444444444444444,\"#bd3786\"],[0.5555555555555556,\"#d8576b\"],[0.6666666666666666,\"#ed7953\"],[0.7777777777777778,\"#fb9f3a\"],[0.8888888888888888,\"#fdca26\"],[1.0,\"#f0f921\"]],\"type\":\"histogram2d\"}],\"histogram2dcontour\":[{\"colorbar\":{\"outlinewidth\":0,\"ticks\":\"\"},\"colorscale\":[[0.0,\"#0d0887\"],[0.1111111111111111,\"#46039f\"],[0.2222222222222222,\"#7201a8\"],[0.3333333333333333,\"#9c179e\"],[0.4444444444444444,\"#bd3786\"],[0.5555555555555556,\"#d8576b\"],[0.6666666666666666,\"#ed7953\"],[0.7777777777777778,\"#fb9f3a\"],[0.8888888888888888,\"#fdca26\"],[1.0,\"#f0f921\"]],\"type\":\"histogram2dcontour\"}],\"mesh3d\":[{\"colorbar\":{\"outlinewidth\":0,\"ticks\":\"\"},\"type\":\"mesh3d\"}],\"parcoords\":[{\"line\":{\"colorbar\":{\"outlinewidth\":0,\"ticks\":\"\"}},\"type\":\"parcoords\"}],\"pie\":[{\"automargin\":true,\"type\":\"pie\"}],\"scatter\":[{\"marker\":{\"colorbar\":{\"outlinewidth\":0,\"ticks\":\"\"}},\"type\":\"scatter\"}],\"scatter3d\":[{\"line\":{\"colorbar\":{\"outlinewidth\":0,\"ticks\":\"\"}},\"marker\":{\"colorbar\":{\"outlinewidth\":0,\"ticks\":\"\"}},\"type\":\"scatter3d\"}],\"scattercarpet\":[{\"marker\":{\"colorbar\":{\"outlinewidth\":0,\"ticks\":\"\"}},\"type\":\"scattercarpet\"}],\"scattergeo\":[{\"marker\":{\"colorbar\":{\"outlinewidth\":0,\"ticks\":\"\"}},\"type\":\"scattergeo\"}],\"scattergl\":[{\"marker\":{\"colorbar\":{\"outlinewidth\":0,\"ticks\":\"\"}},\"type\":\"scattergl\"}],\"scattermapbox\":[{\"marker\":{\"colorbar\":{\"outlinewidth\":0,\"ticks\":\"\"}},\"type\":\"scattermapbox\"}],\"scatterpolar\":[{\"marker\":{\"colorbar\":{\"outlinewidth\":0,\"ticks\":\"\"}},\"type\":\"scatterpolar\"}],\"scatterpolargl\":[{\"marker\":{\"colorbar\":{\"outlinewidth\":0,\"ticks\":\"\"}},\"type\":\"scatterpolargl\"}],\"scatterternary\":[{\"marker\":{\"colorbar\":{\"outlinewidth\":0,\"ticks\":\"\"}},\"type\":\"scatterternary\"}],\"surface\":[{\"colorbar\":{\"outlinewidth\":0,\"ticks\":\"\"},\"colorscale\":[[0.0,\"#0d0887\"],[0.1111111111111111,\"#46039f\"],[0.2222222222222222,\"#7201a8\"],[0.3333333333333333,\"#9c179e\"],[0.4444444444444444,\"#bd3786\"],[0.5555555555555556,\"#d8576b\"],[0.6666666666666666,\"#ed7953\"],[0.7777777777777778,\"#fb9f3a\"],[0.8888888888888888,\"#fdca26\"],[1.0,\"#f0f921\"]],\"type\":\"surface\"}],\"table\":[{\"cells\":{\"fill\":{\"color\":\"#EBF0F8\"},\"line\":{\"color\":\"white\"}},\"header\":{\"fill\":{\"color\":\"#C8D4E3\"},\"line\":{\"color\":\"white\"}},\"type\":\"table\"}]},\"layout\":{\"annotationdefaults\":{\"arrowcolor\":\"#2a3f5f\",\"arrowhead\":0,\"arrowwidth\":1},\"autotypenumbers\":\"strict\",\"coloraxis\":{\"colorbar\":{\"outlinewidth\":0,\"ticks\":\"\"}},\"colorscale\":{\"diverging\":[[0,\"#8e0152\"],[0.1,\"#c51b7d\"],[0.2,\"#de77ae\"],[0.3,\"#f1b6da\"],[0.4,\"#fde0ef\"],[0.5,\"#f7f7f7\"],[0.6,\"#e6f5d0\"],[0.7,\"#b8e186\"],[0.8,\"#7fbc41\"],[0.9,\"#4d9221\"],[1,\"#276419\"]],\"sequential\":[[0.0,\"#0d0887\"],[0.1111111111111111,\"#46039f\"],[0.2222222222222222,\"#7201a8\"],[0.3333333333333333,\"#9c179e\"],[0.4444444444444444,\"#bd3786\"],[0.5555555555555556,\"#d8576b\"],[0.6666666666666666,\"#ed7953\"],[0.7777777777777778,\"#fb9f3a\"],[0.8888888888888888,\"#fdca26\"],[1.0,\"#f0f921\"]],\"sequentialminus\":[[0.0,\"#0d0887\"],[0.1111111111111111,\"#46039f\"],[0.2222222222222222,\"#7201a8\"],[0.3333333333333333,\"#9c179e\"],[0.4444444444444444,\"#bd3786\"],[0.5555555555555556,\"#d8576b\"],[0.6666666666666666,\"#ed7953\"],[0.7777777777777778,\"#fb9f3a\"],[0.8888888888888888,\"#fdca26\"],[1.0,\"#f0f921\"]]},\"colorway\":[\"#636efa\",\"#EF553B\",\"#00cc96\",\"#ab63fa\",\"#FFA15A\",\"#19d3f3\",\"#FF6692\",\"#B6E880\",\"#FF97FF\",\"#FECB52\"],\"font\":{\"color\":\"#2a3f5f\"},\"geo\":{\"bgcolor\":\"white\",\"lakecolor\":\"white\",\"landcolor\":\"#E5ECF6\",\"showlakes\":true,\"showland\":true,\"subunitcolor\":\"white\"},\"hoverlabel\":{\"align\":\"left\"},\"hovermode\":\"closest\",\"mapbox\":{\"style\":\"light\"},\"paper_bgcolor\":\"white\",\"plot_bgcolor\":\"#E5ECF6\",\"polar\":{\"angularaxis\":{\"gridcolor\":\"white\",\"linecolor\":\"white\",\"ticks\":\"\"},\"bgcolor\":\"#E5ECF6\",\"radialaxis\":{\"gridcolor\":\"white\",\"linecolor\":\"white\",\"ticks\":\"\"}},\"scene\":{\"xaxis\":{\"backgroundcolor\":\"#E5ECF6\",\"gridcolor\":\"white\",\"gridwidth\":2,\"linecolor\":\"white\",\"showbackground\":true,\"ticks\":\"\",\"zerolinecolor\":\"white\"},\"yaxis\":{\"backgroundcolor\":\"#E5ECF6\",\"gridcolor\":\"white\",\"gridwidth\":2,\"linecolor\":\"white\",\"showbackground\":true,\"ticks\":\"\",\"zerolinecolor\":\"white\"},\"zaxis\":{\"backgroundcolor\":\"#E5ECF6\",\"gridcolor\":\"white\",\"gridwidth\":2,\"linecolor\":\"white\",\"showbackground\":true,\"ticks\":\"\",\"zerolinecolor\":\"white\"}},\"shapedefaults\":{\"line\":{\"color\":\"#2a3f5f\"}},\"ternary\":{\"aaxis\":{\"gridcolor\":\"white\",\"linecolor\":\"white\",\"ticks\":\"\"},\"baxis\":{\"gridcolor\":\"white\",\"linecolor\":\"white\",\"ticks\":\"\"},\"bgcolor\":\"#E5ECF6\",\"caxis\":{\"gridcolor\":\"white\",\"linecolor\":\"white\",\"ticks\":\"\"}},\"title\":{\"x\":0.05},\"xaxis\":{\"automargin\":true,\"gridcolor\":\"white\",\"linecolor\":\"white\",\"ticks\":\"\",\"title\":{\"standoff\":15},\"zerolinecolor\":\"white\",\"zerolinewidth\":2},\"yaxis\":{\"automargin\":true,\"gridcolor\":\"white\",\"linecolor\":\"white\",\"ticks\":\"\",\"title\":{\"standoff\":15},\"zerolinecolor\":\"white\",\"zerolinewidth\":2}}},\"xaxis\":{\"anchor\":\"y\",\"domain\":[0.0,1.0],\"title\":{\"text\":\"dt\"}},\"yaxis\":{\"anchor\":\"x\",\"domain\":[0.0,1.0],\"title\":{\"text\":\"antivax_pred\"}}},                        {\"responsive\": true}                    ).then(function(){\n",
       "                            \n",
       "var gd = document.getElementById('3111cbcb-0672-46ff-80e3-d0feb585dc6b');\n",
       "var x = new MutationObserver(function (mutations, observer) {{\n",
       "        var display = window.getComputedStyle(gd).display;\n",
       "        if (!display || display === 'none') {{\n",
       "            console.log([gd, 'removed!']);\n",
       "            Plotly.purge(gd);\n",
       "            observer.disconnect();\n",
       "        }}\n",
       "}});\n",
       "\n",
       "// Listen for the removal of the full notebook cells\n",
       "var notebookContainer = gd.closest('#notebook-container');\n",
       "if (notebookContainer) {{\n",
       "    x.observe(notebookContainer, {childList: true});\n",
       "}}\n",
       "\n",
       "// Listen for the clearing of the current output cell\n",
       "var outputEl = gd.closest('.output');\n",
       "if (outputEl) {{\n",
       "    x.observe(outputEl, {childList: true});\n",
       "}}\n",
       "\n",
       "                        })                };                });            </script>        </div>"
      ]
     },
     "metadata": {},
     "output_type": "display_data"
    }
   ],
   "source": [
    "SA = by_loc_sentiment[by_loc_sentiment['tweet_loc'].isin(SA_ls)]\n",
    "px.line(SA, x= 'dt', y = 'antivax_pred', color='tweet_loc')"
   ]
  },
  {
   "cell_type": "markdown",
   "id": "c4056a69",
   "metadata": {},
   "source": [
    "# Gross Topic Distribution"
   ]
  },
  {
   "cell_type": "code",
   "execution_count": 13,
   "id": "152b9473",
   "metadata": {},
   "outputs": [],
   "source": [
    "location_count  =  filtered_combined_relevant[['tweet_loc','UID','dt']]\n",
    "location_count = location_count.groupby(['tweet_loc','dt']).count()\n",
    "data_dir = 'data/twitter_prediction/data/topic_pred/'\n",
    "topic_files = os.listdir(data_dir)\n",
    "date_ls = [file[0:6] for file in topic_files]\n",
    "date_ls = list(set(date_ls))\n",
    "date_ls = sorted(date_ls)\n",
    "\n",
    "topic_decoded = pd.read_csv('data/twitter_prediction/data/other_data/twitter_topics_aug4.csv')\n"
   ]
  },
  {
   "cell_type": "code",
   "execution_count": 14,
   "id": "9f82dce8",
   "metadata": {},
   "outputs": [],
   "source": [
    "topic_decoded_dict= {}\n",
    "for indx in range(len(topic_decoded)):\n",
    "    topic_decoded_dict[topic_decoded.iloc[indx]['number']]= topic_decoded.iloc[indx]['group']"
   ]
  },
  {
   "cell_type": "code",
   "execution_count": null,
   "id": "ab919de4",
   "metadata": {},
   "outputs": [],
   "source": [
    "# Topic Distribution by location\n",
    "\n",
    "geo_ls = []\n",
    "geo_linked_df = pd.DataFrame()\n",
    "for indx, file in enumerate(topic_files):\n",
    "    #df = pd.read_csv(data_dir+target_file)\n",
    "    geo_data = pd.read_csv(geo_dir+ f'{indx}_geo.csv')\n",
    "    geo_data['tweet_id'] = geo_data['tweet_id'].map(messy_tweet_id)\n",
    "    geo_data.drop_duplicates(inplace=True)\n",
    "    geo_data = geo_data[['tweet_id', 'tweet_loc']]\n",
    "    geo_linked_df = geo_linked_df.append(geo_data)\n",
    "    geo_ls.append(list(geo_data['tweet_id']))\n",
    "    print(file)\n",
    "\n",
    "geo_ls = [_id for subls in geo_ls for _id in subls]\n",
    "\n",
    "geo_tagged_df = pd.DataFrame()\n",
    "for indx, file in enumerate(topic_files):\n",
    "    df = pd.read_csv(data_dir+file)\n",
    "    df['tweet_id'] = df['tweet_id'].map(messy_tweet_id)\n",
    "    df = df[df['tweet_id'].isin(geo_ls)]\n",
    "    geo_tagged_df = geo_tagged_df.append(df)\n",
    "    print(file)\n",
    "\n",
    "geo_location = geo_linked_df.groupby('tweet_loc').count()\n",
    "\n",
    "locations = list(geo_location.sort_values(by='tweet_id', ascending =False).head(10).index)\n",
    "\n",
    "locations.append('Chile')\n",
    "\n",
    "loc_topic_distribution_agg = pd.DataFrame()\n",
    "loc_hesitant_agg = pd.DataFrame()\n",
    "\n",
    "for indx, loc in enumerate(locations):\n",
    "    target_df = geo_linked_df[geo_linked_df['tweet_loc']==loc]\n",
    "    target_df =pd.merge(target_df,geo_tagged_df, on='tweet_id', how='left')\n",
    "    target_df.dropna(subset=['dt'], inplace=True)\n",
    "    target_df['topic'] = target_df['topic'].map(topic_decoded_dict)\n",
    "    loc_stat = target_df.groupby('topic')['text'].count()\n",
    "    loc_hesitant = target_df[target_df['antivax_pred']==1].groupby(['topic'])['antivax_pred'].count()/target_df.groupby(['topic'])['antivax_pred'].count()\n",
    "    if indx==0:\n",
    "        loc_topic_distribution_agg = loc_stat\n",
    "        loc_hesitant_agg=loc_hesitant\n",
    "    else:\n",
    "        loc_topic_distribution_agg = pd.merge(loc_topic_distribution_agg, loc_stat, left_index=True, right_index=True)\n",
    "        loc_hesitant_agg = pd.merge(loc_hesitant_agg, loc_hesitant, left_index=True, right_index=True)\n",
    "    print(loc)\n",
    "    \n",
    "\n",
    "loc_topic_distribution_agg.columns = locations\n",
    "loc_topic_distribution_agg.reset_index(inplace=True)\n",
    "\n",
    "loc_topic_distribution_agg=loc_topic_distribution_agg[loc_topic_distribution_agg['topic']!='IR']\n",
    "loc_topic_distribution_agg=loc_topic_distribution_agg[loc_topic_distribution_agg['topic']!='Vaccine General']\n",
    "\n",
    "loc_topic_distribution_agg\n",
    "\n",
    "import plotly.express as px\n",
    "\n",
    "for loc in locations:\n",
    "        fig = px.pie(loc_topic_distribution_agg, values=f'{loc}', names='topic',color='topic',\n",
    "                     title=f'Topic Distribution for {loc}')\n",
    "        #fig.update_trace(sort=False)\n",
    "        fig.write_html(f'topic_pie_{loc}.html')\n",
    "\n",
    "loc_hesitant_agg = loc_hesitant_agg*100\n",
    "loc_hesitant_agg.columns = locations\n",
    "loc_hesitant_agg.reset_index(inplace=True)\n",
    "loc_hesitant_agg=loc_hesitant_agg[loc_hesitant_agg['topic']!='IR']\n",
    "loc_hesitant_agg=loc_hesitant_agg[loc_hesitant_agg['topic']!='Vaccine General']\n",
    "\n",
    "\n",
    "\n",
    "\n",
    "for loc in locations:\n",
    "        fig = px.bar(loc_hesitant_agg, y=f'{loc}', x='topic',color='topic',\n",
    "                     title=f'Proportion of Hesitant Posts for {loc}')\n",
    "        fig.update_layout(template='simple_white')\n",
    "        fig.update_xaxes(title_text = 'Topic')\n",
    "        fig.update_yaxes(title_text = 'Percentage of Hesitant Posts')\n",
    "\n",
    "        #fig.update_trace(sort=False)\n",
    "        fig.write_html(f'topic_bar_{loc}.html')"
   ]
  },
  {
   "cell_type": "code",
   "execution_count": 15,
   "id": "1e700f22",
   "metadata": {},
   "outputs": [
    {
     "name": "stdout",
     "output_type": "stream",
     "text": [
      "202009\n",
      "202010\n",
      "202011\n",
      "202012\n",
      "202101\n",
      "202102\n",
      "202103\n",
      "202104\n",
      "202105\n"
     ]
    }
   ],
   "source": [
    "combined_stat=pd.DataFrame()\n",
    "\n",
    "for date in date_ls:\n",
    "    month_agg = pd.DataFrame()\n",
    "    target_file_ls = [file for file in topic_files if file[0:6]==date]\n",
    "    for target_file in target_file_ls: \n",
    "        df = pd.read_csv(data_dir+target_file)\n",
    "        month_agg= month_agg.append(df)\n",
    "\n",
    "    month_agg['topic'] = month_agg['topic'].map(topic_decoded_dict)\n",
    "    month_agg['antivax_pred'] = month_agg['antivax_pred'].map({1:-1,0:1})\n",
    "    month_agg['tweet_sen'] = month_agg['tweet_sen'].map({0:-1,1:1})\n",
    "\n",
    "    month_stats_count = month_agg.groupby(['topic'])['text'].count()\n",
    "    vac_sen_stats = month_agg.groupby(['topic'])['antivax_pred'].mean()\n",
    "    tweet_sen_stats =  month_agg.groupby(['topic'])['tweet_sen'].mean()\n",
    "    \n",
    "    combined_month_stat = pd.merge(month_stats_count, vac_sen_stats, left_index=True, right_index=True)\n",
    "    combined_month_stat = pd.merge(combined_month_stat, tweet_sen_stats, left_index=True, right_index=True)\n",
    "    combined_month_stat['month']=date\n",
    "    \n",
    "    combined_stat = combined_stat.append(combined_month_stat)\n",
    "    \n",
    "    print(date)"
   ]
  },
  {
   "cell_type": "code",
   "execution_count": 20,
   "id": "ceeed31c",
   "metadata": {},
   "outputs": [],
   "source": [
    "combined_stat.columns = ['topic','count','vac_sen','topic_sen', 'month']\n",
    "combined_stat.reset_index(inplace=True)\n",
    "combined_stat = combined_stat[combined_stat['topic']!='IR']\n",
    "combined_stat = combined_stat[combined_stat['topic']!='Vaccine General']"
   ]
  },
  {
   "cell_type": "code",
   "execution_count": 21,
   "id": "23203768",
   "metadata": {
    "scrolled": true
   },
   "outputs": [
    {
     "data": {
      "application/vnd.plotly.v1+json": {
       "config": {
        "plotlyServerURL": "https://plot.ly"
       },
       "data": [
        {
         "hovertemplate": "topic=Vaccine Delivery<br>month=%{x}<br>count=%{y}<extra></extra>",
         "legendgroup": "Vaccine Delivery",
         "line": {
          "color": "#636efa",
          "dash": "solid"
         },
         "mode": "lines",
         "name": "Vaccine Delivery",
         "orientation": "v",
         "showlegend": true,
         "type": "scatter",
         "x": [
          "202009",
          "202010",
          "202011",
          "202012",
          "202101",
          "202102",
          "202103",
          "202104",
          "202105"
         ],
         "xaxis": "x",
         "y": [
          29061,
          82789,
          138619,
          234728,
          209910,
          171379,
          221682,
          224322,
          229676
         ],
         "yaxis": "y"
        },
        {
         "hovertemplate": "topic=Vaccine Effectiveness<br>month=%{x}<br>count=%{y}<extra></extra>",
         "legendgroup": "Vaccine Effectiveness",
         "line": {
          "color": "#EF553B",
          "dash": "solid"
         },
         "mode": "lines",
         "name": "Vaccine Effectiveness",
         "orientation": "v",
         "showlegend": true,
         "type": "scatter",
         "x": [
          "202009",
          "202010",
          "202011",
          "202012",
          "202101",
          "202102",
          "202103",
          "202104",
          "202105"
         ],
         "xaxis": "x",
         "y": [
          11200,
          16886,
          36265,
          54049,
          39832,
          32645,
          41473,
          67594,
          93504
         ],
         "yaxis": "y"
        },
        {
         "hovertemplate": "topic=Vaccine Incentives<br>month=%{x}<br>count=%{y}<extra></extra>",
         "legendgroup": "Vaccine Incentives",
         "line": {
          "color": "#00cc96",
          "dash": "solid"
         },
         "mode": "lines",
         "name": "Vaccine Incentives",
         "orientation": "v",
         "showlegend": true,
         "type": "scatter",
         "x": [
          "202009",
          "202010",
          "202011",
          "202012",
          "202101",
          "202102",
          "202103",
          "202104",
          "202105"
         ],
         "xaxis": "x",
         "y": [
          19457,
          71699,
          74445,
          101218,
          145513,
          92553,
          105003,
          97350,
          108817
         ],
         "yaxis": "y"
        },
        {
         "hovertemplate": "topic=Vaccine Safety<br>month=%{x}<br>count=%{y}<extra></extra>",
         "legendgroup": "Vaccine Safety",
         "line": {
          "color": "#ab63fa",
          "dash": "solid"
         },
         "mode": "lines",
         "name": "Vaccine Safety",
         "orientation": "v",
         "showlegend": true,
         "type": "scatter",
         "x": [
          "202009",
          "202010",
          "202011",
          "202012",
          "202101",
          "202102",
          "202103",
          "202104",
          "202105"
         ],
         "xaxis": "x",
         "y": [
          2594,
          6660,
          10877,
          12985,
          27170,
          12934,
          17458,
          45701,
          65234
         ],
         "yaxis": "y"
        },
        {
         "hovertemplate": "topic=Vaccine Trial<br>month=%{x}<br>count=%{y}<extra></extra>",
         "legendgroup": "Vaccine Trial",
         "line": {
          "color": "#FFA15A",
          "dash": "solid"
         },
         "mode": "lines",
         "name": "Vaccine Trial",
         "orientation": "v",
         "showlegend": true,
         "type": "scatter",
         "x": [
          "202009",
          "202010",
          "202011",
          "202012",
          "202101",
          "202102",
          "202103",
          "202104",
          "202105"
         ],
         "xaxis": "x",
         "y": [
          16720,
          41616,
          116588,
          112965,
          98397,
          113171,
          87571,
          103964,
          101514
         ],
         "yaxis": "y"
        }
       ],
       "layout": {
        "legend": {
         "title": {
          "text": "topic"
         },
         "tracegroupgap": 0
        },
        "margin": {
         "t": 60
        },
        "template": {
         "data": {
          "bar": [
           {
            "error_x": {
             "color": "rgb(36,36,36)"
            },
            "error_y": {
             "color": "rgb(36,36,36)"
            },
            "marker": {
             "line": {
              "color": "white",
              "width": 0.5
             },
             "pattern": {
              "fillmode": "overlay",
              "size": 10,
              "solidity": 0.2
             }
            },
            "type": "bar"
           }
          ],
          "barpolar": [
           {
            "marker": {
             "line": {
              "color": "white",
              "width": 0.5
             },
             "pattern": {
              "fillmode": "overlay",
              "size": 10,
              "solidity": 0.2
             }
            },
            "type": "barpolar"
           }
          ],
          "carpet": [
           {
            "aaxis": {
             "endlinecolor": "rgb(36,36,36)",
             "gridcolor": "white",
             "linecolor": "white",
             "minorgridcolor": "white",
             "startlinecolor": "rgb(36,36,36)"
            },
            "baxis": {
             "endlinecolor": "rgb(36,36,36)",
             "gridcolor": "white",
             "linecolor": "white",
             "minorgridcolor": "white",
             "startlinecolor": "rgb(36,36,36)"
            },
            "type": "carpet"
           }
          ],
          "choropleth": [
           {
            "colorbar": {
             "outlinewidth": 1,
             "tickcolor": "rgb(36,36,36)",
             "ticks": "outside"
            },
            "type": "choropleth"
           }
          ],
          "contour": [
           {
            "colorbar": {
             "outlinewidth": 1,
             "tickcolor": "rgb(36,36,36)",
             "ticks": "outside"
            },
            "colorscale": [
             [
              0,
              "#440154"
             ],
             [
              0.1111111111111111,
              "#482878"
             ],
             [
              0.2222222222222222,
              "#3e4989"
             ],
             [
              0.3333333333333333,
              "#31688e"
             ],
             [
              0.4444444444444444,
              "#26828e"
             ],
             [
              0.5555555555555556,
              "#1f9e89"
             ],
             [
              0.6666666666666666,
              "#35b779"
             ],
             [
              0.7777777777777778,
              "#6ece58"
             ],
             [
              0.8888888888888888,
              "#b5de2b"
             ],
             [
              1,
              "#fde725"
             ]
            ],
            "type": "contour"
           }
          ],
          "contourcarpet": [
           {
            "colorbar": {
             "outlinewidth": 1,
             "tickcolor": "rgb(36,36,36)",
             "ticks": "outside"
            },
            "type": "contourcarpet"
           }
          ],
          "heatmap": [
           {
            "colorbar": {
             "outlinewidth": 1,
             "tickcolor": "rgb(36,36,36)",
             "ticks": "outside"
            },
            "colorscale": [
             [
              0,
              "#440154"
             ],
             [
              0.1111111111111111,
              "#482878"
             ],
             [
              0.2222222222222222,
              "#3e4989"
             ],
             [
              0.3333333333333333,
              "#31688e"
             ],
             [
              0.4444444444444444,
              "#26828e"
             ],
             [
              0.5555555555555556,
              "#1f9e89"
             ],
             [
              0.6666666666666666,
              "#35b779"
             ],
             [
              0.7777777777777778,
              "#6ece58"
             ],
             [
              0.8888888888888888,
              "#b5de2b"
             ],
             [
              1,
              "#fde725"
             ]
            ],
            "type": "heatmap"
           }
          ],
          "heatmapgl": [
           {
            "colorbar": {
             "outlinewidth": 1,
             "tickcolor": "rgb(36,36,36)",
             "ticks": "outside"
            },
            "colorscale": [
             [
              0,
              "#440154"
             ],
             [
              0.1111111111111111,
              "#482878"
             ],
             [
              0.2222222222222222,
              "#3e4989"
             ],
             [
              0.3333333333333333,
              "#31688e"
             ],
             [
              0.4444444444444444,
              "#26828e"
             ],
             [
              0.5555555555555556,
              "#1f9e89"
             ],
             [
              0.6666666666666666,
              "#35b779"
             ],
             [
              0.7777777777777778,
              "#6ece58"
             ],
             [
              0.8888888888888888,
              "#b5de2b"
             ],
             [
              1,
              "#fde725"
             ]
            ],
            "type": "heatmapgl"
           }
          ],
          "histogram": [
           {
            "marker": {
             "line": {
              "color": "white",
              "width": 0.6
             }
            },
            "type": "histogram"
           }
          ],
          "histogram2d": [
           {
            "colorbar": {
             "outlinewidth": 1,
             "tickcolor": "rgb(36,36,36)",
             "ticks": "outside"
            },
            "colorscale": [
             [
              0,
              "#440154"
             ],
             [
              0.1111111111111111,
              "#482878"
             ],
             [
              0.2222222222222222,
              "#3e4989"
             ],
             [
              0.3333333333333333,
              "#31688e"
             ],
             [
              0.4444444444444444,
              "#26828e"
             ],
             [
              0.5555555555555556,
              "#1f9e89"
             ],
             [
              0.6666666666666666,
              "#35b779"
             ],
             [
              0.7777777777777778,
              "#6ece58"
             ],
             [
              0.8888888888888888,
              "#b5de2b"
             ],
             [
              1,
              "#fde725"
             ]
            ],
            "type": "histogram2d"
           }
          ],
          "histogram2dcontour": [
           {
            "colorbar": {
             "outlinewidth": 1,
             "tickcolor": "rgb(36,36,36)",
             "ticks": "outside"
            },
            "colorscale": [
             [
              0,
              "#440154"
             ],
             [
              0.1111111111111111,
              "#482878"
             ],
             [
              0.2222222222222222,
              "#3e4989"
             ],
             [
              0.3333333333333333,
              "#31688e"
             ],
             [
              0.4444444444444444,
              "#26828e"
             ],
             [
              0.5555555555555556,
              "#1f9e89"
             ],
             [
              0.6666666666666666,
              "#35b779"
             ],
             [
              0.7777777777777778,
              "#6ece58"
             ],
             [
              0.8888888888888888,
              "#b5de2b"
             ],
             [
              1,
              "#fde725"
             ]
            ],
            "type": "histogram2dcontour"
           }
          ],
          "mesh3d": [
           {
            "colorbar": {
             "outlinewidth": 1,
             "tickcolor": "rgb(36,36,36)",
             "ticks": "outside"
            },
            "type": "mesh3d"
           }
          ],
          "parcoords": [
           {
            "line": {
             "colorbar": {
              "outlinewidth": 1,
              "tickcolor": "rgb(36,36,36)",
              "ticks": "outside"
             }
            },
            "type": "parcoords"
           }
          ],
          "pie": [
           {
            "automargin": true,
            "type": "pie"
           }
          ],
          "scatter": [
           {
            "marker": {
             "colorbar": {
              "outlinewidth": 1,
              "tickcolor": "rgb(36,36,36)",
              "ticks": "outside"
             }
            },
            "type": "scatter"
           }
          ],
          "scatter3d": [
           {
            "line": {
             "colorbar": {
              "outlinewidth": 1,
              "tickcolor": "rgb(36,36,36)",
              "ticks": "outside"
             }
            },
            "marker": {
             "colorbar": {
              "outlinewidth": 1,
              "tickcolor": "rgb(36,36,36)",
              "ticks": "outside"
             }
            },
            "type": "scatter3d"
           }
          ],
          "scattercarpet": [
           {
            "marker": {
             "colorbar": {
              "outlinewidth": 1,
              "tickcolor": "rgb(36,36,36)",
              "ticks": "outside"
             }
            },
            "type": "scattercarpet"
           }
          ],
          "scattergeo": [
           {
            "marker": {
             "colorbar": {
              "outlinewidth": 1,
              "tickcolor": "rgb(36,36,36)",
              "ticks": "outside"
             }
            },
            "type": "scattergeo"
           }
          ],
          "scattergl": [
           {
            "marker": {
             "colorbar": {
              "outlinewidth": 1,
              "tickcolor": "rgb(36,36,36)",
              "ticks": "outside"
             }
            },
            "type": "scattergl"
           }
          ],
          "scattermapbox": [
           {
            "marker": {
             "colorbar": {
              "outlinewidth": 1,
              "tickcolor": "rgb(36,36,36)",
              "ticks": "outside"
             }
            },
            "type": "scattermapbox"
           }
          ],
          "scatterpolar": [
           {
            "marker": {
             "colorbar": {
              "outlinewidth": 1,
              "tickcolor": "rgb(36,36,36)",
              "ticks": "outside"
             }
            },
            "type": "scatterpolar"
           }
          ],
          "scatterpolargl": [
           {
            "marker": {
             "colorbar": {
              "outlinewidth": 1,
              "tickcolor": "rgb(36,36,36)",
              "ticks": "outside"
             }
            },
            "type": "scatterpolargl"
           }
          ],
          "scatterternary": [
           {
            "marker": {
             "colorbar": {
              "outlinewidth": 1,
              "tickcolor": "rgb(36,36,36)",
              "ticks": "outside"
             }
            },
            "type": "scatterternary"
           }
          ],
          "surface": [
           {
            "colorbar": {
             "outlinewidth": 1,
             "tickcolor": "rgb(36,36,36)",
             "ticks": "outside"
            },
            "colorscale": [
             [
              0,
              "#440154"
             ],
             [
              0.1111111111111111,
              "#482878"
             ],
             [
              0.2222222222222222,
              "#3e4989"
             ],
             [
              0.3333333333333333,
              "#31688e"
             ],
             [
              0.4444444444444444,
              "#26828e"
             ],
             [
              0.5555555555555556,
              "#1f9e89"
             ],
             [
              0.6666666666666666,
              "#35b779"
             ],
             [
              0.7777777777777778,
              "#6ece58"
             ],
             [
              0.8888888888888888,
              "#b5de2b"
             ],
             [
              1,
              "#fde725"
             ]
            ],
            "type": "surface"
           }
          ],
          "table": [
           {
            "cells": {
             "fill": {
              "color": "rgb(237,237,237)"
             },
             "line": {
              "color": "white"
             }
            },
            "header": {
             "fill": {
              "color": "rgb(217,217,217)"
             },
             "line": {
              "color": "white"
             }
            },
            "type": "table"
           }
          ]
         },
         "layout": {
          "annotationdefaults": {
           "arrowhead": 0,
           "arrowwidth": 1
          },
          "autotypenumbers": "strict",
          "coloraxis": {
           "colorbar": {
            "outlinewidth": 1,
            "tickcolor": "rgb(36,36,36)",
            "ticks": "outside"
           }
          },
          "colorscale": {
           "diverging": [
            [
             0,
             "rgb(103,0,31)"
            ],
            [
             0.1,
             "rgb(178,24,43)"
            ],
            [
             0.2,
             "rgb(214,96,77)"
            ],
            [
             0.3,
             "rgb(244,165,130)"
            ],
            [
             0.4,
             "rgb(253,219,199)"
            ],
            [
             0.5,
             "rgb(247,247,247)"
            ],
            [
             0.6,
             "rgb(209,229,240)"
            ],
            [
             0.7,
             "rgb(146,197,222)"
            ],
            [
             0.8,
             "rgb(67,147,195)"
            ],
            [
             0.9,
             "rgb(33,102,172)"
            ],
            [
             1,
             "rgb(5,48,97)"
            ]
           ],
           "sequential": [
            [
             0,
             "#440154"
            ],
            [
             0.1111111111111111,
             "#482878"
            ],
            [
             0.2222222222222222,
             "#3e4989"
            ],
            [
             0.3333333333333333,
             "#31688e"
            ],
            [
             0.4444444444444444,
             "#26828e"
            ],
            [
             0.5555555555555556,
             "#1f9e89"
            ],
            [
             0.6666666666666666,
             "#35b779"
            ],
            [
             0.7777777777777778,
             "#6ece58"
            ],
            [
             0.8888888888888888,
             "#b5de2b"
            ],
            [
             1,
             "#fde725"
            ]
           ],
           "sequentialminus": [
            [
             0,
             "#440154"
            ],
            [
             0.1111111111111111,
             "#482878"
            ],
            [
             0.2222222222222222,
             "#3e4989"
            ],
            [
             0.3333333333333333,
             "#31688e"
            ],
            [
             0.4444444444444444,
             "#26828e"
            ],
            [
             0.5555555555555556,
             "#1f9e89"
            ],
            [
             0.6666666666666666,
             "#35b779"
            ],
            [
             0.7777777777777778,
             "#6ece58"
            ],
            [
             0.8888888888888888,
             "#b5de2b"
            ],
            [
             1,
             "#fde725"
            ]
           ]
          },
          "colorway": [
           "#1F77B4",
           "#FF7F0E",
           "#2CA02C",
           "#D62728",
           "#9467BD",
           "#8C564B",
           "#E377C2",
           "#7F7F7F",
           "#BCBD22",
           "#17BECF"
          ],
          "font": {
           "color": "rgb(36,36,36)"
          },
          "geo": {
           "bgcolor": "white",
           "lakecolor": "white",
           "landcolor": "white",
           "showlakes": true,
           "showland": true,
           "subunitcolor": "white"
          },
          "hoverlabel": {
           "align": "left"
          },
          "hovermode": "closest",
          "mapbox": {
           "style": "light"
          },
          "paper_bgcolor": "white",
          "plot_bgcolor": "white",
          "polar": {
           "angularaxis": {
            "gridcolor": "rgb(232,232,232)",
            "linecolor": "rgb(36,36,36)",
            "showgrid": false,
            "showline": true,
            "ticks": "outside"
           },
           "bgcolor": "white",
           "radialaxis": {
            "gridcolor": "rgb(232,232,232)",
            "linecolor": "rgb(36,36,36)",
            "showgrid": false,
            "showline": true,
            "ticks": "outside"
           }
          },
          "scene": {
           "xaxis": {
            "backgroundcolor": "white",
            "gridcolor": "rgb(232,232,232)",
            "gridwidth": 2,
            "linecolor": "rgb(36,36,36)",
            "showbackground": true,
            "showgrid": false,
            "showline": true,
            "ticks": "outside",
            "zeroline": false,
            "zerolinecolor": "rgb(36,36,36)"
           },
           "yaxis": {
            "backgroundcolor": "white",
            "gridcolor": "rgb(232,232,232)",
            "gridwidth": 2,
            "linecolor": "rgb(36,36,36)",
            "showbackground": true,
            "showgrid": false,
            "showline": true,
            "ticks": "outside",
            "zeroline": false,
            "zerolinecolor": "rgb(36,36,36)"
           },
           "zaxis": {
            "backgroundcolor": "white",
            "gridcolor": "rgb(232,232,232)",
            "gridwidth": 2,
            "linecolor": "rgb(36,36,36)",
            "showbackground": true,
            "showgrid": false,
            "showline": true,
            "ticks": "outside",
            "zeroline": false,
            "zerolinecolor": "rgb(36,36,36)"
           }
          },
          "shapedefaults": {
           "fillcolor": "black",
           "line": {
            "width": 0
           },
           "opacity": 0.3
          },
          "ternary": {
           "aaxis": {
            "gridcolor": "rgb(232,232,232)",
            "linecolor": "rgb(36,36,36)",
            "showgrid": false,
            "showline": true,
            "ticks": "outside"
           },
           "baxis": {
            "gridcolor": "rgb(232,232,232)",
            "linecolor": "rgb(36,36,36)",
            "showgrid": false,
            "showline": true,
            "ticks": "outside"
           },
           "bgcolor": "white",
           "caxis": {
            "gridcolor": "rgb(232,232,232)",
            "linecolor": "rgb(36,36,36)",
            "showgrid": false,
            "showline": true,
            "ticks": "outside"
           }
          },
          "title": {
           "x": 0.05
          },
          "xaxis": {
           "automargin": true,
           "gridcolor": "rgb(232,232,232)",
           "linecolor": "rgb(36,36,36)",
           "showgrid": false,
           "showline": true,
           "ticks": "outside",
           "title": {
            "standoff": 15
           },
           "zeroline": false,
           "zerolinecolor": "rgb(36,36,36)"
          },
          "yaxis": {
           "automargin": true,
           "gridcolor": "rgb(232,232,232)",
           "linecolor": "rgb(36,36,36)",
           "showgrid": false,
           "showline": true,
           "ticks": "outside",
           "title": {
            "standoff": 15
           },
           "zeroline": false,
           "zerolinecolor": "rgb(36,36,36)"
          }
         }
        },
        "title": {
         "text": "Twitter Posts By Topic"
        },
        "xaxis": {
         "anchor": "y",
         "domain": [
          0,
          1
         ],
         "title": {
          "text": "Month"
         }
        },
        "yaxis": {
         "anchor": "x",
         "domain": [
          0,
          1
         ],
         "title": {
          "text": "Count"
         }
        }
       }
      },
      "text/html": [
       "<div>                            <div id=\"0d26c285-3ef3-4d4c-bdc0-5c7df62b4289\" class=\"plotly-graph-div\" style=\"height:525px; width:100%;\"></div>            <script type=\"text/javascript\">                require([\"plotly\"], function(Plotly) {                    window.PLOTLYENV=window.PLOTLYENV || {};                                    if (document.getElementById(\"0d26c285-3ef3-4d4c-bdc0-5c7df62b4289\")) {                    Plotly.newPlot(                        \"0d26c285-3ef3-4d4c-bdc0-5c7df62b4289\",                        [{\"hovertemplate\":\"topic=Vaccine Delivery<br>month=%{x}<br>count=%{y}<extra></extra>\",\"legendgroup\":\"Vaccine Delivery\",\"line\":{\"color\":\"#636efa\",\"dash\":\"solid\"},\"mode\":\"lines\",\"name\":\"Vaccine Delivery\",\"orientation\":\"v\",\"showlegend\":true,\"type\":\"scatter\",\"x\":[\"202009\",\"202010\",\"202011\",\"202012\",\"202101\",\"202102\",\"202103\",\"202104\",\"202105\"],\"xaxis\":\"x\",\"y\":[29061,82789,138619,234728,209910,171379,221682,224322,229676],\"yaxis\":\"y\"},{\"hovertemplate\":\"topic=Vaccine Effectiveness<br>month=%{x}<br>count=%{y}<extra></extra>\",\"legendgroup\":\"Vaccine Effectiveness\",\"line\":{\"color\":\"#EF553B\",\"dash\":\"solid\"},\"mode\":\"lines\",\"name\":\"Vaccine Effectiveness\",\"orientation\":\"v\",\"showlegend\":true,\"type\":\"scatter\",\"x\":[\"202009\",\"202010\",\"202011\",\"202012\",\"202101\",\"202102\",\"202103\",\"202104\",\"202105\"],\"xaxis\":\"x\",\"y\":[11200,16886,36265,54049,39832,32645,41473,67594,93504],\"yaxis\":\"y\"},{\"hovertemplate\":\"topic=Vaccine Incentives<br>month=%{x}<br>count=%{y}<extra></extra>\",\"legendgroup\":\"Vaccine Incentives\",\"line\":{\"color\":\"#00cc96\",\"dash\":\"solid\"},\"mode\":\"lines\",\"name\":\"Vaccine Incentives\",\"orientation\":\"v\",\"showlegend\":true,\"type\":\"scatter\",\"x\":[\"202009\",\"202010\",\"202011\",\"202012\",\"202101\",\"202102\",\"202103\",\"202104\",\"202105\"],\"xaxis\":\"x\",\"y\":[19457,71699,74445,101218,145513,92553,105003,97350,108817],\"yaxis\":\"y\"},{\"hovertemplate\":\"topic=Vaccine Safety<br>month=%{x}<br>count=%{y}<extra></extra>\",\"legendgroup\":\"Vaccine Safety\",\"line\":{\"color\":\"#ab63fa\",\"dash\":\"solid\"},\"mode\":\"lines\",\"name\":\"Vaccine Safety\",\"orientation\":\"v\",\"showlegend\":true,\"type\":\"scatter\",\"x\":[\"202009\",\"202010\",\"202011\",\"202012\",\"202101\",\"202102\",\"202103\",\"202104\",\"202105\"],\"xaxis\":\"x\",\"y\":[2594,6660,10877,12985,27170,12934,17458,45701,65234],\"yaxis\":\"y\"},{\"hovertemplate\":\"topic=Vaccine Trial<br>month=%{x}<br>count=%{y}<extra></extra>\",\"legendgroup\":\"Vaccine Trial\",\"line\":{\"color\":\"#FFA15A\",\"dash\":\"solid\"},\"mode\":\"lines\",\"name\":\"Vaccine Trial\",\"orientation\":\"v\",\"showlegend\":true,\"type\":\"scatter\",\"x\":[\"202009\",\"202010\",\"202011\",\"202012\",\"202101\",\"202102\",\"202103\",\"202104\",\"202105\"],\"xaxis\":\"x\",\"y\":[16720,41616,116588,112965,98397,113171,87571,103964,101514],\"yaxis\":\"y\"}],                        {\"legend\":{\"title\":{\"text\":\"topic\"},\"tracegroupgap\":0},\"margin\":{\"t\":60},\"template\":{\"data\":{\"bar\":[{\"error_x\":{\"color\":\"rgb(36,36,36)\"},\"error_y\":{\"color\":\"rgb(36,36,36)\"},\"marker\":{\"line\":{\"color\":\"white\",\"width\":0.5},\"pattern\":{\"fillmode\":\"overlay\",\"size\":10,\"solidity\":0.2}},\"type\":\"bar\"}],\"barpolar\":[{\"marker\":{\"line\":{\"color\":\"white\",\"width\":0.5},\"pattern\":{\"fillmode\":\"overlay\",\"size\":10,\"solidity\":0.2}},\"type\":\"barpolar\"}],\"carpet\":[{\"aaxis\":{\"endlinecolor\":\"rgb(36,36,36)\",\"gridcolor\":\"white\",\"linecolor\":\"white\",\"minorgridcolor\":\"white\",\"startlinecolor\":\"rgb(36,36,36)\"},\"baxis\":{\"endlinecolor\":\"rgb(36,36,36)\",\"gridcolor\":\"white\",\"linecolor\":\"white\",\"minorgridcolor\":\"white\",\"startlinecolor\":\"rgb(36,36,36)\"},\"type\":\"carpet\"}],\"choropleth\":[{\"colorbar\":{\"outlinewidth\":1,\"tickcolor\":\"rgb(36,36,36)\",\"ticks\":\"outside\"},\"type\":\"choropleth\"}],\"contour\":[{\"colorbar\":{\"outlinewidth\":1,\"tickcolor\":\"rgb(36,36,36)\",\"ticks\":\"outside\"},\"colorscale\":[[0.0,\"#440154\"],[0.1111111111111111,\"#482878\"],[0.2222222222222222,\"#3e4989\"],[0.3333333333333333,\"#31688e\"],[0.4444444444444444,\"#26828e\"],[0.5555555555555556,\"#1f9e89\"],[0.6666666666666666,\"#35b779\"],[0.7777777777777778,\"#6ece58\"],[0.8888888888888888,\"#b5de2b\"],[1.0,\"#fde725\"]],\"type\":\"contour\"}],\"contourcarpet\":[{\"colorbar\":{\"outlinewidth\":1,\"tickcolor\":\"rgb(36,36,36)\",\"ticks\":\"outside\"},\"type\":\"contourcarpet\"}],\"heatmap\":[{\"colorbar\":{\"outlinewidth\":1,\"tickcolor\":\"rgb(36,36,36)\",\"ticks\":\"outside\"},\"colorscale\":[[0.0,\"#440154\"],[0.1111111111111111,\"#482878\"],[0.2222222222222222,\"#3e4989\"],[0.3333333333333333,\"#31688e\"],[0.4444444444444444,\"#26828e\"],[0.5555555555555556,\"#1f9e89\"],[0.6666666666666666,\"#35b779\"],[0.7777777777777778,\"#6ece58\"],[0.8888888888888888,\"#b5de2b\"],[1.0,\"#fde725\"]],\"type\":\"heatmap\"}],\"heatmapgl\":[{\"colorbar\":{\"outlinewidth\":1,\"tickcolor\":\"rgb(36,36,36)\",\"ticks\":\"outside\"},\"colorscale\":[[0.0,\"#440154\"],[0.1111111111111111,\"#482878\"],[0.2222222222222222,\"#3e4989\"],[0.3333333333333333,\"#31688e\"],[0.4444444444444444,\"#26828e\"],[0.5555555555555556,\"#1f9e89\"],[0.6666666666666666,\"#35b779\"],[0.7777777777777778,\"#6ece58\"],[0.8888888888888888,\"#b5de2b\"],[1.0,\"#fde725\"]],\"type\":\"heatmapgl\"}],\"histogram\":[{\"marker\":{\"line\":{\"color\":\"white\",\"width\":0.6}},\"type\":\"histogram\"}],\"histogram2d\":[{\"colorbar\":{\"outlinewidth\":1,\"tickcolor\":\"rgb(36,36,36)\",\"ticks\":\"outside\"},\"colorscale\":[[0.0,\"#440154\"],[0.1111111111111111,\"#482878\"],[0.2222222222222222,\"#3e4989\"],[0.3333333333333333,\"#31688e\"],[0.4444444444444444,\"#26828e\"],[0.5555555555555556,\"#1f9e89\"],[0.6666666666666666,\"#35b779\"],[0.7777777777777778,\"#6ece58\"],[0.8888888888888888,\"#b5de2b\"],[1.0,\"#fde725\"]],\"type\":\"histogram2d\"}],\"histogram2dcontour\":[{\"colorbar\":{\"outlinewidth\":1,\"tickcolor\":\"rgb(36,36,36)\",\"ticks\":\"outside\"},\"colorscale\":[[0.0,\"#440154\"],[0.1111111111111111,\"#482878\"],[0.2222222222222222,\"#3e4989\"],[0.3333333333333333,\"#31688e\"],[0.4444444444444444,\"#26828e\"],[0.5555555555555556,\"#1f9e89\"],[0.6666666666666666,\"#35b779\"],[0.7777777777777778,\"#6ece58\"],[0.8888888888888888,\"#b5de2b\"],[1.0,\"#fde725\"]],\"type\":\"histogram2dcontour\"}],\"mesh3d\":[{\"colorbar\":{\"outlinewidth\":1,\"tickcolor\":\"rgb(36,36,36)\",\"ticks\":\"outside\"},\"type\":\"mesh3d\"}],\"parcoords\":[{\"line\":{\"colorbar\":{\"outlinewidth\":1,\"tickcolor\":\"rgb(36,36,36)\",\"ticks\":\"outside\"}},\"type\":\"parcoords\"}],\"pie\":[{\"automargin\":true,\"type\":\"pie\"}],\"scatter\":[{\"marker\":{\"colorbar\":{\"outlinewidth\":1,\"tickcolor\":\"rgb(36,36,36)\",\"ticks\":\"outside\"}},\"type\":\"scatter\"}],\"scatter3d\":[{\"line\":{\"colorbar\":{\"outlinewidth\":1,\"tickcolor\":\"rgb(36,36,36)\",\"ticks\":\"outside\"}},\"marker\":{\"colorbar\":{\"outlinewidth\":1,\"tickcolor\":\"rgb(36,36,36)\",\"ticks\":\"outside\"}},\"type\":\"scatter3d\"}],\"scattercarpet\":[{\"marker\":{\"colorbar\":{\"outlinewidth\":1,\"tickcolor\":\"rgb(36,36,36)\",\"ticks\":\"outside\"}},\"type\":\"scattercarpet\"}],\"scattergeo\":[{\"marker\":{\"colorbar\":{\"outlinewidth\":1,\"tickcolor\":\"rgb(36,36,36)\",\"ticks\":\"outside\"}},\"type\":\"scattergeo\"}],\"scattergl\":[{\"marker\":{\"colorbar\":{\"outlinewidth\":1,\"tickcolor\":\"rgb(36,36,36)\",\"ticks\":\"outside\"}},\"type\":\"scattergl\"}],\"scattermapbox\":[{\"marker\":{\"colorbar\":{\"outlinewidth\":1,\"tickcolor\":\"rgb(36,36,36)\",\"ticks\":\"outside\"}},\"type\":\"scattermapbox\"}],\"scatterpolar\":[{\"marker\":{\"colorbar\":{\"outlinewidth\":1,\"tickcolor\":\"rgb(36,36,36)\",\"ticks\":\"outside\"}},\"type\":\"scatterpolar\"}],\"scatterpolargl\":[{\"marker\":{\"colorbar\":{\"outlinewidth\":1,\"tickcolor\":\"rgb(36,36,36)\",\"ticks\":\"outside\"}},\"type\":\"scatterpolargl\"}],\"scatterternary\":[{\"marker\":{\"colorbar\":{\"outlinewidth\":1,\"tickcolor\":\"rgb(36,36,36)\",\"ticks\":\"outside\"}},\"type\":\"scatterternary\"}],\"surface\":[{\"colorbar\":{\"outlinewidth\":1,\"tickcolor\":\"rgb(36,36,36)\",\"ticks\":\"outside\"},\"colorscale\":[[0.0,\"#440154\"],[0.1111111111111111,\"#482878\"],[0.2222222222222222,\"#3e4989\"],[0.3333333333333333,\"#31688e\"],[0.4444444444444444,\"#26828e\"],[0.5555555555555556,\"#1f9e89\"],[0.6666666666666666,\"#35b779\"],[0.7777777777777778,\"#6ece58\"],[0.8888888888888888,\"#b5de2b\"],[1.0,\"#fde725\"]],\"type\":\"surface\"}],\"table\":[{\"cells\":{\"fill\":{\"color\":\"rgb(237,237,237)\"},\"line\":{\"color\":\"white\"}},\"header\":{\"fill\":{\"color\":\"rgb(217,217,217)\"},\"line\":{\"color\":\"white\"}},\"type\":\"table\"}]},\"layout\":{\"annotationdefaults\":{\"arrowhead\":0,\"arrowwidth\":1},\"autotypenumbers\":\"strict\",\"coloraxis\":{\"colorbar\":{\"outlinewidth\":1,\"tickcolor\":\"rgb(36,36,36)\",\"ticks\":\"outside\"}},\"colorscale\":{\"diverging\":[[0.0,\"rgb(103,0,31)\"],[0.1,\"rgb(178,24,43)\"],[0.2,\"rgb(214,96,77)\"],[0.3,\"rgb(244,165,130)\"],[0.4,\"rgb(253,219,199)\"],[0.5,\"rgb(247,247,247)\"],[0.6,\"rgb(209,229,240)\"],[0.7,\"rgb(146,197,222)\"],[0.8,\"rgb(67,147,195)\"],[0.9,\"rgb(33,102,172)\"],[1.0,\"rgb(5,48,97)\"]],\"sequential\":[[0.0,\"#440154\"],[0.1111111111111111,\"#482878\"],[0.2222222222222222,\"#3e4989\"],[0.3333333333333333,\"#31688e\"],[0.4444444444444444,\"#26828e\"],[0.5555555555555556,\"#1f9e89\"],[0.6666666666666666,\"#35b779\"],[0.7777777777777778,\"#6ece58\"],[0.8888888888888888,\"#b5de2b\"],[1.0,\"#fde725\"]],\"sequentialminus\":[[0.0,\"#440154\"],[0.1111111111111111,\"#482878\"],[0.2222222222222222,\"#3e4989\"],[0.3333333333333333,\"#31688e\"],[0.4444444444444444,\"#26828e\"],[0.5555555555555556,\"#1f9e89\"],[0.6666666666666666,\"#35b779\"],[0.7777777777777778,\"#6ece58\"],[0.8888888888888888,\"#b5de2b\"],[1.0,\"#fde725\"]]},\"colorway\":[\"#1F77B4\",\"#FF7F0E\",\"#2CA02C\",\"#D62728\",\"#9467BD\",\"#8C564B\",\"#E377C2\",\"#7F7F7F\",\"#BCBD22\",\"#17BECF\"],\"font\":{\"color\":\"rgb(36,36,36)\"},\"geo\":{\"bgcolor\":\"white\",\"lakecolor\":\"white\",\"landcolor\":\"white\",\"showlakes\":true,\"showland\":true,\"subunitcolor\":\"white\"},\"hoverlabel\":{\"align\":\"left\"},\"hovermode\":\"closest\",\"mapbox\":{\"style\":\"light\"},\"paper_bgcolor\":\"white\",\"plot_bgcolor\":\"white\",\"polar\":{\"angularaxis\":{\"gridcolor\":\"rgb(232,232,232)\",\"linecolor\":\"rgb(36,36,36)\",\"showgrid\":false,\"showline\":true,\"ticks\":\"outside\"},\"bgcolor\":\"white\",\"radialaxis\":{\"gridcolor\":\"rgb(232,232,232)\",\"linecolor\":\"rgb(36,36,36)\",\"showgrid\":false,\"showline\":true,\"ticks\":\"outside\"}},\"scene\":{\"xaxis\":{\"backgroundcolor\":\"white\",\"gridcolor\":\"rgb(232,232,232)\",\"gridwidth\":2,\"linecolor\":\"rgb(36,36,36)\",\"showbackground\":true,\"showgrid\":false,\"showline\":true,\"ticks\":\"outside\",\"zeroline\":false,\"zerolinecolor\":\"rgb(36,36,36)\"},\"yaxis\":{\"backgroundcolor\":\"white\",\"gridcolor\":\"rgb(232,232,232)\",\"gridwidth\":2,\"linecolor\":\"rgb(36,36,36)\",\"showbackground\":true,\"showgrid\":false,\"showline\":true,\"ticks\":\"outside\",\"zeroline\":false,\"zerolinecolor\":\"rgb(36,36,36)\"},\"zaxis\":{\"backgroundcolor\":\"white\",\"gridcolor\":\"rgb(232,232,232)\",\"gridwidth\":2,\"linecolor\":\"rgb(36,36,36)\",\"showbackground\":true,\"showgrid\":false,\"showline\":true,\"ticks\":\"outside\",\"zeroline\":false,\"zerolinecolor\":\"rgb(36,36,36)\"}},\"shapedefaults\":{\"fillcolor\":\"black\",\"line\":{\"width\":0},\"opacity\":0.3},\"ternary\":{\"aaxis\":{\"gridcolor\":\"rgb(232,232,232)\",\"linecolor\":\"rgb(36,36,36)\",\"showgrid\":false,\"showline\":true,\"ticks\":\"outside\"},\"baxis\":{\"gridcolor\":\"rgb(232,232,232)\",\"linecolor\":\"rgb(36,36,36)\",\"showgrid\":false,\"showline\":true,\"ticks\":\"outside\"},\"bgcolor\":\"white\",\"caxis\":{\"gridcolor\":\"rgb(232,232,232)\",\"linecolor\":\"rgb(36,36,36)\",\"showgrid\":false,\"showline\":true,\"ticks\":\"outside\"}},\"title\":{\"x\":0.05},\"xaxis\":{\"automargin\":true,\"gridcolor\":\"rgb(232,232,232)\",\"linecolor\":\"rgb(36,36,36)\",\"showgrid\":false,\"showline\":true,\"ticks\":\"outside\",\"title\":{\"standoff\":15},\"zeroline\":false,\"zerolinecolor\":\"rgb(36,36,36)\"},\"yaxis\":{\"automargin\":true,\"gridcolor\":\"rgb(232,232,232)\",\"linecolor\":\"rgb(36,36,36)\",\"showgrid\":false,\"showline\":true,\"ticks\":\"outside\",\"title\":{\"standoff\":15},\"zeroline\":false,\"zerolinecolor\":\"rgb(36,36,36)\"}}},\"title\":{\"text\":\"Twitter Posts By Topic\"},\"xaxis\":{\"anchor\":\"y\",\"domain\":[0.0,1.0],\"title\":{\"text\":\"Month\"}},\"yaxis\":{\"anchor\":\"x\",\"domain\":[0.0,1.0],\"title\":{\"text\":\"Count\"}}},                        {\"responsive\": true}                    ).then(function(){\n",
       "                            \n",
       "var gd = document.getElementById('0d26c285-3ef3-4d4c-bdc0-5c7df62b4289');\n",
       "var x = new MutationObserver(function (mutations, observer) {{\n",
       "        var display = window.getComputedStyle(gd).display;\n",
       "        if (!display || display === 'none') {{\n",
       "            console.log([gd, 'removed!']);\n",
       "            Plotly.purge(gd);\n",
       "            observer.disconnect();\n",
       "        }}\n",
       "}});\n",
       "\n",
       "// Listen for the removal of the full notebook cells\n",
       "var notebookContainer = gd.closest('#notebook-container');\n",
       "if (notebookContainer) {{\n",
       "    x.observe(notebookContainer, {childList: true});\n",
       "}}\n",
       "\n",
       "// Listen for the clearing of the current output cell\n",
       "var outputEl = gd.closest('.output');\n",
       "if (outputEl) {{\n",
       "    x.observe(outputEl, {childList: true});\n",
       "}}\n",
       "\n",
       "                        })                };                });            </script>        </div>"
      ]
     },
     "metadata": {},
     "output_type": "display_data"
    }
   ],
   "source": [
    "fig = px.line(combined_stat, x='month', y='count', color= 'topic')\n",
    "fig.update_layout(template='simple_white', title= dict(text='Twitter Posts By Topic'))\n",
    "fig.update_xaxes(title_text = 'Month')\n",
    "fig.update_yaxes(title_text = 'Count')"
   ]
  },
  {
   "cell_type": "code",
   "execution_count": 23,
   "id": "1a2e5451",
   "metadata": {},
   "outputs": [
    {
     "name": "stdout",
     "output_type": "stream",
     "text": [
      "202009\n",
      "202010\n",
      "202011\n",
      "202012\n",
      "202101\n",
      "202102\n",
      "202103\n",
      "202104\n",
      "202105\n"
     ]
    }
   ],
   "source": [
    "daily_stat_agg = pd.DataFrame()\n",
    "for date in date_ls:\n",
    "    \n",
    "    target_file_ls = [file for file in topic_files if file[0:6]==date]\n",
    "    for target_file in target_file_ls: \n",
    "        df = pd.read_csv(data_dir+target_file)\n",
    "        df['topic'] = df['topic'].map(topic_decoded_dict)\n",
    "        \n",
    "        df_length = df.groupby(['topic'])['antivax_pred'].count()\n",
    "        df_neg = df[df['antivax_pred']==1].groupby(['topic'])['antivax_pred'].count()\n",
    "        \n",
    "        day_stat = pd.merge(df_neg,df_length, left_index=True, right_index=True)\n",
    "        day_stat.columns =['neg','gross']\n",
    "        day_stat['date'] = target_file[0:8]\n",
    "        daily_stat_agg = daily_stat_agg.append(day_stat)\n",
    "        \n",
    "    print(date)"
   ]
  },
  {
   "cell_type": "code",
   "execution_count": 24,
   "id": "c24ebfc4",
   "metadata": {},
   "outputs": [],
   "source": [
    "daily_stat_agg['prop'] = daily_stat_agg['neg']/daily_stat_agg['gross']\n",
    "daily_stat_agg.reset_index(inplace=True)\n",
    "daily_stat_agg= daily_stat_agg[daily_stat_agg['topic']!='IR']\n",
    "top_var= list(set(daily_stat_agg['topic']))"
   ]
  },
  {
   "cell_type": "code",
   "execution_count": 26,
   "id": "21d0e053",
   "metadata": {},
   "outputs": [
    {
     "name": "stderr",
     "output_type": "stream",
     "text": [
      "<ipython-input-26-b1b621caa77d>:3: SettingWithCopyWarning:\n",
      "\n",
      "\n",
      "A value is trying to be set on a copy of a slice from a DataFrame.\n",
      "Try using .loc[row_indexer,col_indexer] = value instead\n",
      "\n",
      "See the caveats in the documentation: https://pandas.pydata.org/pandas-docs/stable/user_guide/indexing.html#returning-a-view-versus-a-copy\n",
      "\n",
      "<ipython-input-26-b1b621caa77d>:4: SettingWithCopyWarning:\n",
      "\n",
      "\n",
      "A value is trying to be set on a copy of a slice from a DataFrame.\n",
      "Try using .loc[row_indexer,col_indexer] = value instead\n",
      "\n",
      "See the caveats in the documentation: https://pandas.pydata.org/pandas-docs/stable/user_guide/indexing.html#returning-a-view-versus-a-copy\n",
      "\n"
     ]
    }
   ],
   "source": [
    "# plot distribution by topic\n",
    "\n",
    "for target_var in top_var:\n",
    "    ploting_df = daily_stat_agg[daily_stat_agg['topic']==target_var]\n",
    "    ploting_df['net_MA7'] = ploting_df['prop'].rolling(7).mean()\n",
    "    ploting_df['date'] = ploting_df['date'].map(lambda x:datetime.strptime(x, '%Y%m%d'))\n",
    "\n",
    "    # plot\n",
    "    fig_scatter = px.scatter(ploting_df, x='date', y = 'prop', template ='simple_white')\n",
    "    fig_scatter.update_traces(marker=dict(color='grey', size=4,opacity=0.5))\n",
    "    fig_line = px.line(ploting_df, x='date', y = 'net_MA7', template ='simple_white')\n",
    "    fig_line.update_traces(line_color='#12222F')\n",
    "    fig_scatter.add_traces(fig_line._data)\n",
    "\n",
    "    fig_scatter.update_layout(template='simple_white', title= dict(text=f'Twitter Vaccine Sentiment Parity ({target_var})'))\n",
    "    fig_scatter.update_xaxes(title_text = 'Month')\n",
    "    fig_scatter.update_yaxes(title_text = 'Proportion of Hesitant Posts')\n",
    "    fig_scatter.write_html(f'plot0_{target_var}.html')"
   ]
  },
  {
   "cell_type": "code",
   "execution_count": 27,
   "id": "9920bb36",
   "metadata": {},
   "outputs": [
    {
     "name": "stdout",
     "output_type": "stream",
     "text": [
      "Vaccine Delivery\n",
      "Vaccine General\n",
      "Vaccine Safety\n",
      "Vaccine Effectiveness\n",
      "Vaccine Trial\n",
      "Vaccine Incentives\n"
     ]
    },
    {
     "name": "stderr",
     "output_type": "stream",
     "text": [
      "<ipython-input-27-81d25aa27c62>:5: SettingWithCopyWarning:\n",
      "\n",
      "\n",
      "A value is trying to be set on a copy of a slice from a DataFrame.\n",
      "Try using .loc[row_indexer,col_indexer] = value instead\n",
      "\n",
      "See the caveats in the documentation: https://pandas.pydata.org/pandas-docs/stable/user_guide/indexing.html#returning-a-view-versus-a-copy\n",
      "\n",
      "<ipython-input-27-81d25aa27c62>:7: SettingWithCopyWarning:\n",
      "\n",
      "\n",
      "A value is trying to be set on a copy of a slice from a DataFrame.\n",
      "Try using .loc[row_indexer,col_indexer] = value instead\n",
      "\n",
      "See the caveats in the documentation: https://pandas.pydata.org/pandas-docs/stable/user_guide/indexing.html#returning-a-view-versus-a-copy\n",
      "\n",
      "<ipython-input-27-81d25aa27c62>:8: SettingWithCopyWarning:\n",
      "\n",
      "\n",
      "A value is trying to be set on a copy of a slice from a DataFrame.\n",
      "Try using .loc[row_indexer,col_indexer] = value instead\n",
      "\n",
      "See the caveats in the documentation: https://pandas.pydata.org/pandas-docs/stable/user_guide/indexing.html#returning-a-view-versus-a-copy\n",
      "\n"
     ]
    }
   ],
   "source": [
    "# plot trends by topic\n",
    "\n",
    "for target_var in top_var:\n",
    "        print(target_var)\n",
    "        ploting_df = daily_stat_agg[daily_stat_agg['topic']==target_var]\n",
    "\n",
    "        ploting_df['prop'] = ploting_df['prop']*100\n",
    "        # ploting_df['net_MA7'] = ploting_df['prop'].rolling(7).mean()\n",
    "        ploting_df['date'] = ploting_df['date'].map(lambda x:datetime.strptime(x, '%Y%m%d'))\n",
    "        ploting_df['date'] = ploting_df['date'].map(lambda x:datetime.strftime(x, '%Y-%m'))"
   ]
  },
  {
   "cell_type": "code",
   "execution_count": 30,
   "id": "11906b5e",
   "metadata": {},
   "outputs": [
    {
     "name": "stdout",
     "output_type": "stream",
     "text": [
      "Vaccine Delivery\n",
      "                            OLS Regression Results                            \n",
      "==============================================================================\n",
      "Dep. Variable:                   prop   R-squared:                       0.867\n",
      "Model:                            OLS   Adj. R-squared:                  0.848\n",
      "Method:                 Least Squares   F-statistic:                     45.57\n",
      "Date:                Tue, 24 Aug 2021   Prob (F-statistic):           0.000265\n",
      "Time:                        11:55:53   Log-Likelihood:                -8.1398\n",
      "No. Observations:                   9   AIC:                             20.28\n",
      "Df Residuals:                       7   BIC:                             20.67\n",
      "Df Model:                           1                                         \n",
      "Covariance Type:            nonrobust                                         \n",
      "==============================================================================\n",
      "                 coef    std err          t      P>|t|      [0.025      0.975]\n",
      "------------------------------------------------------------------------------\n",
      "const          7.9276      0.417     19.028      0.000       6.942       8.913\n",
      "mos           -0.5907      0.088     -6.750      0.000      -0.798      -0.384\n",
      "==============================================================================\n",
      "Omnibus:                        0.522   Durbin-Watson:                   2.372\n",
      "Prob(Omnibus):                  0.770   Jarque-Bera (JB):                0.458\n",
      "Skew:                           0.418   Prob(JB):                        0.796\n",
      "Kurtosis:                       2.277   Cond. No.                         9.06\n",
      "==============================================================================\n",
      "\n",
      "Notes:\n",
      "[1] Standard Errors assume that the covariance matrix of the errors is correctly specified.\n",
      "Vaccine General\n",
      "                            OLS Regression Results                            \n",
      "==============================================================================\n",
      "Dep. Variable:                   prop   R-squared:                       0.029\n",
      "Model:                            OLS   Adj. R-squared:                 -0.110\n",
      "Method:                 Least Squares   F-statistic:                    0.2087\n",
      "Date:                Tue, 24 Aug 2021   Prob (F-statistic):              0.662\n",
      "Time:                        11:55:53   Log-Likelihood:                -5.6465\n",
      "No. Observations:                   9   AIC:                             15.29\n",
      "Df Residuals:                       7   BIC:                             15.69\n",
      "Df Model:                           1                                         \n",
      "Covariance Type:            nonrobust                                         \n",
      "==============================================================================\n",
      "                 coef    std err          t      P>|t|      [0.025      0.975]\n",
      "------------------------------------------------------------------------------\n",
      "const          5.0656      0.316     16.040      0.000       4.319       5.812\n",
      "mos           -0.0303      0.066     -0.457      0.662      -0.187       0.127\n",
      "==============================================================================\n",
      "Omnibus:                        0.142   Durbin-Watson:                   2.479\n",
      "Prob(Omnibus):                  0.931   Jarque-Bera (JB):                0.342\n",
      "Skew:                          -0.000   Prob(JB):                        0.843\n",
      "Kurtosis:                       2.045   Cond. No.                         9.06\n",
      "==============================================================================\n",
      "\n",
      "Notes:\n",
      "[1] Standard Errors assume that the covariance matrix of the errors is correctly specified.\n",
      "Vaccine Safety\n",
      "                            OLS Regression Results                            \n",
      "==============================================================================\n",
      "Dep. Variable:                   prop   R-squared:                       0.799\n",
      "Model:                            OLS   Adj. R-squared:                  0.770\n",
      "Method:                 Least Squares   F-statistic:                     27.78\n",
      "Date:                Tue, 24 Aug 2021   Prob (F-statistic):            0.00116\n",
      "Time:                        11:55:53   Log-Likelihood:                -16.254\n",
      "No. Observations:                   9   AIC:                             36.51\n",
      "Df Residuals:                       7   BIC:                             36.90\n",
      "Df Model:                           1                                         \n",
      "Covariance Type:            nonrobust                                         \n",
      "==============================================================================\n",
      "                 coef    std err          t      P>|t|      [0.025      0.975]\n",
      "------------------------------------------------------------------------------\n",
      "const         14.8718      1.026     14.491      0.000      12.445      17.299\n",
      "mos           -1.1362      0.216     -5.271      0.001      -1.646      -0.627\n",
      "==============================================================================\n",
      "Omnibus:                        1.296   Durbin-Watson:                   2.621\n",
      "Prob(Omnibus):                  0.523   Jarque-Bera (JB):                0.857\n",
      "Skew:                           0.479   Prob(JB):                        0.652\n",
      "Kurtosis:                       1.830   Cond. No.                         9.06\n",
      "==============================================================================\n",
      "\n",
      "Notes:\n",
      "[1] Standard Errors assume that the covariance matrix of the errors is correctly specified.\n",
      "Vaccine Effectiveness\n",
      "                            OLS Regression Results                            \n",
      "==============================================================================\n",
      "Dep. Variable:                   prop   R-squared:                       0.659\n",
      "Model:                            OLS   Adj. R-squared:                  0.610\n",
      "Method:                 Least Squares   F-statistic:                     13.51\n",
      "Date:                Tue, 24 Aug 2021   Prob (F-statistic):            0.00790\n",
      "Time:                        11:55:53   Log-Likelihood:                -21.441\n",
      "No. Observations:                   9   AIC:                             46.88\n",
      "Df Residuals:                       7   BIC:                             47.28\n",
      "Df Model:                           1                                         \n",
      "Covariance Type:            nonrobust                                         \n",
      "==============================================================================\n",
      "                 coef    std err          t      P>|t|      [0.025      0.975]\n",
      "------------------------------------------------------------------------------\n",
      "const         23.4230      1.826     12.825      0.000      19.104      27.742\n",
      "mos           -1.4103      0.384     -3.676      0.008      -2.317      -0.503\n",
      "==============================================================================\n",
      "Omnibus:                        0.957   Durbin-Watson:                   1.382\n",
      "Prob(Omnibus):                  0.620   Jarque-Bera (JB):                0.601\n",
      "Skew:                          -0.059   Prob(JB):                        0.740\n",
      "Kurtosis:                       1.740   Cond. No.                         9.06\n",
      "==============================================================================\n",
      "\n",
      "Notes:\n",
      "[1] Standard Errors assume that the covariance matrix of the errors is correctly specified.\n",
      "Vaccine Trial\n",
      "                            OLS Regression Results                            \n",
      "==============================================================================\n",
      "Dep. Variable:                   prop   R-squared:                       0.185\n",
      "Model:                            OLS   Adj. R-squared:                  0.069\n",
      "Method:                 Least Squares   F-statistic:                     1.590\n",
      "Date:                Tue, 24 Aug 2021   Prob (F-statistic):              0.248\n",
      "Time:                        11:55:53   Log-Likelihood:                -17.889\n",
      "No. Observations:                   9   AIC:                             39.78\n",
      "Df Residuals:                       7   BIC:                             40.17\n",
      "Df Model:                           1                                         \n",
      "Covariance Type:            nonrobust                                         \n",
      "==============================================================================\n",
      "                 coef    std err          t      P>|t|      [0.025      0.975]\n",
      "------------------------------------------------------------------------------\n",
      "const         10.8775      1.231      8.838      0.000       7.967      13.788\n",
      "mos            0.3259      0.259      1.261      0.248      -0.285       0.937\n",
      "==============================================================================\n",
      "Omnibus:                        2.429   Durbin-Watson:                   2.203\n",
      "Prob(Omnibus):                  0.297   Jarque-Bera (JB):                0.892\n",
      "Skew:                           0.197   Prob(JB):                        0.640\n",
      "Kurtosis:                       1.508   Cond. No.                         9.06\n",
      "==============================================================================\n",
      "\n",
      "Notes:\n",
      "[1] Standard Errors assume that the covariance matrix of the errors is correctly specified.\n",
      "Vaccine Incentives\n",
      "                            OLS Regression Results                            \n",
      "==============================================================================\n",
      "Dep. Variable:                   prop   R-squared:                       0.537\n",
      "Model:                            OLS   Adj. R-squared:                  0.471\n",
      "Method:                 Least Squares   F-statistic:                     8.120\n",
      "Date:                Tue, 24 Aug 2021   Prob (F-statistic):             0.0247\n",
      "Time:                        11:55:53   Log-Likelihood:                -16.276\n",
      "No. Observations:                   9   AIC:                             36.55\n",
      "Df Residuals:                       7   BIC:                             36.95\n",
      "Df Model:                           1                                         \n",
      "Covariance Type:            nonrobust                                         \n",
      "==============================================================================\n",
      "                 coef    std err          t      P>|t|      [0.025      0.975]\n",
      "------------------------------------------------------------------------------\n",
      "const         12.8829      1.029     12.521      0.000      10.450      15.316\n",
      "mos           -0.6158      0.216     -2.849      0.025      -1.127      -0.105\n",
      "==============================================================================\n",
      "Omnibus:                        0.352   Durbin-Watson:                   1.751\n",
      "Prob(Omnibus):                  0.839   Jarque-Bera (JB):                0.408\n",
      "Skew:                          -0.336   Prob(JB):                        0.815\n",
      "Kurtosis:                       2.202   Cond. No.                         9.06\n",
      "==============================================================================\n",
      "\n",
      "Notes:\n",
      "[1] Standard Errors assume that the covariance matrix of the errors is correctly specified.\n"
     ]
    },
    {
     "name": "stderr",
     "output_type": "stream",
     "text": [
      "<ipython-input-30-f192b64018b4>:7: SettingWithCopyWarning:\n",
      "\n",
      "\n",
      "A value is trying to be set on a copy of a slice from a DataFrame.\n",
      "Try using .loc[row_indexer,col_indexer] = value instead\n",
      "\n",
      "See the caveats in the documentation: https://pandas.pydata.org/pandas-docs/stable/user_guide/indexing.html#returning-a-view-versus-a-copy\n",
      "\n",
      "<ipython-input-30-f192b64018b4>:9: SettingWithCopyWarning:\n",
      "\n",
      "\n",
      "A value is trying to be set on a copy of a slice from a DataFrame.\n",
      "Try using .loc[row_indexer,col_indexer] = value instead\n",
      "\n",
      "See the caveats in the documentation: https://pandas.pydata.org/pandas-docs/stable/user_guide/indexing.html#returning-a-view-versus-a-copy\n",
      "\n",
      "<ipython-input-30-f192b64018b4>:10: SettingWithCopyWarning:\n",
      "\n",
      "\n",
      "A value is trying to be set on a copy of a slice from a DataFrame.\n",
      "Try using .loc[row_indexer,col_indexer] = value instead\n",
      "\n",
      "See the caveats in the documentation: https://pandas.pydata.org/pandas-docs/stable/user_guide/indexing.html#returning-a-view-versus-a-copy\n",
      "\n",
      "C:\\Users\\user\\anaconda3\\lib\\site-packages\\scipy\\stats\\stats.py:1603: UserWarning:\n",
      "\n",
      "kurtosistest only valid for n>=20 ... continuing anyway, n=9\n",
      "\n",
      "<ipython-input-30-f192b64018b4>:7: SettingWithCopyWarning:\n",
      "\n",
      "\n",
      "A value is trying to be set on a copy of a slice from a DataFrame.\n",
      "Try using .loc[row_indexer,col_indexer] = value instead\n",
      "\n",
      "See the caveats in the documentation: https://pandas.pydata.org/pandas-docs/stable/user_guide/indexing.html#returning-a-view-versus-a-copy\n",
      "\n",
      "<ipython-input-30-f192b64018b4>:9: SettingWithCopyWarning:\n",
      "\n",
      "\n",
      "A value is trying to be set on a copy of a slice from a DataFrame.\n",
      "Try using .loc[row_indexer,col_indexer] = value instead\n",
      "\n",
      "See the caveats in the documentation: https://pandas.pydata.org/pandas-docs/stable/user_guide/indexing.html#returning-a-view-versus-a-copy\n",
      "\n",
      "<ipython-input-30-f192b64018b4>:10: SettingWithCopyWarning:\n",
      "\n",
      "\n",
      "A value is trying to be set on a copy of a slice from a DataFrame.\n",
      "Try using .loc[row_indexer,col_indexer] = value instead\n",
      "\n",
      "See the caveats in the documentation: https://pandas.pydata.org/pandas-docs/stable/user_guide/indexing.html#returning-a-view-versus-a-copy\n",
      "\n",
      "C:\\Users\\user\\anaconda3\\lib\\site-packages\\scipy\\stats\\stats.py:1603: UserWarning:\n",
      "\n",
      "kurtosistest only valid for n>=20 ... continuing anyway, n=9\n",
      "\n",
      "<ipython-input-30-f192b64018b4>:7: SettingWithCopyWarning:\n",
      "\n",
      "\n",
      "A value is trying to be set on a copy of a slice from a DataFrame.\n",
      "Try using .loc[row_indexer,col_indexer] = value instead\n",
      "\n",
      "See the caveats in the documentation: https://pandas.pydata.org/pandas-docs/stable/user_guide/indexing.html#returning-a-view-versus-a-copy\n",
      "\n",
      "<ipython-input-30-f192b64018b4>:9: SettingWithCopyWarning:\n",
      "\n",
      "\n",
      "A value is trying to be set on a copy of a slice from a DataFrame.\n",
      "Try using .loc[row_indexer,col_indexer] = value instead\n",
      "\n",
      "See the caveats in the documentation: https://pandas.pydata.org/pandas-docs/stable/user_guide/indexing.html#returning-a-view-versus-a-copy\n",
      "\n",
      "<ipython-input-30-f192b64018b4>:10: SettingWithCopyWarning:\n",
      "\n",
      "\n",
      "A value is trying to be set on a copy of a slice from a DataFrame.\n",
      "Try using .loc[row_indexer,col_indexer] = value instead\n",
      "\n",
      "See the caveats in the documentation: https://pandas.pydata.org/pandas-docs/stable/user_guide/indexing.html#returning-a-view-versus-a-copy\n",
      "\n",
      "C:\\Users\\user\\anaconda3\\lib\\site-packages\\scipy\\stats\\stats.py:1603: UserWarning:\n",
      "\n",
      "kurtosistest only valid for n>=20 ... continuing anyway, n=9\n",
      "\n",
      "<ipython-input-30-f192b64018b4>:7: SettingWithCopyWarning:\n",
      "\n",
      "\n",
      "A value is trying to be set on a copy of a slice from a DataFrame.\n",
      "Try using .loc[row_indexer,col_indexer] = value instead\n",
      "\n",
      "See the caveats in the documentation: https://pandas.pydata.org/pandas-docs/stable/user_guide/indexing.html#returning-a-view-versus-a-copy\n",
      "\n",
      "<ipython-input-30-f192b64018b4>:9: SettingWithCopyWarning:\n",
      "\n",
      "\n",
      "A value is trying to be set on a copy of a slice from a DataFrame.\n",
      "Try using .loc[row_indexer,col_indexer] = value instead\n",
      "\n",
      "See the caveats in the documentation: https://pandas.pydata.org/pandas-docs/stable/user_guide/indexing.html#returning-a-view-versus-a-copy\n",
      "\n",
      "<ipython-input-30-f192b64018b4>:10: SettingWithCopyWarning:\n",
      "\n",
      "\n",
      "A value is trying to be set on a copy of a slice from a DataFrame.\n",
      "Try using .loc[row_indexer,col_indexer] = value instead\n",
      "\n",
      "See the caveats in the documentation: https://pandas.pydata.org/pandas-docs/stable/user_guide/indexing.html#returning-a-view-versus-a-copy\n",
      "\n",
      "C:\\Users\\user\\anaconda3\\lib\\site-packages\\scipy\\stats\\stats.py:1603: UserWarning:\n",
      "\n",
      "kurtosistest only valid for n>=20 ... continuing anyway, n=9\n",
      "\n",
      "<ipython-input-30-f192b64018b4>:7: SettingWithCopyWarning:\n",
      "\n",
      "\n",
      "A value is trying to be set on a copy of a slice from a DataFrame.\n",
      "Try using .loc[row_indexer,col_indexer] = value instead\n",
      "\n",
      "See the caveats in the documentation: https://pandas.pydata.org/pandas-docs/stable/user_guide/indexing.html#returning-a-view-versus-a-copy\n",
      "\n",
      "<ipython-input-30-f192b64018b4>:9: SettingWithCopyWarning:\n",
      "\n",
      "\n",
      "A value is trying to be set on a copy of a slice from a DataFrame.\n",
      "Try using .loc[row_indexer,col_indexer] = value instead\n",
      "\n",
      "See the caveats in the documentation: https://pandas.pydata.org/pandas-docs/stable/user_guide/indexing.html#returning-a-view-versus-a-copy\n",
      "\n",
      "<ipython-input-30-f192b64018b4>:10: SettingWithCopyWarning:\n",
      "\n",
      "\n",
      "A value is trying to be set on a copy of a slice from a DataFrame.\n",
      "Try using .loc[row_indexer,col_indexer] = value instead\n",
      "\n",
      "See the caveats in the documentation: https://pandas.pydata.org/pandas-docs/stable/user_guide/indexing.html#returning-a-view-versus-a-copy\n",
      "\n",
      "C:\\Users\\user\\anaconda3\\lib\\site-packages\\scipy\\stats\\stats.py:1603: UserWarning:\n",
      "\n",
      "kurtosistest only valid for n>=20 ... continuing anyway, n=9\n",
      "\n",
      "<ipython-input-30-f192b64018b4>:7: SettingWithCopyWarning:\n",
      "\n",
      "\n",
      "A value is trying to be set on a copy of a slice from a DataFrame.\n",
      "Try using .loc[row_indexer,col_indexer] = value instead\n",
      "\n",
      "See the caveats in the documentation: https://pandas.pydata.org/pandas-docs/stable/user_guide/indexing.html#returning-a-view-versus-a-copy\n",
      "\n",
      "<ipython-input-30-f192b64018b4>:9: SettingWithCopyWarning:\n",
      "\n",
      "\n",
      "A value is trying to be set on a copy of a slice from a DataFrame.\n",
      "Try using .loc[row_indexer,col_indexer] = value instead\n",
      "\n",
      "See the caveats in the documentation: https://pandas.pydata.org/pandas-docs/stable/user_guide/indexing.html#returning-a-view-versus-a-copy\n",
      "\n",
      "<ipython-input-30-f192b64018b4>:10: SettingWithCopyWarning:\n",
      "\n",
      "\n",
      "A value is trying to be set on a copy of a slice from a DataFrame.\n",
      "Try using .loc[row_indexer,col_indexer] = value instead\n",
      "\n",
      "See the caveats in the documentation: https://pandas.pydata.org/pandas-docs/stable/user_guide/indexing.html#returning-a-view-versus-a-copy\n",
      "\n",
      "C:\\Users\\user\\anaconda3\\lib\\site-packages\\scipy\\stats\\stats.py:1603: UserWarning:\n",
      "\n",
      "kurtosistest only valid for n>=20 ... continuing anyway, n=9\n",
      "\n"
     ]
    }
   ],
   "source": [
    "# test for trend \n",
    "\n",
    "for target_var in top_var:\n",
    "    print(target_var)\n",
    "    ploting_df = daily_stat_agg[daily_stat_agg['topic']==target_var]\n",
    "\n",
    "    ploting_df['prop'] = ploting_df['prop']*100\n",
    "    # ploting_df['net_MA7'] = ploting_df['prop'].rolling(7).mean()\n",
    "    ploting_df['date'] = ploting_df['date'].map(lambda x:datetime.strptime(x, '%Y%m%d'))\n",
    "    ploting_df['date'] = ploting_df['date'].map(lambda x:datetime.strftime(x, '%Y-%m'))\n",
    "    mos_df = ploting_df.groupby('date')['prop'].mean()\n",
    "    mos_df = mos_df.reset_index()\n",
    "    mos_df['mos'] = range(len(mos_df))\n",
    "\n",
    "\n",
    "    import statsmodels.api as sm\n",
    "    #define response variable\n",
    "    y = mos_df['prop']\n",
    "    #define explanatory variable\n",
    "    x = mos_df[['mos']]\n",
    "    #add constant to predictor variables\n",
    "    x = sm.add_constant(x)\n",
    "    #fit linear regression model\n",
    "    model = sm.OLS(y, x).fit()\n",
    "    #view model summary\n",
    "    print(model.summary())"
   ]
  },
  {
   "cell_type": "code",
   "execution_count": 29,
   "id": "dba71e9b",
   "metadata": {},
   "outputs": [
    {
     "name": "stdout",
     "output_type": "stream",
     "text": [
      "Vaccine Delivery\n",
      "Vaccine General\n",
      "Vaccine Safety\n",
      "Vaccine Effectiveness\n",
      "Vaccine Trial\n",
      "Vaccine Incentives\n"
     ]
    },
    {
     "name": "stderr",
     "output_type": "stream",
     "text": [
      "<ipython-input-29-79dc565dd3ec>:7: SettingWithCopyWarning:\n",
      "\n",
      "\n",
      "A value is trying to be set on a copy of a slice from a DataFrame.\n",
      "Try using .loc[row_indexer,col_indexer] = value instead\n",
      "\n",
      "See the caveats in the documentation: https://pandas.pydata.org/pandas-docs/stable/user_guide/indexing.html#returning-a-view-versus-a-copy\n",
      "\n",
      "<ipython-input-29-79dc565dd3ec>:9: SettingWithCopyWarning:\n",
      "\n",
      "\n",
      "A value is trying to be set on a copy of a slice from a DataFrame.\n",
      "Try using .loc[row_indexer,col_indexer] = value instead\n",
      "\n",
      "See the caveats in the documentation: https://pandas.pydata.org/pandas-docs/stable/user_guide/indexing.html#returning-a-view-versus-a-copy\n",
      "\n",
      "<ipython-input-29-79dc565dd3ec>:10: SettingWithCopyWarning:\n",
      "\n",
      "\n",
      "A value is trying to be set on a copy of a slice from a DataFrame.\n",
      "Try using .loc[row_indexer,col_indexer] = value instead\n",
      "\n",
      "See the caveats in the documentation: https://pandas.pydata.org/pandas-docs/stable/user_guide/indexing.html#returning-a-view-versus-a-copy\n",
      "\n"
     ]
    }
   ],
   "source": [
    "var_df =pd.DataFrame()\n",
    "\n",
    "for target_var in top_var:\n",
    "    print(target_var)\n",
    "    ploting_df = daily_stat_agg[daily_stat_agg['topic']==target_var]\n",
    "\n",
    "    ploting_df['prop'] = ploting_df['prop']*100\n",
    "    # ploting_df['net_MA7'] = ploting_df['prop'].rolling(7).mean()\n",
    "    ploting_df['date'] = ploting_df['date'].map(lambda x:datetime.strptime(x, '%Y%m%d'))\n",
    "    ploting_df['date'] = ploting_df['date'].map(lambda x:datetime.strftime(x, '%Y-%m'))\n",
    "    mos_df = ploting_df.groupby('date')['prop'].mean()\n",
    "    var_df = pd.concat([var_df, mos_df], axis=1)"
   ]
  },
  {
   "cell_type": "code",
   "execution_count": 32,
   "id": "bd1f956d",
   "metadata": {},
   "outputs": [],
   "source": [
    "var_df.columns = top_var\n",
    "var_df = var_df.transpose()\n",
    "var_df = round(var_df,2)\n",
    "var_df.to_csv('twitter_sentiment_df.csv')"
   ]
  },
  {
   "cell_type": "markdown",
   "id": "c8ba5b19",
   "metadata": {},
   "source": [
    "# Topic Interaction Pattern"
   ]
  },
  {
   "cell_type": "code",
   "execution_count": 33,
   "id": "40f53459",
   "metadata": {},
   "outputs": [
    {
     "name": "stdout",
     "output_type": "stream",
     "text": [
      "202009\n",
      "202010\n",
      "202011\n",
      "202012\n",
      "202101\n",
      "202102\n",
      "202103\n",
      "202104\n",
      "202105\n"
     ]
    }
   ],
   "source": [
    "df_stat = pd.DataFrame()\n",
    "for date in date_ls:\n",
    "    \n",
    "    target_file_ls = [file for file in topic_files if file[0:6]==date]\n",
    "    for target_file in target_file_ls: \n",
    "        df = pd.read_csv(data_dir+target_file)\n",
    "        df['topic'] = df['topic'].map(topic_decoded_dict)\n",
    "        df = df[df['mode']!='prim']\n",
    "        df = df[['dt','quote_num', 'reply_num', 'retweet_num', 'fav_num','antivax_pred', 'topic']]\n",
    "        df_stat = df_stat.append(df)\n",
    "        \n",
    "    print(date)"
   ]
  },
  {
   "cell_type": "code",
   "execution_count": 34,
   "id": "9fdee6ac",
   "metadata": {},
   "outputs": [],
   "source": [
    "df_stat = df_stat[df_stat['dt'].isna()==False]\n",
    "df_stat['dt'] = df_stat['dt'].map(lambda x:datetime.strptime(x,'%a %b %d %H:%M:%S +0000 %Y'))"
   ]
  },
  {
   "cell_type": "code",
   "execution_count": 35,
   "id": "352a111b",
   "metadata": {
    "scrolled": true
   },
   "outputs": [],
   "source": [
    "df_stat['active_interaction']= df_stat['quote_num']+df_stat['reply_num']+df_stat['retweet_num']"
   ]
  },
  {
   "cell_type": "code",
   "execution_count": 36,
   "id": "a95e5b63",
   "metadata": {
    "scrolled": true
   },
   "outputs": [],
   "source": [
    "df_stat['antivax_pred']=df_stat['antivax_pred'].map({0:'Non-hesitant', 1:'hesitant'})"
   ]
  },
  {
   "cell_type": "code",
   "execution_count": 37,
   "id": "b3962421",
   "metadata": {},
   "outputs": [],
   "source": [
    "var_ls = list(set(df_stat['topic']))\n",
    "var_ls.remove('IR')\n",
    "var_ls.remove('Vaccine General')"
   ]
  },
  {
   "cell_type": "code",
   "execution_count": 38,
   "id": "8a17a76d",
   "metadata": {
    "scrolled": true
   },
   "outputs": [],
   "source": [
    "for topic_var in var_ls: \n",
    "    plot_df = df_stat[df_stat['topic']==topic_var]\n",
    "\n",
    "    plot_df.columns = ['dt', 'quote_num', 'reply_num', 'retweet_num', 'fav_num',\n",
    "       'Attitude', 'topic', 'active_interaction']\n",
    "    \n",
    "    fig = px.scatter(plot_df, x='active_interaction', y='fav_num', log_x=True,log_y=True, \n",
    "                    template ='simple_white', \n",
    "                     title = f'Twitter Interaction Statistics for {topic_var}')\n",
    "    fig.update_traces(marker = dict(opacity=0.01))\n",
    "    fig.update_xaxes(title_text = 'Active Interactions')\n",
    "    fig.update_yaxes(title_text = 'Passive Interactions')\n",
    "\n",
    "    fig.write_html(f'interaction_stats_{topic_var}.html')"
   ]
  },
  {
   "cell_type": "markdown",
   "id": "5e5c1507",
   "metadata": {},
   "source": [
    "# Topic Distribution by location"
   ]
  },
  {
   "cell_type": "code",
   "execution_count": 62,
   "id": "a588d0ef",
   "metadata": {
    "scrolled": true
   },
   "outputs": [
    {
     "name": "stdout",
     "output_type": "stream",
     "text": [
      "20200914.csv\n",
      "20200915.csv\n",
      "20200916.csv\n"
     ]
    },
    {
     "name": "stderr",
     "output_type": "stream",
     "text": [
      "C:\\Users\\user\\anaconda3\\lib\\site-packages\\IPython\\core\\interactiveshell.py:3165: DtypeWarning:\n",
      "\n",
      "Columns (3) have mixed types.Specify dtype option on import or set low_memory=False.\n",
      "\n"
     ]
    },
    {
     "name": "stdout",
     "output_type": "stream",
     "text": [
      "20200917.csv\n",
      "20200918.csv\n",
      "20200919.csv\n",
      "20200920.csv\n",
      "20200921.csv\n",
      "20200922.csv\n",
      "20200923.csv\n",
      "20200924.csv\n",
      "20200925.csv\n",
      "20200926.csv\n",
      "20200927.csv\n",
      "20200928.csv\n",
      "20200929.csv\n",
      "20200930.csv\n",
      "20201001.csv\n",
      "20201002.csv\n",
      "20201003.csv\n",
      "20201004.csv\n",
      "20201005.csv\n",
      "20201006.csv\n",
      "20201007.csv\n",
      "20201008.csv\n",
      "20201009.csv\n",
      "20201010.csv\n",
      "20201011.csv\n",
      "20201012.csv\n",
      "20201013.csv\n",
      "20201014.csv\n",
      "20201015.csv\n",
      "20201016.csv\n",
      "20201017.csv\n",
      "20201018.csv\n",
      "20201019.csv\n",
      "20201020.csv\n",
      "20201021.csv\n",
      "20201022.csv\n",
      "20201023.csv\n",
      "20201024.csv\n",
      "20201025.csv\n",
      "20201026.csv\n",
      "20201027.csv\n",
      "20201028.csv\n",
      "20201029.csv\n",
      "20201030.csv\n",
      "20201031.csv\n",
      "20201101.csv\n",
      "20201102.csv\n",
      "20201103.csv\n",
      "20201104.csv\n",
      "20201105.csv\n",
      "20201106.csv\n",
      "20201107.csv\n",
      "20201108.csv\n",
      "20201109.csv\n",
      "20201110.csv\n",
      "20201111.csv\n",
      "20201112.csv\n",
      "20201113.csv\n",
      "20201114.csv\n",
      "20201115.csv\n",
      "20201116.csv\n",
      "20201117.csv\n",
      "20201118.csv\n",
      "20201119.csv\n",
      "20201120.csv\n",
      "20201121.csv\n",
      "20201122.csv\n",
      "20201123.csv\n",
      "20201124.csv\n",
      "20201125.csv\n",
      "20201126.csv\n",
      "20201127.csv\n",
      "20201128.csv\n",
      "20201129.csv\n",
      "20201130.csv\n",
      "20201201.csv\n",
      "20201202.csv\n",
      "20201203.csv\n",
      "20201204.csv\n",
      "20201205.csv\n",
      "20201206.csv\n",
      "20201207.csv\n",
      "20201208.csv\n",
      "20201209.csv\n",
      "20201210.csv\n",
      "20201211.csv\n",
      "20201212.csv\n",
      "20201213.csv\n",
      "20201214.csv\n",
      "20201215.csv\n",
      "20201216.csv\n",
      "20201217.csv\n",
      "20201218.csv\n",
      "20201219.csv\n",
      "20201220.csv\n",
      "20201221.csv\n",
      "20201222.csv\n",
      "20201223.csv\n",
      "20201224.csv\n",
      "20201225.csv\n",
      "20201226.csv\n",
      "20201227.csv\n",
      "20201228.csv\n",
      "20201229.csv\n",
      "20201230.csv\n",
      "20201231.csv\n",
      "20210101.csv\n",
      "20210102.csv\n",
      "20210103.csv\n",
      "20210104.csv\n",
      "20210105.csv\n",
      "20210106.csv\n",
      "20210107.csv\n",
      "20210108.csv\n",
      "20210109.csv\n",
      "20210110.csv\n",
      "20210111.csv\n",
      "20210112.csv\n",
      "20210113.csv\n",
      "20210114.csv\n",
      "20210115.csv\n",
      "20210116.csv\n",
      "20210117.csv\n",
      "20210118.csv\n",
      "20210119.csv\n",
      "20210120.csv\n",
      "20210121.csv\n",
      "20210122.csv\n",
      "20210123.csv\n",
      "20210124.csv\n",
      "20210125.csv\n",
      "20210126.csv\n",
      "20210127.csv\n",
      "20210128.csv\n",
      "20210129.csv\n",
      "20210130.csv\n",
      "20210131.csv\n",
      "20210201.csv\n",
      "20210202.csv\n",
      "20210203.csv\n",
      "20210204.csv\n",
      "20210205.csv\n",
      "20210206.csv\n",
      "20210207.csv\n",
      "20210208.csv\n",
      "20210209.csv\n",
      "20210210.csv\n",
      "20210211.csv\n",
      "20210212.csv\n",
      "20210213.csv\n",
      "20210214.csv\n",
      "20210215.csv\n",
      "20210216.csv\n",
      "20210217.csv\n",
      "20210218.csv\n",
      "20210219.csv\n",
      "20210220.csv\n",
      "20210221.csv\n",
      "20210222.csv\n",
      "20210223.csv\n",
      "20210224.csv\n",
      "20210225.csv\n",
      "20210226.csv\n",
      "20210227.csv\n",
      "20210228.csv\n",
      "20210301.csv\n",
      "20210302.csv\n",
      "20210303.csv\n",
      "20210304.csv\n",
      "20210305.csv\n",
      "20210306.csv\n",
      "20210307.csv\n",
      "20210308.csv\n",
      "20210309.csv\n",
      "20210310.csv\n",
      "20210311.csv\n",
      "20210312.csv\n",
      "20210313.csv\n",
      "20210314.csv\n",
      "20210315.csv\n",
      "20210316.csv\n",
      "20210317.csv\n",
      "20210318.csv\n",
      "20210319.csv\n",
      "20210320.csv\n",
      "20210321.csv\n",
      "20210322.csv\n",
      "20210323.csv\n",
      "20210324.csv\n",
      "20210325.csv\n",
      "20210326.csv\n",
      "20210327.csv\n",
      "20210328.csv\n",
      "20210329.csv\n",
      "20210330.csv\n",
      "20210331.csv\n",
      "20210401.csv\n",
      "20210402.csv\n",
      "20210403.csv\n",
      "20210404.csv\n",
      "20210405.csv\n",
      "20210406.csv\n",
      "20210407.csv\n",
      "20210408.csv\n",
      "20210409.csv\n",
      "20210410.csv\n",
      "20210411.csv\n",
      "20210412.csv\n",
      "20210413.csv\n",
      "20210414.csv\n",
      "20210415.csv\n",
      "20210416.csv\n",
      "20210417.csv\n",
      "20210418.csv\n",
      "20210419.csv\n",
      "20210420.csv\n",
      "20210421.csv\n",
      "20210422.csv\n",
      "20210423.csv\n",
      "20210424.csv\n",
      "20210425.csv\n",
      "20210426.csv\n",
      "20210427.csv\n",
      "20210428.csv\n",
      "20210429.csv\n",
      "20210430.csv\n",
      "20210501.csv\n",
      "20210502.csv\n",
      "20210503.csv\n",
      "20210504.csv\n",
      "20210505.csv\n",
      "20210506.csv\n",
      "20210507.csv\n",
      "20210508.csv\n",
      "20210509.csv\n",
      "20210510.csv\n",
      "20210511.csv\n",
      "20210512.csv\n",
      "20210513.csv\n",
      "20210514.csv\n",
      "20210515.csv\n",
      "20210516.csv\n",
      "20210517.csv\n",
      "20210518.csv\n",
      "20210519.csv\n",
      "20210520.csv\n",
      "20210521.csv\n",
      "20210522.csv\n",
      "20210523.csv\n",
      "20210524.csv\n",
      "20210525.csv\n",
      "20210526.csv\n",
      "20210527.csv\n",
      "20210528.csv\n",
      "20210529.csv\n",
      "20210530.csv\n",
      "20210531.csv\n"
     ]
    }
   ],
   "source": [
    "geo_ls = []\n",
    "geo_linked_df = pd.DataFrame()\n",
    "for indx, file in enumerate(topic_files):\n",
    "    #df = pd.read_csv(data_dir+target_file)\n",
    "    geo_data = pd.read_csv(geo_dir+ f'{indx}_geo.csv')\n",
    "    geo_data['tweet_id'] = geo_data['tweet_id'].map(messy_tweet_id)\n",
    "    geo_data.drop_duplicates(inplace=True)\n",
    "    geo_data = geo_data[['tweet_id', 'tweet_loc']]\n",
    "    geo_linked_df = geo_linked_df.append(geo_data)\n",
    "    geo_ls.append(list(geo_data['tweet_id']))\n",
    "    print(file)"
   ]
  },
  {
   "cell_type": "code",
   "execution_count": 63,
   "id": "a3d89f3c",
   "metadata": {},
   "outputs": [],
   "source": [
    "geo_ls = [_id for subls in geo_ls for _id in subls]"
   ]
  },
  {
   "cell_type": "code",
   "execution_count": 64,
   "id": "f2cf328f",
   "metadata": {
    "scrolled": true
   },
   "outputs": [
    {
     "name": "stdout",
     "output_type": "stream",
     "text": [
      "20200914.csv\n",
      "20200915.csv\n",
      "20200916.csv\n",
      "20200917.csv\n",
      "20200918.csv\n",
      "20200919.csv\n",
      "20200920.csv\n",
      "20200921.csv\n",
      "20200922.csv\n",
      "20200923.csv\n",
      "20200924.csv\n",
      "20200925.csv\n",
      "20200926.csv\n",
      "20200927.csv\n",
      "20200928.csv\n",
      "20200929.csv\n",
      "20200930.csv\n",
      "20201001.csv\n",
      "20201002.csv\n",
      "20201003.csv\n",
      "20201004.csv\n",
      "20201005.csv\n",
      "20201006.csv\n",
      "20201007.csv\n",
      "20201008.csv\n",
      "20201009.csv\n",
      "20201010.csv\n",
      "20201011.csv\n",
      "20201012.csv\n",
      "20201013.csv\n",
      "20201014.csv\n",
      "20201015.csv\n",
      "20201016.csv\n",
      "20201017.csv\n",
      "20201018.csv\n",
      "20201019.csv\n",
      "20201020.csv\n",
      "20201021.csv\n",
      "20201022.csv\n",
      "20201023.csv\n",
      "20201024.csv\n",
      "20201025.csv\n",
      "20201026.csv\n",
      "20201027.csv\n",
      "20201028.csv\n",
      "20201029.csv\n",
      "20201030.csv\n",
      "20201031.csv\n",
      "20201101.csv\n",
      "20201102.csv\n",
      "20201103.csv\n",
      "20201104.csv\n",
      "20201105.csv\n",
      "20201106.csv\n",
      "20201107.csv\n",
      "20201108.csv\n",
      "20201109.csv\n",
      "20201110.csv\n",
      "20201111.csv\n",
      "20201112.csv\n",
      "20201113.csv\n",
      "20201114.csv\n",
      "20201115.csv\n",
      "20201116.csv\n",
      "20201117.csv\n",
      "20201118.csv\n",
      "20201119.csv\n",
      "20201120.csv\n",
      "20201121.csv\n",
      "20201122.csv\n",
      "20201123.csv\n",
      "20201124.csv\n",
      "20201125.csv\n",
      "20201126.csv\n",
      "20201127.csv\n",
      "20201128.csv\n",
      "20201129.csv\n",
      "20201130.csv\n",
      "20201201.csv\n",
      "20201202.csv\n",
      "20201203.csv\n",
      "20201204.csv\n",
      "20201205.csv\n",
      "20201206.csv\n",
      "20201207.csv\n",
      "20201208.csv\n",
      "20201209.csv\n",
      "20201210.csv\n",
      "20201211.csv\n",
      "20201212.csv\n",
      "20201213.csv\n",
      "20201214.csv\n",
      "20201215.csv\n",
      "20201216.csv\n",
      "20201217.csv\n",
      "20201218.csv\n",
      "20201219.csv\n",
      "20201220.csv\n",
      "20201221.csv\n",
      "20201222.csv\n",
      "20201223.csv\n",
      "20201224.csv\n",
      "20201225.csv\n",
      "20201226.csv\n",
      "20201227.csv\n",
      "20201228.csv\n",
      "20201229.csv\n",
      "20201230.csv\n",
      "20201231.csv\n",
      "20210101.csv\n",
      "20210102.csv\n",
      "20210103.csv\n",
      "20210104.csv\n",
      "20210105.csv\n",
      "20210106.csv\n",
      "20210107.csv\n",
      "20210108.csv\n",
      "20210109.csv\n",
      "20210110.csv\n",
      "20210111.csv\n",
      "20210112.csv\n",
      "20210113.csv\n",
      "20210114.csv\n",
      "20210115.csv\n",
      "20210116.csv\n",
      "20210117.csv\n",
      "20210118.csv\n",
      "20210119.csv\n",
      "20210120.csv\n",
      "20210121.csv\n",
      "20210122.csv\n",
      "20210123.csv\n",
      "20210124.csv\n",
      "20210125.csv\n",
      "20210126.csv\n",
      "20210127.csv\n",
      "20210128.csv\n",
      "20210129.csv\n",
      "20210130.csv\n",
      "20210131.csv\n",
      "20210201.csv\n",
      "20210202.csv\n",
      "20210203.csv\n",
      "20210204.csv\n",
      "20210205.csv\n",
      "20210206.csv\n",
      "20210207.csv\n",
      "20210208.csv\n",
      "20210209.csv\n",
      "20210210.csv\n",
      "20210211.csv\n",
      "20210212.csv\n",
      "20210213.csv\n",
      "20210214.csv\n",
      "20210215.csv\n",
      "20210216.csv\n",
      "20210217.csv\n",
      "20210218.csv\n",
      "20210219.csv\n",
      "20210220.csv\n",
      "20210221.csv\n",
      "20210222.csv\n",
      "20210223.csv\n",
      "20210224.csv\n",
      "20210225.csv\n",
      "20210226.csv\n",
      "20210227.csv\n",
      "20210228.csv\n",
      "20210301.csv\n",
      "20210302.csv\n",
      "20210303.csv\n",
      "20210304.csv\n",
      "20210305.csv\n",
      "20210306.csv\n",
      "20210307.csv\n",
      "20210308.csv\n",
      "20210309.csv\n",
      "20210310.csv\n",
      "20210311.csv\n",
      "20210312.csv\n",
      "20210313.csv\n",
      "20210314.csv\n",
      "20210315.csv\n",
      "20210316.csv\n",
      "20210317.csv\n",
      "20210318.csv\n",
      "20210319.csv\n",
      "20210320.csv\n",
      "20210321.csv\n",
      "20210322.csv\n",
      "20210323.csv\n",
      "20210324.csv\n",
      "20210325.csv\n",
      "20210326.csv\n",
      "20210327.csv\n",
      "20210328.csv\n",
      "20210329.csv\n",
      "20210330.csv\n",
      "20210331.csv\n",
      "20210401.csv\n",
      "20210402.csv\n",
      "20210403.csv\n",
      "20210404.csv\n",
      "20210405.csv\n",
      "20210406.csv\n",
      "20210407.csv\n",
      "20210408.csv\n",
      "20210409.csv\n",
      "20210410.csv\n",
      "20210411.csv\n",
      "20210412.csv\n",
      "20210413.csv\n",
      "20210414.csv\n",
      "20210415.csv\n",
      "20210416.csv\n",
      "20210417.csv\n",
      "20210418.csv\n",
      "20210419.csv\n",
      "20210420.csv\n",
      "20210421.csv\n",
      "20210422.csv\n",
      "20210423.csv\n",
      "20210424.csv\n",
      "20210425.csv\n",
      "20210426.csv\n",
      "20210427.csv\n",
      "20210428.csv\n",
      "20210429.csv\n",
      "20210430.csv\n",
      "20210501.csv\n",
      "20210502.csv\n",
      "20210503.csv\n",
      "20210504.csv\n",
      "20210505.csv\n",
      "20210506.csv\n",
      "20210507.csv\n",
      "20210508.csv\n",
      "20210509.csv\n",
      "20210510.csv\n",
      "20210511.csv\n",
      "20210512.csv\n",
      "20210513.csv\n",
      "20210514.csv\n",
      "20210515.csv\n",
      "20210516.csv\n",
      "20210517.csv\n",
      "20210518.csv\n",
      "20210519.csv\n",
      "20210520.csv\n",
      "20210521.csv\n",
      "20210522.csv\n",
      "20210523.csv\n",
      "20210524.csv\n",
      "20210525.csv\n",
      "20210526.csv\n",
      "20210527.csv\n",
      "20210528.csv\n",
      "20210529.csv\n",
      "20210530.csv\n",
      "20210531.csv\n"
     ]
    }
   ],
   "source": [
    "geo_tagged_df = pd.DataFrame()\n",
    "for indx, file in enumerate(topic_files):\n",
    "    df = pd.read_csv(data_dir+file)\n",
    "    df['tweet_id'] = df['tweet_id'].map(messy_tweet_id)\n",
    "    df = df[df['tweet_id'].isin(geo_ls)]\n",
    "    geo_tagged_df = geo_tagged_df.append(df)\n",
    "    print(file)"
   ]
  },
  {
   "cell_type": "code",
   "execution_count": 65,
   "id": "cb526a71",
   "metadata": {},
   "outputs": [],
   "source": [
    "geo_location = geo_linked_df.groupby('tweet_loc').count()"
   ]
  },
  {
   "cell_type": "code",
   "execution_count": 66,
   "id": "5b93b044",
   "metadata": {},
   "outputs": [],
   "source": [
    "locations = list(geo_location.sort_values(by='tweet_id', ascending =False).head(10).index)"
   ]
  },
  {
   "cell_type": "code",
   "execution_count": 78,
   "id": "f78c3349",
   "metadata": {},
   "outputs": [],
   "source": [
    "locations.append('Chile')"
   ]
  },
  {
   "cell_type": "code",
   "execution_count": 79,
   "id": "8bc47292",
   "metadata": {
    "scrolled": true
   },
   "outputs": [
    {
     "name": "stdout",
     "output_type": "stream",
     "text": [
      "Indonesia\n",
      "United States\n",
      "France\n",
      "Argentina\n",
      "Thailand\n",
      "Brazil\n",
      "Canada\n",
      "India\n",
      "Colombia\n",
      "Peru\n",
      "Chile\n"
     ]
    }
   ],
   "source": [
    "loc_topic_distribution_agg = pd.DataFrame()\n",
    "loc_hesitant_agg = pd.DataFrame()\n",
    "\n",
    "for indx, loc in enumerate(locations):\n",
    "    target_df = geo_linked_df[geo_linked_df['tweet_loc']==loc]\n",
    "    target_df =pd.merge(target_df,geo_tagged_df, on='tweet_id', how='left')\n",
    "    target_df.dropna(subset=['dt'], inplace=True)\n",
    "    target_df['topic'] = target_df['topic'].map(topic_decoded_dict)\n",
    "    loc_stat = target_df.groupby('topic')['text'].count()\n",
    "    loc_hesitant = target_df[target_df['antivax_pred']==1].groupby(['topic'])['antivax_pred'].count()/target_df.groupby(['topic'])['antivax_pred'].count()\n",
    "    if indx==0:\n",
    "        loc_topic_distribution_agg = loc_stat\n",
    "        loc_hesitant_agg=loc_hesitant\n",
    "    else:\n",
    "        loc_topic_distribution_agg = pd.merge(loc_topic_distribution_agg, loc_stat, left_index=True, right_index=True)\n",
    "        loc_hesitant_agg = pd.merge(loc_hesitant_agg, loc_hesitant, left_index=True, right_index=True)\n",
    "    print(loc)\n",
    "    "
   ]
  },
  {
   "cell_type": "code",
   "execution_count": 80,
   "id": "e1f4ee36",
   "metadata": {},
   "outputs": [],
   "source": [
    "loc_topic_distribution_agg.columns = locations\n",
    "loc_topic_distribution_agg.reset_index(inplace=True)"
   ]
  },
  {
   "cell_type": "code",
   "execution_count": 81,
   "id": "97049044",
   "metadata": {},
   "outputs": [],
   "source": [
    "loc_topic_distribution_agg=loc_topic_distribution_agg[loc_topic_distribution_agg['topic']!='IR']\n",
    "loc_topic_distribution_agg=loc_topic_distribution_agg[loc_topic_distribution_agg['topic']!='Vaccine General']"
   ]
  },
  {
   "cell_type": "code",
   "execution_count": 82,
   "id": "d5ef1df6",
   "metadata": {},
   "outputs": [
    {
     "data": {
      "text/html": [
       "<div>\n",
       "<style scoped>\n",
       "    .dataframe tbody tr th:only-of-type {\n",
       "        vertical-align: middle;\n",
       "    }\n",
       "\n",
       "    .dataframe tbody tr th {\n",
       "        vertical-align: top;\n",
       "    }\n",
       "\n",
       "    .dataframe thead th {\n",
       "        text-align: right;\n",
       "    }\n",
       "</style>\n",
       "<table border=\"1\" class=\"dataframe\">\n",
       "  <thead>\n",
       "    <tr style=\"text-align: right;\">\n",
       "      <th></th>\n",
       "      <th>topic</th>\n",
       "      <th>Indonesia</th>\n",
       "      <th>United States</th>\n",
       "      <th>France</th>\n",
       "      <th>Argentina</th>\n",
       "      <th>Thailand</th>\n",
       "      <th>Brazil</th>\n",
       "      <th>Canada</th>\n",
       "      <th>India</th>\n",
       "      <th>Colombia</th>\n",
       "      <th>Peru</th>\n",
       "      <th>Chile</th>\n",
       "    </tr>\n",
       "  </thead>\n",
       "  <tbody>\n",
       "    <tr>\n",
       "      <th>1</th>\n",
       "      <td>Vaccine Delivery</td>\n",
       "      <td>147852</td>\n",
       "      <td>168097</td>\n",
       "      <td>55247478</td>\n",
       "      <td>4613924</td>\n",
       "      <td>21752042</td>\n",
       "      <td>32880651</td>\n",
       "      <td>101650</td>\n",
       "      <td>287593</td>\n",
       "      <td>6677944</td>\n",
       "      <td>1084143</td>\n",
       "      <td>693327</td>\n",
       "    </tr>\n",
       "    <tr>\n",
       "      <th>2</th>\n",
       "      <td>Vaccine Effectiveness</td>\n",
       "      <td>14332</td>\n",
       "      <td>24029</td>\n",
       "      <td>5039214</td>\n",
       "      <td>57724</td>\n",
       "      <td>67033502</td>\n",
       "      <td>783694</td>\n",
       "      <td>39910</td>\n",
       "      <td>592054</td>\n",
       "      <td>31545</td>\n",
       "      <td>32156</td>\n",
       "      <td>13821</td>\n",
       "    </tr>\n",
       "    <tr>\n",
       "      <th>4</th>\n",
       "      <td>Vaccine Incentives</td>\n",
       "      <td>625070</td>\n",
       "      <td>125932</td>\n",
       "      <td>10153452</td>\n",
       "      <td>11977004</td>\n",
       "      <td>17307808</td>\n",
       "      <td>4310652</td>\n",
       "      <td>21575</td>\n",
       "      <td>215893</td>\n",
       "      <td>2461405</td>\n",
       "      <td>378527</td>\n",
       "      <td>306210</td>\n",
       "    </tr>\n",
       "    <tr>\n",
       "      <th>5</th>\n",
       "      <td>Vaccine Safety</td>\n",
       "      <td>215</td>\n",
       "      <td>720</td>\n",
       "      <td>3151104</td>\n",
       "      <td>74990</td>\n",
       "      <td>435156</td>\n",
       "      <td>11326</td>\n",
       "      <td>381</td>\n",
       "      <td>470582</td>\n",
       "      <td>1187</td>\n",
       "      <td>157865</td>\n",
       "      <td>2942</td>\n",
       "    </tr>\n",
       "    <tr>\n",
       "      <th>6</th>\n",
       "      <td>Vaccine Trial</td>\n",
       "      <td>142700</td>\n",
       "      <td>2177213</td>\n",
       "      <td>7235935</td>\n",
       "      <td>10232772</td>\n",
       "      <td>36301401</td>\n",
       "      <td>34295463</td>\n",
       "      <td>13624</td>\n",
       "      <td>73103</td>\n",
       "      <td>454044</td>\n",
       "      <td>1668872</td>\n",
       "      <td>309461</td>\n",
       "    </tr>\n",
       "  </tbody>\n",
       "</table>\n",
       "</div>"
      ],
      "text/plain": [
       "                   topic  Indonesia  United States    France  Argentina  \\\n",
       "1       Vaccine Delivery     147852         168097  55247478    4613924   \n",
       "2  Vaccine Effectiveness      14332          24029   5039214      57724   \n",
       "4     Vaccine Incentives     625070         125932  10153452   11977004   \n",
       "5         Vaccine Safety        215            720   3151104      74990   \n",
       "6          Vaccine Trial     142700        2177213   7235935   10232772   \n",
       "\n",
       "   Thailand    Brazil  Canada   India  Colombia     Peru   Chile  \n",
       "1  21752042  32880651  101650  287593   6677944  1084143  693327  \n",
       "2  67033502    783694   39910  592054     31545    32156   13821  \n",
       "4  17307808   4310652   21575  215893   2461405   378527  306210  \n",
       "5    435156     11326     381  470582      1187   157865    2942  \n",
       "6  36301401  34295463   13624   73103    454044  1668872  309461  "
      ]
     },
     "execution_count": 82,
     "metadata": {},
     "output_type": "execute_result"
    }
   ],
   "source": [
    "loc_topic_distribution_agg"
   ]
  },
  {
   "cell_type": "code",
   "execution_count": 83,
   "id": "40768e14",
   "metadata": {},
   "outputs": [],
   "source": [
    "import plotly.express as px"
   ]
  },
  {
   "cell_type": "code",
   "execution_count": 84,
   "id": "053ea6d4",
   "metadata": {
    "scrolled": true
   },
   "outputs": [],
   "source": [
    "for loc in locations:\n",
    "        fig = px.pie(loc_topic_distribution_agg, values=f'{loc}', names='topic',color='topic',\n",
    "                     title=f'Topic Distribution for {loc}')\n",
    "        #fig.update_trace(sort=False)\n",
    "        fig.write_html(f'topic_pie_{loc}.html')"
   ]
  },
  {
   "cell_type": "code",
   "execution_count": 85,
   "id": "c537ef91",
   "metadata": {},
   "outputs": [],
   "source": [
    "loc_hesitant_agg = loc_hesitant_agg*100\n",
    "loc_hesitant_agg.columns = locations\n",
    "loc_hesitant_agg.reset_index(inplace=True)\n",
    "loc_hesitant_agg=loc_hesitant_agg[loc_hesitant_agg['topic']!='IR']\n",
    "loc_hesitant_agg=loc_hesitant_agg[loc_hesitant_agg['topic']!='Vaccine General']\n",
    "\n"
   ]
  },
  {
   "cell_type": "code",
   "execution_count": 86,
   "id": "76d60ec7",
   "metadata": {},
   "outputs": [],
   "source": [
    "\n",
    "for loc in locations:\n",
    "        fig = px.bar(loc_hesitant_agg, y=f'{loc}', x='topic',color='topic',\n",
    "                     title=f'Proportion of Hesitant Posts for {loc}')\n",
    "        fig.update_layout(template='simple_white')\n",
    "        fig.update_xaxes(title_text = 'Topic')\n",
    "        fig.update_yaxes(title_text = 'Percentage of Hesitant Posts')\n",
    "\n",
    "        #fig.update_trace(sort=False)\n",
    "        fig.write_html(f'topic_bar_{loc}.html')"
   ]
  },
  {
   "cell_type": "code",
   "execution_count": null,
   "id": "b097d406",
   "metadata": {},
   "outputs": [],
   "source": []
  }
 ],
 "metadata": {
  "kernelspec": {
   "display_name": "Python 3",
   "language": "python",
   "name": "python3"
  },
  "language_info": {
   "codemirror_mode": {
    "name": "ipython",
    "version": 3
   },
   "file_extension": ".py",
   "mimetype": "text/x-python",
   "name": "python",
   "nbconvert_exporter": "python",
   "pygments_lexer": "ipython3",
   "version": "3.8.8"
  }
 },
 "nbformat": 4,
 "nbformat_minor": 5
}
